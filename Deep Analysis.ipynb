{
 "cells": [
  {
   "cell_type": "markdown",
   "metadata": {},
   "source": [
    "## Guruji Astro Analysis for june-july 2024 : "
   ]
  },
  {
   "cell_type": "markdown",
   "metadata": {},
   "source": [
    "> All the observations during the analysis are provided in comments , yellow color font markdown.\n",
    "\n",
    ">  Some graphs are intuitively explained \n",
    "\n",
    "> All the recommendations are provided in the end\n",
    "\n",
    "> colab link for this notebook : https://drive.google.com/file/d/1ajyspG5ZHpMSWG_uOXonEWJpZzHmB1VA/view?usp=sharing"
   ]
  },
  {
   "cell_type": "code",
   "execution_count": 1,
   "metadata": {},
   "outputs": [],
   "source": [
    "# import libraries\n",
    "import pandas as pd\n",
    "import numpy as np\n",
    "import matplotlib.pyplot as plt\n",
    "import seaborn as sns\n"
   ]
  },
  {
   "cell_type": "markdown",
   "metadata": {},
   "source": [
    "### <font color=\"cyan\"> There are three csv files , let's go one by one and pre-process the data and perform analysis\n",
    "\n",
    "<font color=\"yellow\">  I belive the first link [ june-july 2024 ] in the pdf contains data related to logs of guruji astro for each user interction with the platform in the month of june-july 2024\n",
    "\n",
    "The second link [ recharges for assignment ] contains recharges or transactions made by users for guruji astro \n",
    "\n",
    "Where as the third link [ usersdata for assignment ] contains the data of all the users of guruji astro platform and their interaction with the platform.\n"
   ]
  },
  {
   "cell_type": "markdown",
   "metadata": {},
   "source": [
    "## <font color=\"yellow\"> \"rechargesfor assignment\"  dataset  analysis :"
   ]
  },
  {
   "cell_type": "code",
   "execution_count": 2,
   "metadata": {},
   "outputs": [
    {
     "data": {
      "text/html": [
       "<div>\n",
       "<style scoped>\n",
       "    .dataframe tbody tr th:only-of-type {\n",
       "        vertical-align: middle;\n",
       "    }\n",
       "\n",
       "    .dataframe tbody tr th {\n",
       "        vertical-align: top;\n",
       "    }\n",
       "\n",
       "    .dataframe thead th {\n",
       "        text-align: right;\n",
       "    }\n",
       "</style>\n",
       "<table border=\"1\" class=\"dataframe\">\n",
       "  <thead>\n",
       "    <tr style=\"text-align: right;\">\n",
       "      <th></th>\n",
       "      <th>_id</th>\n",
       "      <th>Uid</th>\n",
       "      <th>Order Id</th>\n",
       "      <th>Status</th>\n",
       "      <th>Amount</th>\n",
       "      <th>Gst</th>\n",
       "      <th>UTC Time</th>\n",
       "      <th>gurujiUser</th>\n",
       "      <th>Gateway</th>\n",
       "      <th>Mode</th>\n",
       "      <th>totalAmount</th>\n",
       "      <th>ISTDate</th>\n",
       "    </tr>\n",
       "  </thead>\n",
       "  <tbody>\n",
       "    <tr>\n",
       "      <th>0</th>\n",
       "      <td>665a173b9efc2e9fa90ab8c3</td>\n",
       "      <td>209937</td>\n",
       "      <td>order_OHCTwUL5S4z9kY</td>\n",
       "      <td>captured</td>\n",
       "      <td>100.0</td>\n",
       "      <td>18.0</td>\n",
       "      <td>2024-05-31T18:30:19.083Z</td>\n",
       "      <td>False</td>\n",
       "      <td>Razorpay</td>\n",
       "      <td>app</td>\n",
       "      <td>118.0</td>\n",
       "      <td>2024-06-01T00:00:19.083Z</td>\n",
       "    </tr>\n",
       "    <tr>\n",
       "      <th>1</th>\n",
       "      <td>665a179c9efc2e9fa90af52a</td>\n",
       "      <td>119321</td>\n",
       "      <td>order_OHCVex44YhZDba</td>\n",
       "      <td>captured</td>\n",
       "      <td>100.0</td>\n",
       "      <td>18.0</td>\n",
       "      <td>2024-05-31T18:31:56.624Z</td>\n",
       "      <td>True</td>\n",
       "      <td>Razorpay</td>\n",
       "      <td>ios</td>\n",
       "      <td>118.0</td>\n",
       "      <td>2024-06-01T00:01:56.624Z</td>\n",
       "    </tr>\n",
       "    <tr>\n",
       "      <th>2</th>\n",
       "      <td>665a18099efc2e9fa90b46b6</td>\n",
       "      <td>119321</td>\n",
       "      <td>order_OHCXZM6fCvpYVu</td>\n",
       "      <td>captured</td>\n",
       "      <td>920.0</td>\n",
       "      <td>144.0</td>\n",
       "      <td>2024-05-31T18:33:45.091Z</td>\n",
       "      <td>True</td>\n",
       "      <td>Razorpay</td>\n",
       "      <td>ios</td>\n",
       "      <td>1064.0</td>\n",
       "      <td>2024-06-01T00:03:45.091Z</td>\n",
       "    </tr>\n",
       "    <tr>\n",
       "      <th>3</th>\n",
       "      <td>665a1a1d9efc2e9fa90cd84c</td>\n",
       "      <td>212656</td>\n",
       "      <td>order_OHCgwQVPGVdZfj</td>\n",
       "      <td>captured</td>\n",
       "      <td>200.0</td>\n",
       "      <td>36.0</td>\n",
       "      <td>2024-05-31T18:42:37.431Z</td>\n",
       "      <td>False</td>\n",
       "      <td>Razorpay</td>\n",
       "      <td>app</td>\n",
       "      <td>236.0</td>\n",
       "      <td>2024-06-01T00:12:37.431Z</td>\n",
       "    </tr>\n",
       "    <tr>\n",
       "      <th>4</th>\n",
       "      <td>665a1c599efc2e9fa90e4592</td>\n",
       "      <td>209937</td>\n",
       "      <td>order_OHCr0nTyLd2re5</td>\n",
       "      <td>captured</td>\n",
       "      <td>100.0</td>\n",
       "      <td>18.0</td>\n",
       "      <td>2024-05-31T18:52:09.436Z</td>\n",
       "      <td>False</td>\n",
       "      <td>Razorpay</td>\n",
       "      <td>app</td>\n",
       "      <td>118.0</td>\n",
       "      <td>2024-06-01T00:22:09.436Z</td>\n",
       "    </tr>\n",
       "  </tbody>\n",
       "</table>\n",
       "</div>"
      ],
      "text/plain": [
       "                        _id     Uid              Order Id    Status  Amount  \\\n",
       "0  665a173b9efc2e9fa90ab8c3  209937  order_OHCTwUL5S4z9kY  captured   100.0   \n",
       "1  665a179c9efc2e9fa90af52a  119321  order_OHCVex44YhZDba  captured   100.0   \n",
       "2  665a18099efc2e9fa90b46b6  119321  order_OHCXZM6fCvpYVu  captured   920.0   \n",
       "3  665a1a1d9efc2e9fa90cd84c  212656  order_OHCgwQVPGVdZfj  captured   200.0   \n",
       "4  665a1c599efc2e9fa90e4592  209937  order_OHCr0nTyLd2re5  captured   100.0   \n",
       "\n",
       "     Gst                  UTC Time gurujiUser   Gateway Mode  totalAmount  \\\n",
       "0   18.0  2024-05-31T18:30:19.083Z      False  Razorpay  app        118.0   \n",
       "1   18.0  2024-05-31T18:31:56.624Z       True  Razorpay  ios        118.0   \n",
       "2  144.0  2024-05-31T18:33:45.091Z       True  Razorpay  ios       1064.0   \n",
       "3   36.0  2024-05-31T18:42:37.431Z      False  Razorpay  app        236.0   \n",
       "4   18.0  2024-05-31T18:52:09.436Z      False  Razorpay  app        118.0   \n",
       "\n",
       "                    ISTDate  \n",
       "0  2024-06-01T00:00:19.083Z  \n",
       "1  2024-06-01T00:01:56.624Z  \n",
       "2  2024-06-01T00:03:45.091Z  \n",
       "3  2024-06-01T00:12:37.431Z  \n",
       "4  2024-06-01T00:22:09.436Z  "
      ]
     },
     "execution_count": 2,
     "metadata": {},
     "output_type": "execute_result"
    }
   ],
   "source": [
    "# Read the recharge CSV file\n",
    "df = pd.read_csv('rechargesfor assignment - rechargesfor assignment.csv')\n",
    "\n",
    "# Display the first few rows\n",
    "df.head()"
   ]
  },
  {
   "cell_type": "markdown",
   "metadata": {},
   "source": [
    "### <font color=\"yellow\"> Assumptions about what the features represent : \n",
    "\n",
    ">id could represent unique transaction id for each user\n",
    "\n",
    ">uid could represent unique user id\n",
    "\n",
    ">orderid represent the order id of the transaction\n",
    "\n",
    ">amount represent the amount of the transaction\n",
    "\n",
    ">date represent the date of the transaction\n",
    "\n",
    ">status represent the status of the transaction\n",
    "\n",
    ">gst tells us the  gst amount per transaction\n",
    "\n",
    ">utc time & ist time represent the time and date of the transaction\n",
    "\n",
    ">gurujiuser represent whether the transaction is made by already existing guruji user or not\n",
    "\n",
    ">mode represent the mode of interaction with the platform\n",
    "\n",
    ">totalamount represent inclusive of all the fees and taxes\n",
    "\n",
    ">gateway represent the payment gateway used for the transaction"
   ]
  },
  {
   "cell_type": "code",
   "execution_count": 3,
   "metadata": {},
   "outputs": [
    {
     "data": {
      "text/plain": [
       "Index(['_id', 'Uid', 'Order Id', 'Status', 'Amount', 'Gst', 'UTC Time',\n",
       "       'gurujiUser', 'Gateway', 'Mode', 'totalAmount', 'ISTDate'],\n",
       "      dtype='object')"
      ]
     },
     "execution_count": 3,
     "metadata": {},
     "output_type": "execute_result"
    }
   ],
   "source": [
    "# column names\n",
    "df.columns"
   ]
  },
  {
   "cell_type": "code",
   "execution_count": 4,
   "metadata": {},
   "outputs": [
    {
     "data": {
      "text/plain": [
       "(13515, 12)"
      ]
     },
     "execution_count": 4,
     "metadata": {},
     "output_type": "execute_result"
    }
   ],
   "source": [
    "# shape \n",
    "df.shape"
   ]
  },
  {
   "cell_type": "markdown",
   "metadata": {},
   "source": [
    "<font color=\"yellow\"> There are 13515 rows and 12 columns in \"rechargesfor assignment\" dataset"
   ]
  },
  {
   "cell_type": "code",
   "execution_count": 5,
   "metadata": {},
   "outputs": [
    {
     "name": "stdout",
     "output_type": "stream",
     "text": [
      "<class 'pandas.core.frame.DataFrame'>\n",
      "RangeIndex: 13515 entries, 0 to 13514\n",
      "Data columns (total 12 columns):\n",
      " #   Column       Non-Null Count  Dtype  \n",
      "---  ------       --------------  -----  \n",
      " 0   _id          13515 non-null  object \n",
      " 1   Uid          13515 non-null  int64  \n",
      " 2   Order Id     13515 non-null  object \n",
      " 3   Status       13515 non-null  object \n",
      " 4   Amount       12565 non-null  float64\n",
      " 5   Gst          13515 non-null  float64\n",
      " 6   UTC Time     13515 non-null  object \n",
      " 7   gurujiUser   12900 non-null  object \n",
      " 8   Gateway      12900 non-null  object \n",
      " 9   Mode         13353 non-null  object \n",
      " 10  totalAmount  12301 non-null  float64\n",
      " 11  ISTDate      13515 non-null  object \n",
      "dtypes: float64(3), int64(1), object(8)\n",
      "memory usage: 1.2+ MB\n"
     ]
    }
   ],
   "source": [
    "df.info()"
   ]
  },
  {
   "cell_type": "markdown",
   "metadata": {},
   "source": [
    "### <font color=\"yellow\"> Based on the above  we can understand that this data is about transactions or payments made by users for guruji astro platform"
   ]
  },
  {
   "cell_type": "code",
   "execution_count": 6,
   "metadata": {},
   "outputs": [
    {
     "data": {
      "text/plain": [
       "_id               0\n",
       "Uid               0\n",
       "Order Id          0\n",
       "Status            0\n",
       "Amount          950\n",
       "Gst               0\n",
       "UTC Time          0\n",
       "gurujiUser      615\n",
       "Gateway         615\n",
       "Mode            162\n",
       "totalAmount    1214\n",
       "ISTDate           0\n",
       "dtype: int64"
      ]
     },
     "execution_count": 6,
     "metadata": {},
     "output_type": "execute_result"
    }
   ],
   "source": [
    "# check for null values\n",
    "df.isnull().sum()"
   ]
  },
  {
   "cell_type": "markdown",
   "metadata": {},
   "source": [
    "> <font color=\"yellow\"> we could see that there are null values in the dataset"
   ]
  },
  {
   "cell_type": "code",
   "execution_count": 7,
   "metadata": {},
   "outputs": [
    {
     "data": {
      "text/plain": [
       "Index(['id', 'uid', 'order id', 'status', 'amount', 'gst', 'utc time',\n",
       "       'gurujiuser', 'gateway', 'mode', 'totalamount', 'istdate'],\n",
       "      dtype='object')"
      ]
     },
     "execution_count": 7,
     "metadata": {},
     "output_type": "execute_result"
    }
   ],
   "source": [
    "df = df.rename(columns={'_id': 'id'})\n",
    "df.columns = df.columns.str.lower()\n",
    "df.columns"
   ]
  },
  {
   "cell_type": "code",
   "execution_count": 8,
   "metadata": {},
   "outputs": [
    {
     "data": {
      "text/plain": [
       "0"
      ]
     },
     "execution_count": 8,
     "metadata": {},
     "output_type": "execute_result"
    }
   ],
   "source": [
    "# check for duplicates\n",
    "df.duplicated().sum()"
   ]
  },
  {
   "cell_type": "markdown",
   "metadata": {},
   "source": [
    "> <font color=\"yellow\"> No duplicate rows are present in curent version of the data"
   ]
  },
  {
   "cell_type": "code",
   "execution_count": 9,
   "metadata": {},
   "outputs": [
    {
     "data": {
      "text/plain": [
       "(13515, 12)"
      ]
     },
     "execution_count": 9,
     "metadata": {},
     "output_type": "execute_result"
    }
   ],
   "source": [
    "df.shape"
   ]
  },
  {
   "cell_type": "code",
   "execution_count": 10,
   "metadata": {},
   "outputs": [
    {
     "data": {
      "text/plain": [
       "13512"
      ]
     },
     "execution_count": 10,
     "metadata": {},
     "output_type": "execute_result"
    }
   ],
   "source": [
    "df[\"id\"].nunique()  "
   ]
  },
  {
   "cell_type": "code",
   "execution_count": 11,
   "metadata": {},
   "outputs": [
    {
     "data": {
      "text/plain": [
       "4509"
      ]
     },
     "execution_count": 11,
     "metadata": {},
     "output_type": "execute_result"
    }
   ],
   "source": [
    "df[\"uid\"].nunique()"
   ]
  },
  {
   "cell_type": "code",
   "execution_count": 12,
   "metadata": {},
   "outputs": [
    {
     "data": {
      "text/html": [
       "<div>\n",
       "<style scoped>\n",
       "    .dataframe tbody tr th:only-of-type {\n",
       "        vertical-align: middle;\n",
       "    }\n",
       "\n",
       "    .dataframe tbody tr th {\n",
       "        vertical-align: top;\n",
       "    }\n",
       "\n",
       "    .dataframe thead th {\n",
       "        text-align: right;\n",
       "    }\n",
       "</style>\n",
       "<table border=\"1\" class=\"dataframe\">\n",
       "  <thead>\n",
       "    <tr style=\"text-align: right;\">\n",
       "      <th></th>\n",
       "      <th>id</th>\n",
       "      <th>uid</th>\n",
       "      <th>order id</th>\n",
       "      <th>status</th>\n",
       "      <th>amount</th>\n",
       "      <th>gst</th>\n",
       "      <th>utc time</th>\n",
       "      <th>gurujiuser</th>\n",
       "      <th>gateway</th>\n",
       "      <th>mode</th>\n",
       "      <th>totalamount</th>\n",
       "      <th>istdate</th>\n",
       "    </tr>\n",
       "  </thead>\n",
       "  <tbody>\n",
       "    <tr>\n",
       "      <th>0</th>\n",
       "      <td>665a173b9efc2e9fa90ab8c3</td>\n",
       "      <td>209937</td>\n",
       "      <td>order_OHCTwUL5S4z9kY</td>\n",
       "      <td>captured</td>\n",
       "      <td>100.0</td>\n",
       "      <td>18.0</td>\n",
       "      <td>2024-05-31T18:30:19.083Z</td>\n",
       "      <td>False</td>\n",
       "      <td>Razorpay</td>\n",
       "      <td>app</td>\n",
       "      <td>118.0</td>\n",
       "      <td>2024-06-01T00:00:19.083Z</td>\n",
       "    </tr>\n",
       "    <tr>\n",
       "      <th>1</th>\n",
       "      <td>665a179c9efc2e9fa90af52a</td>\n",
       "      <td>119321</td>\n",
       "      <td>order_OHCVex44YhZDba</td>\n",
       "      <td>captured</td>\n",
       "      <td>100.0</td>\n",
       "      <td>18.0</td>\n",
       "      <td>2024-05-31T18:31:56.624Z</td>\n",
       "      <td>True</td>\n",
       "      <td>Razorpay</td>\n",
       "      <td>ios</td>\n",
       "      <td>118.0</td>\n",
       "      <td>2024-06-01T00:01:56.624Z</td>\n",
       "    </tr>\n",
       "    <tr>\n",
       "      <th>2</th>\n",
       "      <td>665a18099efc2e9fa90b46b6</td>\n",
       "      <td>119321</td>\n",
       "      <td>order_OHCXZM6fCvpYVu</td>\n",
       "      <td>captured</td>\n",
       "      <td>920.0</td>\n",
       "      <td>144.0</td>\n",
       "      <td>2024-05-31T18:33:45.091Z</td>\n",
       "      <td>True</td>\n",
       "      <td>Razorpay</td>\n",
       "      <td>ios</td>\n",
       "      <td>1064.0</td>\n",
       "      <td>2024-06-01T00:03:45.091Z</td>\n",
       "    </tr>\n",
       "    <tr>\n",
       "      <th>3</th>\n",
       "      <td>665a1a1d9efc2e9fa90cd84c</td>\n",
       "      <td>212656</td>\n",
       "      <td>order_OHCgwQVPGVdZfj</td>\n",
       "      <td>captured</td>\n",
       "      <td>200.0</td>\n",
       "      <td>36.0</td>\n",
       "      <td>2024-05-31T18:42:37.431Z</td>\n",
       "      <td>False</td>\n",
       "      <td>Razorpay</td>\n",
       "      <td>app</td>\n",
       "      <td>236.0</td>\n",
       "      <td>2024-06-01T00:12:37.431Z</td>\n",
       "    </tr>\n",
       "    <tr>\n",
       "      <th>4</th>\n",
       "      <td>665a1c599efc2e9fa90e4592</td>\n",
       "      <td>209937</td>\n",
       "      <td>order_OHCr0nTyLd2re5</td>\n",
       "      <td>captured</td>\n",
       "      <td>100.0</td>\n",
       "      <td>18.0</td>\n",
       "      <td>2024-05-31T18:52:09.436Z</td>\n",
       "      <td>False</td>\n",
       "      <td>Razorpay</td>\n",
       "      <td>app</td>\n",
       "      <td>118.0</td>\n",
       "      <td>2024-06-01T00:22:09.436Z</td>\n",
       "    </tr>\n",
       "  </tbody>\n",
       "</table>\n",
       "</div>"
      ],
      "text/plain": [
       "                         id     uid              order id    status  amount  \\\n",
       "0  665a173b9efc2e9fa90ab8c3  209937  order_OHCTwUL5S4z9kY  captured   100.0   \n",
       "1  665a179c9efc2e9fa90af52a  119321  order_OHCVex44YhZDba  captured   100.0   \n",
       "2  665a18099efc2e9fa90b46b6  119321  order_OHCXZM6fCvpYVu  captured   920.0   \n",
       "3  665a1a1d9efc2e9fa90cd84c  212656  order_OHCgwQVPGVdZfj  captured   200.0   \n",
       "4  665a1c599efc2e9fa90e4592  209937  order_OHCr0nTyLd2re5  captured   100.0   \n",
       "\n",
       "     gst                  utc time gurujiuser   gateway mode  totalamount  \\\n",
       "0   18.0  2024-05-31T18:30:19.083Z      False  Razorpay  app        118.0   \n",
       "1   18.0  2024-05-31T18:31:56.624Z       True  Razorpay  ios        118.0   \n",
       "2  144.0  2024-05-31T18:33:45.091Z       True  Razorpay  ios       1064.0   \n",
       "3   36.0  2024-05-31T18:42:37.431Z      False  Razorpay  app        236.0   \n",
       "4   18.0  2024-05-31T18:52:09.436Z      False  Razorpay  app        118.0   \n",
       "\n",
       "                    istdate  \n",
       "0  2024-06-01T00:00:19.083Z  \n",
       "1  2024-06-01T00:01:56.624Z  \n",
       "2  2024-06-01T00:03:45.091Z  \n",
       "3  2024-06-01T00:12:37.431Z  \n",
       "4  2024-06-01T00:22:09.436Z  "
      ]
     },
     "execution_count": 12,
     "metadata": {},
     "output_type": "execute_result"
    }
   ],
   "source": [
    "df.head()"
   ]
  },
  {
   "cell_type": "code",
   "execution_count": 13,
   "metadata": {},
   "outputs": [
    {
     "data": {
      "text/plain": [
       "3748752.0"
      ]
     },
     "execution_count": 13,
     "metadata": {},
     "output_type": "execute_result"
    }
   ],
   "source": [
    "#  total amount\n",
    "df[\"amount\"].sum()"
   ]
  },
  {
   "cell_type": "code",
   "execution_count": 14,
   "metadata": {},
   "outputs": [
    {
     "data": {
      "text/plain": [
       "656880.84"
      ]
     },
     "execution_count": 14,
     "metadata": {},
     "output_type": "execute_result"
    }
   ],
   "source": [
    "# total gst\n",
    "df[\"gst\"].sum()"
   ]
  },
  {
   "cell_type": "code",
   "execution_count": 15,
   "metadata": {},
   "outputs": [
    {
     "data": {
      "text/plain": [
       "id              object\n",
       "uid              int64\n",
       "order id        object\n",
       "status          object\n",
       "amount         float64\n",
       "gst            float64\n",
       "utc time        object\n",
       "gurujiuser      object\n",
       "gateway         object\n",
       "mode            object\n",
       "totalamount    float64\n",
       "istdate         object\n",
       "dtype: object"
      ]
     },
     "execution_count": 15,
     "metadata": {},
     "output_type": "execute_result"
    }
   ],
   "source": [
    "# get the dtypes\n",
    "df.dtypes"
   ]
  },
  {
   "cell_type": "code",
   "execution_count": 16,
   "metadata": {},
   "outputs": [],
   "source": [
    "# utc time , istdate to datetime\n",
    "df[\"utc time\"] = pd.to_datetime(df[\"utc time\"])\n",
    "df[\"istdate\"] = pd.to_datetime(df[\"istdate\"])\n"
   ]
  },
  {
   "cell_type": "code",
   "execution_count": 17,
   "metadata": {},
   "outputs": [
    {
     "data": {
      "text/plain": [
       "captured    13515\n",
       "Name: status, dtype: int64"
      ]
     },
     "execution_count": 17,
     "metadata": {},
     "output_type": "execute_result"
    }
   ],
   "source": [
    "# status value counts\n",
    "df[\"status\"].value_counts()"
   ]
  },
  {
   "cell_type": "markdown",
   "metadata": {},
   "source": [
    ">### <font color=\"yellow\"> Null value treatment :"
   ]
  },
  {
   "cell_type": "code",
   "execution_count": 18,
   "metadata": {},
   "outputs": [
    {
     "data": {
      "text/plain": [
       "True     6658\n",
       "False    6242\n",
       "NaN       615\n",
       "Name: gurujiuser, dtype: int64"
      ]
     },
     "execution_count": 18,
     "metadata": {},
     "output_type": "execute_result"
    }
   ],
   "source": [
    "# includes null values in value counts\n",
    "df[\"gurujiuser\"].value_counts(dropna=False)"
   ]
  },
  {
   "cell_type": "code",
   "execution_count": 19,
   "metadata": {},
   "outputs": [
    {
     "data": {
      "text/plain": [
       "id                0\n",
       "uid               0\n",
       "order id          0\n",
       "status            0\n",
       "amount          950\n",
       "gst               0\n",
       "utc time          0\n",
       "gurujiuser      615\n",
       "gateway         615\n",
       "mode            162\n",
       "totalamount    1214\n",
       "istdate           0\n",
       "dtype: int64"
      ]
     },
     "execution_count": 19,
     "metadata": {},
     "output_type": "execute_result"
    }
   ],
   "source": [
    "df.isnull().sum()"
   ]
  },
  {
   "cell_type": "markdown",
   "metadata": {},
   "source": [
    ">#### <font color=\"yellow\"> We could see that where there gurujiuser is null , gateway is also null : \n",
    "\n",
    "This could be data entry mistake or a new category of users , for now we fill them with \"unknown\" or \"data_not_available\"\n",
    "since it is a catogory feature \n",
    "\n",
    "We can't perform a group by with respect to any other columns as total unique values are less and fill the NaN values under these\n",
    "columns with Mode."
   ]
  },
  {
   "cell_type": "code",
   "execution_count": 20,
   "metadata": {},
   "outputs": [
    {
     "data": {
      "text/html": [
       "<div>\n",
       "<style scoped>\n",
       "    .dataframe tbody tr th:only-of-type {\n",
       "        vertical-align: middle;\n",
       "    }\n",
       "\n",
       "    .dataframe tbody tr th {\n",
       "        vertical-align: top;\n",
       "    }\n",
       "\n",
       "    .dataframe thead th {\n",
       "        text-align: right;\n",
       "    }\n",
       "</style>\n",
       "<table border=\"1\" class=\"dataframe\">\n",
       "  <thead>\n",
       "    <tr style=\"text-align: right;\">\n",
       "      <th></th>\n",
       "      <th>id</th>\n",
       "      <th>uid</th>\n",
       "      <th>order id</th>\n",
       "      <th>status</th>\n",
       "      <th>amount</th>\n",
       "      <th>gst</th>\n",
       "      <th>utc time</th>\n",
       "      <th>gurujiuser</th>\n",
       "      <th>gateway</th>\n",
       "      <th>mode</th>\n",
       "      <th>totalamount</th>\n",
       "      <th>istdate</th>\n",
       "    </tr>\n",
       "  </thead>\n",
       "  <tbody>\n",
       "    <tr>\n",
       "      <th>472</th>\n",
       "      <td>665d969b82e488c5ed6102dc</td>\n",
       "      <td>215078</td>\n",
       "      <td>order_OIFZQPxEmnG54y</td>\n",
       "      <td>captured</td>\n",
       "      <td>NaN</td>\n",
       "      <td>18.0</td>\n",
       "      <td>2024-06-03 10:10:35.455000+00:00</td>\n",
       "      <td>NaN</td>\n",
       "      <td>NaN</td>\n",
       "      <td>app</td>\n",
       "      <td>118.0</td>\n",
       "      <td>2024-06-03 15:40:35.455000+00:00</td>\n",
       "    </tr>\n",
       "    <tr>\n",
       "      <th>473</th>\n",
       "      <td>665d96a982e488c5ed61048a</td>\n",
       "      <td>3701</td>\n",
       "      <td>order_OIFZg9g4WpxaXr</td>\n",
       "      <td>captured</td>\n",
       "      <td>NaN</td>\n",
       "      <td>36.0</td>\n",
       "      <td>2024-06-03 10:10:49.873000+00:00</td>\n",
       "      <td>NaN</td>\n",
       "      <td>NaN</td>\n",
       "      <td>ios</td>\n",
       "      <td>266.0</td>\n",
       "      <td>2024-06-03 15:40:49.873000+00:00</td>\n",
       "    </tr>\n",
       "    <tr>\n",
       "      <th>474</th>\n",
       "      <td>665d981982e488c5ed61f671</td>\n",
       "      <td>110483</td>\n",
       "      <td>order_OIFg93xId1zhJz</td>\n",
       "      <td>captured</td>\n",
       "      <td>NaN</td>\n",
       "      <td>36.0</td>\n",
       "      <td>2024-06-03 10:16:57.160000+00:00</td>\n",
       "      <td>NaN</td>\n",
       "      <td>NaN</td>\n",
       "      <td>app</td>\n",
       "      <td>266.0</td>\n",
       "      <td>2024-06-03 15:46:57.160000+00:00</td>\n",
       "    </tr>\n",
       "    <tr>\n",
       "      <th>475</th>\n",
       "      <td>665d991b5e534c8a59d5740c</td>\n",
       "      <td>116586</td>\n",
       "      <td>order_OIFkgdqYY8Z9j0</td>\n",
       "      <td>captured</td>\n",
       "      <td>NaN</td>\n",
       "      <td>36.0</td>\n",
       "      <td>2024-06-03 10:21:15.128000+00:00</td>\n",
       "      <td>NaN</td>\n",
       "      <td>NaN</td>\n",
       "      <td>ios</td>\n",
       "      <td>266.0</td>\n",
       "      <td>2024-06-03 15:51:15.128000+00:00</td>\n",
       "    </tr>\n",
       "    <tr>\n",
       "      <th>476</th>\n",
       "      <td>665d9a2082e488c5ed636066</td>\n",
       "      <td>203984</td>\n",
       "      <td>order_OIFpHU2G16kqkj</td>\n",
       "      <td>captured</td>\n",
       "      <td>NaN</td>\n",
       "      <td>180.0</td>\n",
       "      <td>2024-06-03 10:25:36.074000+00:00</td>\n",
       "      <td>NaN</td>\n",
       "      <td>NaN</td>\n",
       "      <td>app</td>\n",
       "      <td>1180.0</td>\n",
       "      <td>2024-06-03 15:55:36.074000+00:00</td>\n",
       "    </tr>\n",
       "    <tr>\n",
       "      <th>...</th>\n",
       "      <td>...</td>\n",
       "      <td>...</td>\n",
       "      <td>...</td>\n",
       "      <td>...</td>\n",
       "      <td>...</td>\n",
       "      <td>...</td>\n",
       "      <td>...</td>\n",
       "      <td>...</td>\n",
       "      <td>...</td>\n",
       "      <td>...</td>\n",
       "      <td>...</td>\n",
       "      <td>...</td>\n",
       "    </tr>\n",
       "    <tr>\n",
       "      <th>1082</th>\n",
       "      <td>6661d669940da60067718073</td>\n",
       "      <td>95453</td>\n",
       "      <td>order_OJWeBDAe71xv1D</td>\n",
       "      <td>captured</td>\n",
       "      <td>125.0</td>\n",
       "      <td>18.0</td>\n",
       "      <td>2024-06-06 15:31:53.084000+00:00</td>\n",
       "      <td>NaN</td>\n",
       "      <td>NaN</td>\n",
       "      <td>app</td>\n",
       "      <td>143.0</td>\n",
       "      <td>2024-06-06 21:01:53.084000+00:00</td>\n",
       "    </tr>\n",
       "    <tr>\n",
       "      <th>1083</th>\n",
       "      <td>6661d6c0940da6006771d0bd</td>\n",
       "      <td>112086</td>\n",
       "      <td>order_OJWfiZlkQYIpTB</td>\n",
       "      <td>captured</td>\n",
       "      <td>1200.0</td>\n",
       "      <td>180.0</td>\n",
       "      <td>2024-06-06 15:33:20.443000+00:00</td>\n",
       "      <td>NaN</td>\n",
       "      <td>NaN</td>\n",
       "      <td>app</td>\n",
       "      <td>1380.0</td>\n",
       "      <td>2024-06-06 21:03:20.443000+00:00</td>\n",
       "    </tr>\n",
       "    <tr>\n",
       "      <th>1084</th>\n",
       "      <td>6661d704940da6006771fad7</td>\n",
       "      <td>97637</td>\n",
       "      <td>order_OJWguaZcxB7aB9</td>\n",
       "      <td>captured</td>\n",
       "      <td>250.0</td>\n",
       "      <td>36.0</td>\n",
       "      <td>2024-06-06 15:34:28.250000+00:00</td>\n",
       "      <td>NaN</td>\n",
       "      <td>NaN</td>\n",
       "      <td>app</td>\n",
       "      <td>286.0</td>\n",
       "      <td>2024-06-06 21:04:28.250000+00:00</td>\n",
       "    </tr>\n",
       "    <tr>\n",
       "      <th>1085</th>\n",
       "      <td>6661d716940da6006771fb98</td>\n",
       "      <td>96275</td>\n",
       "      <td>order_OJWhEoTZuAgfYx</td>\n",
       "      <td>captured</td>\n",
       "      <td>200.0</td>\n",
       "      <td>36.0</td>\n",
       "      <td>2024-06-06 15:34:46.780000+00:00</td>\n",
       "      <td>NaN</td>\n",
       "      <td>NaN</td>\n",
       "      <td>ios</td>\n",
       "      <td>236.0</td>\n",
       "      <td>2024-06-06 21:04:46.780000+00:00</td>\n",
       "    </tr>\n",
       "    <tr>\n",
       "      <th>1086</th>\n",
       "      <td>6661d7a7940da600677279cb</td>\n",
       "      <td>216702</td>\n",
       "      <td>order_OJWjmUC1I92h0b</td>\n",
       "      <td>captured</td>\n",
       "      <td>200.0</td>\n",
       "      <td>36.0</td>\n",
       "      <td>2024-06-06 15:37:11.231000+00:00</td>\n",
       "      <td>NaN</td>\n",
       "      <td>NaN</td>\n",
       "      <td>app</td>\n",
       "      <td>236.0</td>\n",
       "      <td>2024-06-06 21:07:11.231000+00:00</td>\n",
       "    </tr>\n",
       "  </tbody>\n",
       "</table>\n",
       "<p>615 rows × 12 columns</p>\n",
       "</div>"
      ],
      "text/plain": [
       "                            id     uid              order id    status  \\\n",
       "472   665d969b82e488c5ed6102dc  215078  order_OIFZQPxEmnG54y  captured   \n",
       "473   665d96a982e488c5ed61048a    3701  order_OIFZg9g4WpxaXr  captured   \n",
       "474   665d981982e488c5ed61f671  110483  order_OIFg93xId1zhJz  captured   \n",
       "475   665d991b5e534c8a59d5740c  116586  order_OIFkgdqYY8Z9j0  captured   \n",
       "476   665d9a2082e488c5ed636066  203984  order_OIFpHU2G16kqkj  captured   \n",
       "...                        ...     ...                   ...       ...   \n",
       "1082  6661d669940da60067718073   95453  order_OJWeBDAe71xv1D  captured   \n",
       "1083  6661d6c0940da6006771d0bd  112086  order_OJWfiZlkQYIpTB  captured   \n",
       "1084  6661d704940da6006771fad7   97637  order_OJWguaZcxB7aB9  captured   \n",
       "1085  6661d716940da6006771fb98   96275  order_OJWhEoTZuAgfYx  captured   \n",
       "1086  6661d7a7940da600677279cb  216702  order_OJWjmUC1I92h0b  captured   \n",
       "\n",
       "      amount    gst                         utc time gurujiuser gateway mode  \\\n",
       "472      NaN   18.0 2024-06-03 10:10:35.455000+00:00        NaN     NaN  app   \n",
       "473      NaN   36.0 2024-06-03 10:10:49.873000+00:00        NaN     NaN  ios   \n",
       "474      NaN   36.0 2024-06-03 10:16:57.160000+00:00        NaN     NaN  app   \n",
       "475      NaN   36.0 2024-06-03 10:21:15.128000+00:00        NaN     NaN  ios   \n",
       "476      NaN  180.0 2024-06-03 10:25:36.074000+00:00        NaN     NaN  app   \n",
       "...      ...    ...                              ...        ...     ...  ...   \n",
       "1082   125.0   18.0 2024-06-06 15:31:53.084000+00:00        NaN     NaN  app   \n",
       "1083  1200.0  180.0 2024-06-06 15:33:20.443000+00:00        NaN     NaN  app   \n",
       "1084   250.0   36.0 2024-06-06 15:34:28.250000+00:00        NaN     NaN  app   \n",
       "1085   200.0   36.0 2024-06-06 15:34:46.780000+00:00        NaN     NaN  ios   \n",
       "1086   200.0   36.0 2024-06-06 15:37:11.231000+00:00        NaN     NaN  app   \n",
       "\n",
       "      totalamount                          istdate  \n",
       "472         118.0 2024-06-03 15:40:35.455000+00:00  \n",
       "473         266.0 2024-06-03 15:40:49.873000+00:00  \n",
       "474         266.0 2024-06-03 15:46:57.160000+00:00  \n",
       "475         266.0 2024-06-03 15:51:15.128000+00:00  \n",
       "476        1180.0 2024-06-03 15:55:36.074000+00:00  \n",
       "...           ...                              ...  \n",
       "1082        143.0 2024-06-06 21:01:53.084000+00:00  \n",
       "1083       1380.0 2024-06-06 21:03:20.443000+00:00  \n",
       "1084        286.0 2024-06-06 21:04:28.250000+00:00  \n",
       "1085        236.0 2024-06-06 21:04:46.780000+00:00  \n",
       "1086        236.0 2024-06-06 21:07:11.231000+00:00  \n",
       "\n",
       "[615 rows x 12 columns]"
      ]
     },
     "execution_count": 20,
     "metadata": {},
     "output_type": "execute_result"
    }
   ],
   "source": [
    "# all the rows that has gurujiuser  as null where gateway is null\n",
    "df[df[\"gurujiuser\"].isnull() & df[\"gateway\"].isnull()]\n"
   ]
  },
  {
   "cell_type": "code",
   "execution_count": 21,
   "metadata": {},
   "outputs": [
    {
     "data": {
      "text/plain": [
       "Razorpay    12900\n",
       "NaN           615\n",
       "Name: gateway, dtype: int64"
      ]
     },
     "execution_count": 21,
     "metadata": {},
     "output_type": "execute_result"
    }
   ],
   "source": [
    "df[\"gateway\"].value_counts(dropna=False)"
   ]
  },
  {
   "cell_type": "code",
   "execution_count": 22,
   "metadata": {},
   "outputs": [],
   "source": [
    "# fill na of gurujiuser with unknown , gateway with other and mode with other \n",
    "\n",
    "df[\"mode\"].fillna(\"other\", inplace=True)\n",
    "\n",
    "df[\"gateway\"].fillna(\"other\", inplace=True)\n",
    "\n",
    "df[\"gurujiuser\"].fillna(\"unknown\", inplace=True)"
   ]
  },
  {
   "cell_type": "markdown",
   "metadata": {},
   "source": [
    "><font color=\"yellow\"> NaN values in mode of interaction could be users who are interaction via call or feature phones or any other means"
   ]
  },
  {
   "cell_type": "code",
   "execution_count": 23,
   "metadata": {},
   "outputs": [
    {
     "data": {
      "text/plain": [
       "app      10959\n",
       "ios       2246\n",
       "other      162\n",
       "web        148\n",
       "Name: mode, dtype: int64"
      ]
     },
     "execution_count": 23,
     "metadata": {},
     "output_type": "execute_result"
    }
   ],
   "source": [
    "# mode value counts with NaN\n",
    "df[\"mode\"].value_counts(dropna=False)"
   ]
  },
  {
   "cell_type": "markdown",
   "metadata": {},
   "source": [
    ">#### <font color=\"yellow\"> Observation : we know that totalamount  =  amount + gst  \n",
    "\n",
    "\n",
    "Let's fill the NaN values in amount feature with totalamount - gst \n",
    "\n",
    "and viceversa"
   ]
  },
  {
   "cell_type": "code",
   "execution_count": 24,
   "metadata": {},
   "outputs": [],
   "source": [
    "# Let's fill the NaN values in amouunt with totalamount - gst \n",
    "df[\"amount\"].fillna(df[\"totalamount\"] - df[\"gst\"], inplace=True)"
   ]
  },
  {
   "cell_type": "code",
   "execution_count": 25,
   "metadata": {},
   "outputs": [],
   "source": [
    "# Let's fill the NaN values in totalamount with amount + gst \n",
    "df[\"totalamount\"].fillna(df[\"amount\"] + df[\"gst\"], inplace=True)\n"
   ]
  },
  {
   "cell_type": "markdown",
   "metadata": {},
   "source": [
    "> <font color=\"yellow\"> NaN value treatement is done :"
   ]
  },
  {
   "cell_type": "code",
   "execution_count": 26,
   "metadata": {},
   "outputs": [
    {
     "data": {
      "text/plain": [
       "id             0\n",
       "uid            0\n",
       "order id       0\n",
       "status         0\n",
       "amount         0\n",
       "gst            0\n",
       "utc time       0\n",
       "gurujiuser     0\n",
       "gateway        0\n",
       "mode           0\n",
       "totalamount    0\n",
       "istdate        0\n",
       "dtype: int64"
      ]
     },
     "execution_count": 26,
     "metadata": {},
     "output_type": "execute_result"
    }
   ],
   "source": [
    "df.isnull().sum()"
   ]
  },
  {
   "cell_type": "markdown",
   "metadata": {},
   "source": [
    "> ### <font color=\"yellow\"> Uni-variate analysis :"
   ]
  },
  {
   "cell_type": "markdown",
   "metadata": {},
   "source": [
    "> <font color=\"yellow\"> Total amount contributed by the users to the platform :  <font color=\"white\"> 4002925.0\n",
    "\n",
    "> <font color=\"yellow\"> Total GST paid by the users :  <font color=\"white\"> 656880.84\n",
    "\n",
    "> <font color=\"yellow\"> Total amount including GST :  <font color=\"white\"> 4661714.84\n",
    "\n",
    "> <font color=\"yellow\"> Average , median and Max amount contributed by the users to the platform :  <font color=\"white\"> 296.183870\t ,   200.000000  &  5000.000000\t\n"
   ]
  },
  {
   "cell_type": "code",
   "execution_count": 27,
   "metadata": {},
   "outputs": [
    {
     "data": {
      "text/plain": [
       "4659805.84"
      ]
     },
     "execution_count": 27,
     "metadata": {},
     "output_type": "execute_result"
    }
   ],
   "source": [
    "# sum\n",
    "df[\"amount\"].sum()\n",
    "df[\"gst\"].sum()\n",
    "df[\"totalamount\"].sum()"
   ]
  },
  {
   "cell_type": "code",
   "execution_count": 28,
   "metadata": {},
   "outputs": [
    {
     "data": {
      "text/html": [
       "<div>\n",
       "<style scoped>\n",
       "    .dataframe tbody tr th:only-of-type {\n",
       "        vertical-align: middle;\n",
       "    }\n",
       "\n",
       "    .dataframe tbody tr th {\n",
       "        vertical-align: top;\n",
       "    }\n",
       "\n",
       "    .dataframe thead th {\n",
       "        text-align: right;\n",
       "    }\n",
       "</style>\n",
       "<table border=\"1\" class=\"dataframe\">\n",
       "  <thead>\n",
       "    <tr style=\"text-align: right;\">\n",
       "      <th></th>\n",
       "      <th>uid</th>\n",
       "      <th>amount</th>\n",
       "      <th>gst</th>\n",
       "      <th>totalamount</th>\n",
       "    </tr>\n",
       "  </thead>\n",
       "  <tbody>\n",
       "    <tr>\n",
       "      <th>count</th>\n",
       "      <td>1.351500e+04</td>\n",
       "      <td>13515.000000</td>\n",
       "      <td>13515.000000</td>\n",
       "      <td>13515.000000</td>\n",
       "    </tr>\n",
       "    <tr>\n",
       "      <th>mean</th>\n",
       "      <td>1.605958e+05</td>\n",
       "      <td>296.183870</td>\n",
       "      <td>48.603836</td>\n",
       "      <td>344.787706</td>\n",
       "    </tr>\n",
       "    <tr>\n",
       "      <th>std</th>\n",
       "      <td>2.558993e+06</td>\n",
       "      <td>377.072628</td>\n",
       "      <td>60.699296</td>\n",
       "      <td>437.362448</td>\n",
       "    </tr>\n",
       "    <tr>\n",
       "      <th>min</th>\n",
       "      <td>1.900000e+01</td>\n",
       "      <td>1.000000</td>\n",
       "      <td>0.000000</td>\n",
       "      <td>1.180000</td>\n",
       "    </tr>\n",
       "    <tr>\n",
       "      <th>25%</th>\n",
       "      <td>3.301700e+04</td>\n",
       "      <td>50.000000</td>\n",
       "      <td>9.000000</td>\n",
       "      <td>59.000000</td>\n",
       "    </tr>\n",
       "    <tr>\n",
       "      <th>50%</th>\n",
       "      <td>1.120860e+05</td>\n",
       "      <td>200.000000</td>\n",
       "      <td>36.000000</td>\n",
       "      <td>236.000000</td>\n",
       "    </tr>\n",
       "    <tr>\n",
       "      <th>75%</th>\n",
       "      <td>2.270500e+05</td>\n",
       "      <td>250.000000</td>\n",
       "      <td>36.000000</td>\n",
       "      <td>286.000000</td>\n",
       "    </tr>\n",
       "    <tr>\n",
       "      <th>max</th>\n",
       "      <td>2.103522e+08</td>\n",
       "      <td>5000.000000</td>\n",
       "      <td>900.000000</td>\n",
       "      <td>5900.000000</td>\n",
       "    </tr>\n",
       "  </tbody>\n",
       "</table>\n",
       "</div>"
      ],
      "text/plain": [
       "                uid        amount           gst   totalamount\n",
       "count  1.351500e+04  13515.000000  13515.000000  13515.000000\n",
       "mean   1.605958e+05    296.183870     48.603836    344.787706\n",
       "std    2.558993e+06    377.072628     60.699296    437.362448\n",
       "min    1.900000e+01      1.000000      0.000000      1.180000\n",
       "25%    3.301700e+04     50.000000      9.000000     59.000000\n",
       "50%    1.120860e+05    200.000000     36.000000    236.000000\n",
       "75%    2.270500e+05    250.000000     36.000000    286.000000\n",
       "max    2.103522e+08   5000.000000    900.000000   5900.000000"
      ]
     },
     "execution_count": 28,
     "metadata": {},
     "output_type": "execute_result"
    }
   ],
   "source": [
    "df.describe()"
   ]
  },
  {
   "cell_type": "code",
   "execution_count": 29,
   "metadata": {},
   "outputs": [
    {
     "data": {
      "text/plain": [
       "['id', 'order id', 'status', 'gurujiuser', 'gateway', 'mode']"
      ]
     },
     "execution_count": 29,
     "metadata": {},
     "output_type": "execute_result"
    }
   ],
   "source": [
    "# cat columns\n",
    "cat_cols = [col for col in df.columns if df[col].dtypes == \"object\"]\n",
    "cat_cols    "
   ]
  },
  {
   "cell_type": "code",
   "execution_count": 30,
   "metadata": {},
   "outputs": [
    {
     "data": {
      "text/plain": [
       "<AxesSubplot: xlabel='mode', ylabel='count'>"
      ]
     },
     "execution_count": 30,
     "metadata": {},
     "output_type": "execute_result"
    },
    {
     "data": {
      "image/png": "[encoded data removed]",
      "text/plain": [
       "<Figure size 1500x500 with 3 Axes>"
      ]
     },
     "metadata": {},
     "output_type": "display_data"
    }
   ],
   "source": [
    "fig, ax = plt.subplots(1,3, figsize=(15,5))\n",
    "sns.countplot(x=\"gurujiuser\", data=df, ax=ax[0])\n",
    "sns.countplot(x=\"gateway\", data=df, ax=ax[1])\n",
    "sns.countplot(x=\"mode\", data=df, ax=ax[2])\n"
   ]
  },
  {
   "cell_type": "markdown",
   "metadata": {},
   "source": [
    "> ### <font color=\"yellow\"> Observation : \n",
    "\n",
    "Exisitng Guruji users and new users contribution is almost equal \n",
    "\n",
    "Razorpay is the most trusted payment gateway by guruji astro \n",
    "\n",
    "Android is the most popular mode of interaction with the platform\n"
   ]
  },
  {
   "cell_type": "code",
   "execution_count": 31,
   "metadata": {},
   "outputs": [
    {
     "name": "stderr",
     "output_type": "stream",
     "text": [
      "C:\\Users\\mahik\\AppData\\Local\\Temp\\ipykernel_10584\\556237417.py:3: UserWarning: \n",
      "\n",
      "`distplot` is a deprecated function and will be removed in seaborn v0.14.0.\n",
      "\n",
      "Please adapt your code to use either `displot` (a figure-level function with\n",
      "similar flexibility) or `histplot` (an axes-level function for histograms).\n",
      "\n",
      "For a guide to updating your code to use the new functions, please see\n",
      "https://gist.github.com/mwaskom/de44147ed2974457ad6372750bbe5751\n",
      "\n",
      "  sns.distplot(df[\"amount\"], ax=ax[0])\n"
     ]
    },
    {
     "data": {
      "text/plain": [
       "<AxesSubplot: xlabel='amount'>"
      ]
     },
     "execution_count": 31,
     "metadata": {},
     "output_type": "execute_result"
    },
    {
     "data": {
      "image/png": "[encoded data removed]",
      "text/plain": [
       "<Figure size 1500x500 with 2 Axes>"
      ]
     },
     "metadata": {},
     "output_type": "display_data"
    }
   ],
   "source": [
    "# amount density plot and boxplot\n",
    "fig, ax = plt.subplots(1,2, figsize=(15,5))\n",
    "sns.distplot(df[\"amount\"], ax=ax[0])\n",
    "sns.boxplot(x=\"amount\", data=df, ax=ax[1])\n"
   ]
  },
  {
   "cell_type": "markdown",
   "metadata": {},
   "source": [
    "> <font color=\"yellow\"> As we know median amount spent by users is 200 , there are very few users who spent greater than 1000\n",
    "\n",
    "User id --->> \"665cac69553c702415f9a428\"   and   \"66b72a211cb75483184fb3eb\"  are our star spending users\n"
   ]
  },
  {
   "cell_type": "code",
   "execution_count": 32,
   "metadata": {},
   "outputs": [
    {
     "data": {
      "text/html": [
       "<div>\n",
       "<style scoped>\n",
       "    .dataframe tbody tr th:only-of-type {\n",
       "        vertical-align: middle;\n",
       "    }\n",
       "\n",
       "    .dataframe tbody tr th {\n",
       "        vertical-align: top;\n",
       "    }\n",
       "\n",
       "    .dataframe thead th {\n",
       "        text-align: right;\n",
       "    }\n",
       "</style>\n",
       "<table border=\"1\" class=\"dataframe\">\n",
       "  <thead>\n",
       "    <tr style=\"text-align: right;\">\n",
       "      <th></th>\n",
       "      <th>id</th>\n",
       "      <th>uid</th>\n",
       "      <th>order id</th>\n",
       "      <th>status</th>\n",
       "      <th>amount</th>\n",
       "      <th>gst</th>\n",
       "      <th>utc time</th>\n",
       "      <th>gurujiuser</th>\n",
       "      <th>gateway</th>\n",
       "      <th>mode</th>\n",
       "      <th>totalamount</th>\n",
       "      <th>istdate</th>\n",
       "    </tr>\n",
       "  </thead>\n",
       "  <tbody>\n",
       "    <tr>\n",
       "      <th>361</th>\n",
       "      <td>665cac69553c702415f9a428</td>\n",
       "      <td>111145</td>\n",
       "      <td>order_OHyXtlkd9Dq5E4</td>\n",
       "      <td>captured</td>\n",
       "      <td>5000.0</td>\n",
       "      <td>900.0</td>\n",
       "      <td>2024-06-02 17:31:21.293000+00:00</td>\n",
       "      <td>True</td>\n",
       "      <td>Razorpay</td>\n",
       "      <td>app</td>\n",
       "      <td>5900.0</td>\n",
       "      <td>2024-06-02 23:01:21.293000+00:00</td>\n",
       "    </tr>\n",
       "    <tr>\n",
       "      <th>13367</th>\n",
       "      <td>66b72a211cb75483184fb3eb</td>\n",
       "      <td>5667</td>\n",
       "      <td>order_Oj8YLk9ikIbCpq</td>\n",
       "      <td>captured</td>\n",
       "      <td>5000.0</td>\n",
       "      <td>900.0</td>\n",
       "      <td>2024-08-10 08:51:45.915000+00:00</td>\n",
       "      <td>True</td>\n",
       "      <td>Razorpay</td>\n",
       "      <td>app</td>\n",
       "      <td>5900.0</td>\n",
       "      <td>2024-08-10 14:21:45.915000+00:00</td>\n",
       "    </tr>\n",
       "  </tbody>\n",
       "</table>\n",
       "</div>"
      ],
      "text/plain": [
       "                             id     uid              order id    status  \\\n",
       "361    665cac69553c702415f9a428  111145  order_OHyXtlkd9Dq5E4  captured   \n",
       "13367  66b72a211cb75483184fb3eb    5667  order_Oj8YLk9ikIbCpq  captured   \n",
       "\n",
       "       amount    gst                         utc time gurujiuser   gateway  \\\n",
       "361    5000.0  900.0 2024-06-02 17:31:21.293000+00:00       True  Razorpay   \n",
       "13367  5000.0  900.0 2024-08-10 08:51:45.915000+00:00       True  Razorpay   \n",
       "\n",
       "      mode  totalamount                          istdate  \n",
       "361    app       5900.0 2024-06-02 23:01:21.293000+00:00  \n",
       "13367  app       5900.0 2024-08-10 14:21:45.915000+00:00  "
      ]
     },
     "execution_count": 32,
     "metadata": {},
     "output_type": "execute_result"
    }
   ],
   "source": [
    "# user who spent maximum amount\n",
    "df[df[\"amount\"] == df[\"amount\"].max()]"
   ]
  },
  {
   "cell_type": "markdown",
   "metadata": {},
   "source": [
    "> ### <font color=\"yellow\"> Bi-variate analysis :"
   ]
  },
  {
   "cell_type": "code",
   "execution_count": 33,
   "metadata": {},
   "outputs": [
    {
     "name": "stdout",
     "output_type": "stream",
     "text": [
      "<class 'pandas.core.frame.DataFrame'>\n",
      "RangeIndex: 13515 entries, 0 to 13514\n",
      "Data columns (total 12 columns):\n",
      " #   Column       Non-Null Count  Dtype              \n",
      "---  ------       --------------  -----              \n",
      " 0   id           13515 non-null  object             \n",
      " 1   uid          13515 non-null  int64              \n",
      " 2   order id     13515 non-null  object             \n",
      " 3   status       13515 non-null  object             \n",
      " 4   amount       13515 non-null  float64            \n",
      " 5   gst          13515 non-null  float64            \n",
      " 6   utc time     13515 non-null  datetime64[ns, UTC]\n",
      " 7   gurujiuser   13515 non-null  object             \n",
      " 8   gateway      13515 non-null  object             \n",
      " 9   mode         13515 non-null  object             \n",
      " 10  totalamount  13515 non-null  float64            \n",
      " 11  istdate      13515 non-null  datetime64[ns, UTC]\n",
      "dtypes: datetime64[ns, UTC](2), float64(3), int64(1), object(6)\n",
      "memory usage: 1.2+ MB\n"
     ]
    }
   ],
   "source": [
    "df.info()"
   ]
  },
  {
   "cell_type": "markdown",
   "metadata": {},
   "source": [
    "> #### <font color=\"yellow\"> Group by gurujiuser : "
   ]
  },
  {
   "cell_type": "code",
   "execution_count": 34,
   "metadata": {},
   "outputs": [
    {
     "data": {
      "text/html": [
       "<div>\n",
       "<style scoped>\n",
       "    .dataframe tbody tr th:only-of-type {\n",
       "        vertical-align: middle;\n",
       "    }\n",
       "\n",
       "    .dataframe tbody tr th {\n",
       "        vertical-align: top;\n",
       "    }\n",
       "\n",
       "    .dataframe thead tr th {\n",
       "        text-align: left;\n",
       "    }\n",
       "\n",
       "    .dataframe thead tr:last-of-type th {\n",
       "        text-align: right;\n",
       "    }\n",
       "</style>\n",
       "<table border=\"1\" class=\"dataframe\">\n",
       "  <thead>\n",
       "    <tr>\n",
       "      <th></th>\n",
       "      <th colspan=\"6\" halign=\"left\">amount</th>\n",
       "      <th colspan=\"6\" halign=\"left\">gst</th>\n",
       "      <th colspan=\"6\" halign=\"left\">totalamount</th>\n",
       "    </tr>\n",
       "    <tr>\n",
       "      <th></th>\n",
       "      <th>sum</th>\n",
       "      <th>count</th>\n",
       "      <th>mean</th>\n",
       "      <th>median</th>\n",
       "      <th>min</th>\n",
       "      <th>max</th>\n",
       "      <th>sum</th>\n",
       "      <th>count</th>\n",
       "      <th>mean</th>\n",
       "      <th>median</th>\n",
       "      <th>min</th>\n",
       "      <th>max</th>\n",
       "      <th>sum</th>\n",
       "      <th>count</th>\n",
       "      <th>mean</th>\n",
       "      <th>median</th>\n",
       "      <th>min</th>\n",
       "      <th>max</th>\n",
       "    </tr>\n",
       "    <tr>\n",
       "      <th>gurujiuser</th>\n",
       "      <th></th>\n",
       "      <th></th>\n",
       "      <th></th>\n",
       "      <th></th>\n",
       "      <th></th>\n",
       "      <th></th>\n",
       "      <th></th>\n",
       "      <th></th>\n",
       "      <th></th>\n",
       "      <th></th>\n",
       "      <th></th>\n",
       "      <th></th>\n",
       "      <th></th>\n",
       "      <th></th>\n",
       "      <th></th>\n",
       "      <th></th>\n",
       "      <th></th>\n",
       "      <th></th>\n",
       "    </tr>\n",
       "  </thead>\n",
       "  <tbody>\n",
       "    <tr>\n",
       "      <th>False</th>\n",
       "      <td>964850.0</td>\n",
       "      <td>6242</td>\n",
       "      <td>154.573855</td>\n",
       "      <td>30.0</td>\n",
       "      <td>1.0</td>\n",
       "      <td>3000.0</td>\n",
       "      <td>157883.94</td>\n",
       "      <td>6242</td>\n",
       "      <td>25.293806</td>\n",
       "      <td>5.4</td>\n",
       "      <td>0.00</td>\n",
       "      <td>540.0</td>\n",
       "      <td>1122733.94</td>\n",
       "      <td>6242</td>\n",
       "      <td>179.867661</td>\n",
       "      <td>35.4</td>\n",
       "      <td>1.18</td>\n",
       "      <td>3540.0</td>\n",
       "    </tr>\n",
       "    <tr>\n",
       "      <th>True</th>\n",
       "      <td>2861145.0</td>\n",
       "      <td>6658</td>\n",
       "      <td>429.730400</td>\n",
       "      <td>250.0</td>\n",
       "      <td>1.0</td>\n",
       "      <td>5000.0</td>\n",
       "      <td>470322.90</td>\n",
       "      <td>6658</td>\n",
       "      <td>70.640267</td>\n",
       "      <td>36.0</td>\n",
       "      <td>0.18</td>\n",
       "      <td>900.0</td>\n",
       "      <td>3331467.90</td>\n",
       "      <td>6658</td>\n",
       "      <td>500.370667</td>\n",
       "      <td>286.0</td>\n",
       "      <td>1.18</td>\n",
       "      <td>5900.0</td>\n",
       "    </tr>\n",
       "    <tr>\n",
       "      <th>unknown</th>\n",
       "      <td>176930.0</td>\n",
       "      <td>615</td>\n",
       "      <td>287.691057</td>\n",
       "      <td>200.0</td>\n",
       "      <td>100.0</td>\n",
       "      <td>3000.0</td>\n",
       "      <td>28674.00</td>\n",
       "      <td>615</td>\n",
       "      <td>46.624390</td>\n",
       "      <td>36.0</td>\n",
       "      <td>0.00</td>\n",
       "      <td>540.0</td>\n",
       "      <td>205604.00</td>\n",
       "      <td>615</td>\n",
       "      <td>334.315447</td>\n",
       "      <td>236.0</td>\n",
       "      <td>100.00</td>\n",
       "      <td>3540.0</td>\n",
       "    </tr>\n",
       "  </tbody>\n",
       "</table>\n",
       "</div>"
      ],
      "text/plain": [
       "               amount                                                gst  \\\n",
       "                  sum count        mean median    min     max        sum   \n",
       "gurujiuser                                                                 \n",
       "False        964850.0  6242  154.573855   30.0    1.0  3000.0  157883.94   \n",
       "True        2861145.0  6658  429.730400  250.0    1.0  5000.0  470322.90   \n",
       "unknown      176930.0   615  287.691057  200.0  100.0  3000.0   28674.00   \n",
       "\n",
       "                                                totalamount                    \\\n",
       "           count       mean median   min    max         sum count        mean   \n",
       "gurujiuser                                                                      \n",
       "False       6242  25.293806    5.4  0.00  540.0  1122733.94  6242  179.867661   \n",
       "True        6658  70.640267   36.0  0.18  900.0  3331467.90  6658  500.370667   \n",
       "unknown      615  46.624390   36.0  0.00  540.0   205604.00   615  334.315447   \n",
       "\n",
       "                                   \n",
       "           median     min     max  \n",
       "gurujiuser                         \n",
       "False        35.4    1.18  3540.0  \n",
       "True        286.0    1.18  5900.0  \n",
       "unknown     236.0  100.00  3540.0  "
      ]
     },
     "execution_count": 34,
     "metadata": {},
     "output_type": "execute_result"
    }
   ],
   "source": [
    "# group by :\n",
    "df.groupby(\"gurujiuser\")[[\"amount\", \"gst\", \"totalamount\"]].agg([\"sum\", \"count\", \"mean\",\"median\" ,\"min\", \"max\"])"
   ]
  },
  {
   "cell_type": "code",
   "execution_count": 35,
   "metadata": {},
   "outputs": [
    {
     "data": {
      "text/plain": [
       "<AxesSubplot: xlabel='gurujiuser'>"
      ]
     },
     "execution_count": 35,
     "metadata": {},
     "output_type": "execute_result"
    },
    {
     "data": {
      "image/png": "[encoded data removed]",
      "text/plain": [
       "<Figure size 640x480 with 1 Axes>"
      ]
     },
     "metadata": {},
     "output_type": "display_data"
    }
   ],
   "source": [
    "# total amount based on gurujiuser\n",
    "df.groupby(\"gurujiuser\")[[\"amount\", \"gst\", \"totalamount\"]].agg([\"sum\"]).plot(kind=\"bar\")"
   ]
  },
  {
   "cell_type": "markdown",
   "metadata": {},
   "source": [
    "> #### <font color=\"yellow\"> Observation :\n",
    "\n",
    "We could observe that even though count of exisitng , new users  is almost equal however the total amount ,\n",
    "\n",
    "mean of amount contributed by existing users is far greater than new users\n",
    "\n"
   ]
  },
  {
   "cell_type": "code",
   "execution_count": 36,
   "metadata": {},
   "outputs": [
    {
     "data": {
      "text/plain": [
       "<AxesSubplot: xlabel='totalamount', ylabel='gurujiuser'>"
      ]
     },
     "execution_count": 36,
     "metadata": {},
     "output_type": "execute_result"
    },
    {
     "data": {
      "image/png": "[encoded data removed]",
      "text/plain": [
       "<Figure size 1500x500 with 3 Axes>"
      ]
     },
     "metadata": {},
     "output_type": "display_data"
    }
   ],
   "source": [
    "# boxplot\n",
    "fig, ax = plt.subplots(1,3, figsize=(15,5))\n",
    "sns.boxplot(x=\"amount\", y=\"gurujiuser\", data=df, ax=ax[0])\n",
    "sns.boxplot(x=\"gst\", y=\"gurujiuser\", data=df, ax=ax[1])\n",
    "sns.boxplot(x=\"totalamount\", y=\"gurujiuser\", data=df, ax=ax[2])"
   ]
  },
  {
   "cell_type": "markdown",
   "metadata": {},
   "source": [
    "> <font color=\"yellow\"> This proves that point that the median amount spent by existing users is far greater than new users"
   ]
  },
  {
   "cell_type": "code",
   "execution_count": 37,
   "metadata": {},
   "outputs": [
    {
     "data": {
      "text/plain": [
       "<AxesSubplot: xlabel='gurujiuser'>"
      ]
     },
     "execution_count": 37,
     "metadata": {},
     "output_type": "execute_result"
    },
    {
     "data": {
      "image/png": "[encoded data removed]",
      "text/plain": [
       "<Figure size 640x480 with 1 Axes>"
      ]
     },
     "metadata": {},
     "output_type": "display_data"
    }
   ],
   "source": [
    "df.groupby(\"gurujiuser\")[[\"amount\", \"gst\", \"totalamount\"]].agg([\"median\"]).plot(kind=\"bar\")"
   ]
  },
  {
   "cell_type": "code",
   "execution_count": 38,
   "metadata": {},
   "outputs": [
    {
     "data": {
      "text/html": [
       "<div>\n",
       "<style scoped>\n",
       "    .dataframe tbody tr th:only-of-type {\n",
       "        vertical-align: middle;\n",
       "    }\n",
       "\n",
       "    .dataframe tbody tr th {\n",
       "        vertical-align: top;\n",
       "    }\n",
       "\n",
       "    .dataframe thead tr th {\n",
       "        text-align: left;\n",
       "    }\n",
       "\n",
       "    .dataframe thead tr:last-of-type th {\n",
       "        text-align: right;\n",
       "    }\n",
       "</style>\n",
       "<table border=\"1\" class=\"dataframe\">\n",
       "  <thead>\n",
       "    <tr>\n",
       "      <th></th>\n",
       "      <th>amount</th>\n",
       "      <th>gst</th>\n",
       "      <th>totalamount</th>\n",
       "    </tr>\n",
       "    <tr>\n",
       "      <th></th>\n",
       "      <th>median</th>\n",
       "      <th>median</th>\n",
       "      <th>median</th>\n",
       "    </tr>\n",
       "    <tr>\n",
       "      <th>gurujiuser</th>\n",
       "      <th></th>\n",
       "      <th></th>\n",
       "      <th></th>\n",
       "    </tr>\n",
       "  </thead>\n",
       "  <tbody>\n",
       "    <tr>\n",
       "      <th>False</th>\n",
       "      <td>30.0</td>\n",
       "      <td>5.4</td>\n",
       "      <td>35.4</td>\n",
       "    </tr>\n",
       "    <tr>\n",
       "      <th>True</th>\n",
       "      <td>250.0</td>\n",
       "      <td>36.0</td>\n",
       "      <td>286.0</td>\n",
       "    </tr>\n",
       "    <tr>\n",
       "      <th>unknown</th>\n",
       "      <td>200.0</td>\n",
       "      <td>36.0</td>\n",
       "      <td>236.0</td>\n",
       "    </tr>\n",
       "  </tbody>\n",
       "</table>\n",
       "</div>"
      ],
      "text/plain": [
       "           amount    gst totalamount\n",
       "           median median      median\n",
       "gurujiuser                          \n",
       "False        30.0    5.4        35.4\n",
       "True        250.0   36.0       286.0\n",
       "unknown     200.0   36.0       236.0"
      ]
     },
     "execution_count": 38,
     "metadata": {},
     "output_type": "execute_result"
    }
   ],
   "source": [
    "df.groupby(\"gurujiuser\")[[\"amount\", \"gst\", \"totalamount\"]].agg([\"median\"])"
   ]
  },
  {
   "cell_type": "markdown",
   "metadata": {},
   "source": [
    "> <font color=\"yellow\"> We could see that the median amount spent by existing users [250] is far greater than new users [30] \n",
    "\n",
    "This could be of various reasons like existing users are more loyal to the platform , they pay more amount or they are more active users \n",
    "\n",
    "or the new users are skeptical whether to pay more or not"
   ]
  },
  {
   "cell_type": "code",
   "execution_count": 39,
   "metadata": {},
   "outputs": [
    {
     "data": {
      "text/html": [
       "<div>\n",
       "<style scoped>\n",
       "    .dataframe tbody tr th:only-of-type {\n",
       "        vertical-align: middle;\n",
       "    }\n",
       "\n",
       "    .dataframe tbody tr th {\n",
       "        vertical-align: top;\n",
       "    }\n",
       "\n",
       "    .dataframe thead tr th {\n",
       "        text-align: left;\n",
       "    }\n",
       "\n",
       "    .dataframe thead tr:last-of-type th {\n",
       "        text-align: right;\n",
       "    }\n",
       "</style>\n",
       "<table border=\"1\" class=\"dataframe\">\n",
       "  <thead>\n",
       "    <tr>\n",
       "      <th></th>\n",
       "      <th colspan=\"6\" halign=\"left\">amount</th>\n",
       "      <th colspan=\"6\" halign=\"left\">gst</th>\n",
       "      <th colspan=\"6\" halign=\"left\">totalamount</th>\n",
       "    </tr>\n",
       "    <tr>\n",
       "      <th></th>\n",
       "      <th>sum</th>\n",
       "      <th>count</th>\n",
       "      <th>mean</th>\n",
       "      <th>median</th>\n",
       "      <th>min</th>\n",
       "      <th>max</th>\n",
       "      <th>sum</th>\n",
       "      <th>count</th>\n",
       "      <th>mean</th>\n",
       "      <th>median</th>\n",
       "      <th>min</th>\n",
       "      <th>max</th>\n",
       "      <th>sum</th>\n",
       "      <th>count</th>\n",
       "      <th>mean</th>\n",
       "      <th>median</th>\n",
       "      <th>min</th>\n",
       "      <th>max</th>\n",
       "    </tr>\n",
       "    <tr>\n",
       "      <th>mode</th>\n",
       "      <th></th>\n",
       "      <th></th>\n",
       "      <th></th>\n",
       "      <th></th>\n",
       "      <th></th>\n",
       "      <th></th>\n",
       "      <th></th>\n",
       "      <th></th>\n",
       "      <th></th>\n",
       "      <th></th>\n",
       "      <th></th>\n",
       "      <th></th>\n",
       "      <th></th>\n",
       "      <th></th>\n",
       "      <th></th>\n",
       "      <th></th>\n",
       "      <th></th>\n",
       "      <th></th>\n",
       "    </tr>\n",
       "  </thead>\n",
       "  <tbody>\n",
       "    <tr>\n",
       "      <th>app</th>\n",
       "      <td>3163014.0</td>\n",
       "      <td>10959</td>\n",
       "      <td>288.622502</td>\n",
       "      <td>200.0</td>\n",
       "      <td>1.0</td>\n",
       "      <td>5000.0</td>\n",
       "      <td>519084.54</td>\n",
       "      <td>10959</td>\n",
       "      <td>47.366050</td>\n",
       "      <td>36.0</td>\n",
       "      <td>0.18</td>\n",
       "      <td>900.0</td>\n",
       "      <td>3682098.54</td>\n",
       "      <td>10959</td>\n",
       "      <td>335.988552</td>\n",
       "      <td>236.0</td>\n",
       "      <td>1.18</td>\n",
       "      <td>5900.0</td>\n",
       "    </tr>\n",
       "    <tr>\n",
       "      <th>ios</th>\n",
       "      <td>740453.0</td>\n",
       "      <td>2246</td>\n",
       "      <td>329.676313</td>\n",
       "      <td>230.0</td>\n",
       "      <td>1.0</td>\n",
       "      <td>2500.0</td>\n",
       "      <td>122081.40</td>\n",
       "      <td>2246</td>\n",
       "      <td>54.355031</td>\n",
       "      <td>36.0</td>\n",
       "      <td>0.18</td>\n",
       "      <td>360.0</td>\n",
       "      <td>862534.40</td>\n",
       "      <td>2246</td>\n",
       "      <td>384.031345</td>\n",
       "      <td>266.0</td>\n",
       "      <td>1.18</td>\n",
       "      <td>2860.0</td>\n",
       "    </tr>\n",
       "    <tr>\n",
       "      <th>other</th>\n",
       "      <td>41753.0</td>\n",
       "      <td>162</td>\n",
       "      <td>257.734568</td>\n",
       "      <td>230.0</td>\n",
       "      <td>1.0</td>\n",
       "      <td>2500.0</td>\n",
       "      <td>6948.90</td>\n",
       "      <td>162</td>\n",
       "      <td>42.894444</td>\n",
       "      <td>36.0</td>\n",
       "      <td>0.00</td>\n",
       "      <td>360.0</td>\n",
       "      <td>48701.90</td>\n",
       "      <td>162</td>\n",
       "      <td>300.629012</td>\n",
       "      <td>266.0</td>\n",
       "      <td>1.18</td>\n",
       "      <td>2860.0</td>\n",
       "    </tr>\n",
       "    <tr>\n",
       "      <th>web</th>\n",
       "      <td>57705.0</td>\n",
       "      <td>148</td>\n",
       "      <td>389.898649</td>\n",
       "      <td>230.0</td>\n",
       "      <td>100.0</td>\n",
       "      <td>2500.0</td>\n",
       "      <td>8766.00</td>\n",
       "      <td>148</td>\n",
       "      <td>59.229730</td>\n",
       "      <td>36.0</td>\n",
       "      <td>0.00</td>\n",
       "      <td>360.0</td>\n",
       "      <td>66471.00</td>\n",
       "      <td>148</td>\n",
       "      <td>449.128378</td>\n",
       "      <td>266.0</td>\n",
       "      <td>100.00</td>\n",
       "      <td>2860.0</td>\n",
       "    </tr>\n",
       "  </tbody>\n",
       "</table>\n",
       "</div>"
      ],
      "text/plain": [
       "          amount                                                 gst         \\\n",
       "             sum  count        mean median    min     max        sum  count   \n",
       "mode                                                                          \n",
       "app    3163014.0  10959  288.622502  200.0    1.0  5000.0  519084.54  10959   \n",
       "ios     740453.0   2246  329.676313  230.0    1.0  2500.0  122081.40   2246   \n",
       "other    41753.0    162  257.734568  230.0    1.0  2500.0    6948.90    162   \n",
       "web      57705.0    148  389.898649  230.0  100.0  2500.0    8766.00    148   \n",
       "\n",
       "                                     totalamount                            \\\n",
       "            mean median   min    max         sum  count        mean median   \n",
       "mode                                                                         \n",
       "app    47.366050   36.0  0.18  900.0  3682098.54  10959  335.988552  236.0   \n",
       "ios    54.355031   36.0  0.18  360.0   862534.40   2246  384.031345  266.0   \n",
       "other  42.894444   36.0  0.00  360.0    48701.90    162  300.629012  266.0   \n",
       "web    59.229730   36.0  0.00  360.0    66471.00    148  449.128378  266.0   \n",
       "\n",
       "                       \n",
       "          min     max  \n",
       "mode                   \n",
       "app      1.18  5900.0  \n",
       "ios      1.18  2860.0  \n",
       "other    1.18  2860.0  \n",
       "web    100.00  2860.0  "
      ]
     },
     "execution_count": 39,
     "metadata": {},
     "output_type": "execute_result"
    }
   ],
   "source": [
    "df.groupby(\"mode\")[[\"amount\", \"gst\", \"totalamount\"]].agg([\"sum\", \"count\", \"mean\",\"median\" ,\"min\", \"max\"])\n"
   ]
  },
  {
   "cell_type": "code",
   "execution_count": 40,
   "metadata": {},
   "outputs": [
    {
     "data": {
      "text/plain": [
       "<AxesSubplot: xlabel='mode'>"
      ]
     },
     "execution_count": 40,
     "metadata": {},
     "output_type": "execute_result"
    },
    {
     "data": {
      "image/png": "[encoded data removed]",
      "text/plain": [
       "<Figure size 640x480 with 1 Axes>"
      ]
     },
     "metadata": {},
     "output_type": "display_data"
    }
   ],
   "source": [
    "df.groupby(\"mode\")[[\"amount\", \"gst\", \"totalamount\"]].agg([\"sum\"]).plot(kind=\"bar\")"
   ]
  },
  {
   "cell_type": "markdown",
   "metadata": {},
   "source": [
    "> <font color=\"yellow\"> The total amount spent by Android users is  3X more than IOS users \n",
    "\n",
    "However the median  and mean amount spent by IOS users is greater than Android users"
   ]
  },
  {
   "cell_type": "code",
   "execution_count": 41,
   "metadata": {},
   "outputs": [
    {
     "data": {
      "text/html": [
       "<div>\n",
       "<style scoped>\n",
       "    .dataframe tbody tr th:only-of-type {\n",
       "        vertical-align: middle;\n",
       "    }\n",
       "\n",
       "    .dataframe tbody tr th {\n",
       "        vertical-align: top;\n",
       "    }\n",
       "\n",
       "    .dataframe thead tr th {\n",
       "        text-align: left;\n",
       "    }\n",
       "\n",
       "    .dataframe thead tr:last-of-type th {\n",
       "        text-align: right;\n",
       "    }\n",
       "</style>\n",
       "<table border=\"1\" class=\"dataframe\">\n",
       "  <thead>\n",
       "    <tr>\n",
       "      <th></th>\n",
       "      <th colspan=\"4\" halign=\"left\">amount</th>\n",
       "      <th colspan=\"4\" halign=\"left\">gst</th>\n",
       "      <th colspan=\"4\" halign=\"left\">totalamount</th>\n",
       "    </tr>\n",
       "    <tr>\n",
       "      <th></th>\n",
       "      <th>mean</th>\n",
       "      <th>median</th>\n",
       "      <th>min</th>\n",
       "      <th>max</th>\n",
       "      <th>mean</th>\n",
       "      <th>median</th>\n",
       "      <th>min</th>\n",
       "      <th>max</th>\n",
       "      <th>mean</th>\n",
       "      <th>median</th>\n",
       "      <th>min</th>\n",
       "      <th>max</th>\n",
       "    </tr>\n",
       "    <tr>\n",
       "      <th>mode</th>\n",
       "      <th></th>\n",
       "      <th></th>\n",
       "      <th></th>\n",
       "      <th></th>\n",
       "      <th></th>\n",
       "      <th></th>\n",
       "      <th></th>\n",
       "      <th></th>\n",
       "      <th></th>\n",
       "      <th></th>\n",
       "      <th></th>\n",
       "      <th></th>\n",
       "    </tr>\n",
       "  </thead>\n",
       "  <tbody>\n",
       "    <tr>\n",
       "      <th>app</th>\n",
       "      <td>288.622502</td>\n",
       "      <td>200.0</td>\n",
       "      <td>1.0</td>\n",
       "      <td>5000.0</td>\n",
       "      <td>47.366050</td>\n",
       "      <td>36.0</td>\n",
       "      <td>0.18</td>\n",
       "      <td>900.0</td>\n",
       "      <td>335.988552</td>\n",
       "      <td>236.0</td>\n",
       "      <td>1.18</td>\n",
       "      <td>5900.0</td>\n",
       "    </tr>\n",
       "    <tr>\n",
       "      <th>ios</th>\n",
       "      <td>329.676313</td>\n",
       "      <td>230.0</td>\n",
       "      <td>1.0</td>\n",
       "      <td>2500.0</td>\n",
       "      <td>54.355031</td>\n",
       "      <td>36.0</td>\n",
       "      <td>0.18</td>\n",
       "      <td>360.0</td>\n",
       "      <td>384.031345</td>\n",
       "      <td>266.0</td>\n",
       "      <td>1.18</td>\n",
       "      <td>2860.0</td>\n",
       "    </tr>\n",
       "    <tr>\n",
       "      <th>other</th>\n",
       "      <td>257.734568</td>\n",
       "      <td>230.0</td>\n",
       "      <td>1.0</td>\n",
       "      <td>2500.0</td>\n",
       "      <td>42.894444</td>\n",
       "      <td>36.0</td>\n",
       "      <td>0.00</td>\n",
       "      <td>360.0</td>\n",
       "      <td>300.629012</td>\n",
       "      <td>266.0</td>\n",
       "      <td>1.18</td>\n",
       "      <td>2860.0</td>\n",
       "    </tr>\n",
       "    <tr>\n",
       "      <th>web</th>\n",
       "      <td>389.898649</td>\n",
       "      <td>230.0</td>\n",
       "      <td>100.0</td>\n",
       "      <td>2500.0</td>\n",
       "      <td>59.229730</td>\n",
       "      <td>36.0</td>\n",
       "      <td>0.00</td>\n",
       "      <td>360.0</td>\n",
       "      <td>449.128378</td>\n",
       "      <td>266.0</td>\n",
       "      <td>100.00</td>\n",
       "      <td>2860.0</td>\n",
       "    </tr>\n",
       "  </tbody>\n",
       "</table>\n",
       "</div>"
      ],
      "text/plain": [
       "           amount                              gst                      \\\n",
       "             mean median    min     max       mean median   min    max   \n",
       "mode                                                                     \n",
       "app    288.622502  200.0    1.0  5000.0  47.366050   36.0  0.18  900.0   \n",
       "ios    329.676313  230.0    1.0  2500.0  54.355031   36.0  0.18  360.0   \n",
       "other  257.734568  230.0    1.0  2500.0  42.894444   36.0  0.00  360.0   \n",
       "web    389.898649  230.0  100.0  2500.0  59.229730   36.0  0.00  360.0   \n",
       "\n",
       "      totalamount                         \n",
       "             mean median     min     max  \n",
       "mode                                      \n",
       "app    335.988552  236.0    1.18  5900.0  \n",
       "ios    384.031345  266.0    1.18  2860.0  \n",
       "other  300.629012  266.0    1.18  2860.0  \n",
       "web    449.128378  266.0  100.00  2860.0  "
      ]
     },
     "execution_count": 41,
     "metadata": {},
     "output_type": "execute_result"
    }
   ],
   "source": [
    "df.groupby(\"mode\")[[\"amount\", \"gst\", \"totalamount\"]].agg([\"mean\",\"median\" ,\"min\", \"max\"])\n"
   ]
  },
  {
   "cell_type": "markdown",
   "metadata": {},
   "source": [
    "## <font color=\"yellow\"> usersdata for assignment  Analysis : "
   ]
  },
  {
   "cell_type": "code",
   "execution_count": 42,
   "metadata": {},
   "outputs": [
    {
     "name": "stderr",
     "output_type": "stream",
     "text": [
      "C:\\Users\\mahik\\AppData\\Local\\Temp\\ipykernel_10584\\2161791052.py:1: DtypeWarning: Columns (1,11) have mixed types. Specify dtype option on import or set low_memory=False.\n",
      "  df1 = pd.read_csv('usersdata for assignment - usersdata for assignment.csv')\n"
     ]
    },
    {
     "data": {
      "text/html": [
       "<div>\n",
       "<style scoped>\n",
       "    .dataframe tbody tr th:only-of-type {\n",
       "        vertical-align: middle;\n",
       "    }\n",
       "\n",
       "    .dataframe tbody tr th {\n",
       "        vertical-align: top;\n",
       "    }\n",
       "\n",
       "    .dataframe thead th {\n",
       "        text-align: right;\n",
       "    }\n",
       "</style>\n",
       "<table border=\"1\" class=\"dataframe\">\n",
       "  <thead>\n",
       "    <tr style=\"text-align: right;\">\n",
       "      <th></th>\n",
       "      <th>wallet</th>\n",
       "      <th>isInternational</th>\n",
       "      <th>consultationCount</th>\n",
       "      <th>website</th>\n",
       "      <th>totalRecharge</th>\n",
       "      <th>chatConsultationCount</th>\n",
       "      <th>totalRechargeAmount</th>\n",
       "      <th>createdAt</th>\n",
       "      <th>_id</th>\n",
       "      <th>uid</th>\n",
       "      <th>role</th>\n",
       "      <th>gurujiUser</th>\n",
       "      <th>ISTDate</th>\n",
       "    </tr>\n",
       "  </thead>\n",
       "  <tbody>\n",
       "    <tr>\n",
       "      <th>0</th>\n",
       "      <td>0.0</td>\n",
       "      <td>False</td>\n",
       "      <td>0</td>\n",
       "      <td>[\"app\"]</td>\n",
       "      <td>0</td>\n",
       "      <td>0</td>\n",
       "      <td>0.00</td>\n",
       "      <td>2024-08-17T18:21:19.188Z</td>\n",
       "      <td>66c0ea1f0c7600d494a2c8f7</td>\n",
       "      <td>277766.0</td>\n",
       "      <td>user</td>\n",
       "      <td>True</td>\n",
       "      <td>2024-08-17T23:51:19.188Z</td>\n",
       "    </tr>\n",
       "    <tr>\n",
       "      <th>1</th>\n",
       "      <td>160.0</td>\n",
       "      <td>False</td>\n",
       "      <td>2</td>\n",
       "      <td>[\"iOS\"]</td>\n",
       "      <td>2</td>\n",
       "      <td>0</td>\n",
       "      <td>89.68</td>\n",
       "      <td>2024-08-17T18:05:50.878Z</td>\n",
       "      <td>66c0e67e0c7600d494a1a3fd</td>\n",
       "      <td>277765.0</td>\n",
       "      <td>user</td>\n",
       "      <td>False</td>\n",
       "      <td>2024-08-17T23:35:50.878Z</td>\n",
       "    </tr>\n",
       "    <tr>\n",
       "      <th>2</th>\n",
       "      <td>0.0</td>\n",
       "      <td>False</td>\n",
       "      <td>0</td>\n",
       "      <td>[\"app\"]</td>\n",
       "      <td>0</td>\n",
       "      <td>1</td>\n",
       "      <td>0.00</td>\n",
       "      <td>2024-08-17T17:53:14.593Z</td>\n",
       "      <td>66c0e38a0c7600d494a122ba</td>\n",
       "      <td>277764.0</td>\n",
       "      <td>user</td>\n",
       "      <td>False</td>\n",
       "      <td>2024-08-17T23:23:14.593Z</td>\n",
       "    </tr>\n",
       "    <tr>\n",
       "      <th>3</th>\n",
       "      <td>0.0</td>\n",
       "      <td>False</td>\n",
       "      <td>0</td>\n",
       "      <td>[\"app\"]</td>\n",
       "      <td>0</td>\n",
       "      <td>0</td>\n",
       "      <td>0.00</td>\n",
       "      <td>2024-08-17T17:49:44.793Z</td>\n",
       "      <td>66c0e2b80c7600d494a0f9c5</td>\n",
       "      <td>277763.0</td>\n",
       "      <td>user</td>\n",
       "      <td>True</td>\n",
       "      <td>2024-08-17T23:19:44.793Z</td>\n",
       "    </tr>\n",
       "    <tr>\n",
       "      <th>4</th>\n",
       "      <td>0.0</td>\n",
       "      <td>False</td>\n",
       "      <td>0</td>\n",
       "      <td>[\"app\"]</td>\n",
       "      <td>0</td>\n",
       "      <td>0</td>\n",
       "      <td>0.00</td>\n",
       "      <td>2024-08-17T17:12:06.793Z</td>\n",
       "      <td>66c0d9e60c7600d4949d6671</td>\n",
       "      <td>277762.0</td>\n",
       "      <td>user</td>\n",
       "      <td>True</td>\n",
       "      <td>2024-08-17T22:42:06.793Z</td>\n",
       "    </tr>\n",
       "  </tbody>\n",
       "</table>\n",
       "</div>"
      ],
      "text/plain": [
       "   wallet isInternational  consultationCount  website  totalRecharge  \\\n",
       "0     0.0           False                  0  [\"app\"]              0   \n",
       "1   160.0           False                  2  [\"iOS\"]              2   \n",
       "2     0.0           False                  0  [\"app\"]              0   \n",
       "3     0.0           False                  0  [\"app\"]              0   \n",
       "4     0.0           False                  0  [\"app\"]              0   \n",
       "\n",
       "   chatConsultationCount  totalRechargeAmount                 createdAt  \\\n",
       "0                      0                 0.00  2024-08-17T18:21:19.188Z   \n",
       "1                      0                89.68  2024-08-17T18:05:50.878Z   \n",
       "2                      1                 0.00  2024-08-17T17:53:14.593Z   \n",
       "3                      0                 0.00  2024-08-17T17:49:44.793Z   \n",
       "4                      0                 0.00  2024-08-17T17:12:06.793Z   \n",
       "\n",
       "                        _id       uid  role gurujiUser  \\\n",
       "0  66c0ea1f0c7600d494a2c8f7  277766.0  user       True   \n",
       "1  66c0e67e0c7600d494a1a3fd  277765.0  user      False   \n",
       "2  66c0e38a0c7600d494a122ba  277764.0  user      False   \n",
       "3  66c0e2b80c7600d494a0f9c5  277763.0  user       True   \n",
       "4  66c0d9e60c7600d4949d6671  277762.0  user       True   \n",
       "\n",
       "                    ISTDate  \n",
       "0  2024-08-17T23:51:19.188Z  \n",
       "1  2024-08-17T23:35:50.878Z  \n",
       "2  2024-08-17T23:23:14.593Z  \n",
       "3  2024-08-17T23:19:44.793Z  \n",
       "4  2024-08-17T22:42:06.793Z  "
      ]
     },
     "execution_count": 42,
     "metadata": {},
     "output_type": "execute_result"
    }
   ],
   "source": [
    "df1 = pd.read_csv('usersdata for assignment - usersdata for assignment.csv')\n",
    "df1.head()"
   ]
  },
  {
   "cell_type": "code",
   "execution_count": 43,
   "metadata": {},
   "outputs": [
    {
     "data": {
      "text/plain": [
       "wallet                   0\n",
       "isInternational          2\n",
       "consultationCount        0\n",
       "website                  0\n",
       "totalRecharge            0\n",
       "chatConsultationCount    0\n",
       "totalRechargeAmount      0\n",
       "createdAt                0\n",
       "_id                      0\n",
       "uid                      1\n",
       "role                     1\n",
       "gurujiUser               1\n",
       "ISTDate                  0\n",
       "dtype: int64"
      ]
     },
     "execution_count": 43,
     "metadata": {},
     "output_type": "execute_result"
    }
   ],
   "source": [
    "df1.isnull().sum()"
   ]
  },
  {
   "cell_type": "markdown",
   "metadata": {},
   "source": [
    "> <font color=\"yellow\"> want to see whether the _id in df and df1 is same\n"
   ]
  },
  {
   "cell_type": "code",
   "execution_count": 44,
   "metadata": {},
   "outputs": [
    {
     "data": {
      "text/html": [
       "<div>\n",
       "<style scoped>\n",
       "    .dataframe tbody tr th:only-of-type {\n",
       "        vertical-align: middle;\n",
       "    }\n",
       "\n",
       "    .dataframe tbody tr th {\n",
       "        vertical-align: top;\n",
       "    }\n",
       "\n",
       "    .dataframe thead th {\n",
       "        text-align: right;\n",
       "    }\n",
       "</style>\n",
       "<table border=\"1\" class=\"dataframe\">\n",
       "  <thead>\n",
       "    <tr style=\"text-align: right;\">\n",
       "      <th></th>\n",
       "      <th>id</th>\n",
       "      <th>uid</th>\n",
       "      <th>order id</th>\n",
       "      <th>status</th>\n",
       "      <th>amount</th>\n",
       "      <th>gst</th>\n",
       "      <th>utc time</th>\n",
       "      <th>gurujiuser</th>\n",
       "      <th>gateway</th>\n",
       "      <th>mode</th>\n",
       "      <th>totalamount</th>\n",
       "      <th>istdate</th>\n",
       "    </tr>\n",
       "  </thead>\n",
       "  <tbody>\n",
       "    <tr>\n",
       "      <th>5357</th>\n",
       "      <td>6.69E+23</td>\n",
       "      <td>23848</td>\n",
       "      <td>order_OUV44w7SjSK3xL</td>\n",
       "      <td>captured</td>\n",
       "      <td>1.0</td>\n",
       "      <td>0.18</td>\n",
       "      <td>2024-07-04 09:08:02.065000+00:00</td>\n",
       "      <td>False</td>\n",
       "      <td>Razorpay</td>\n",
       "      <td>app</td>\n",
       "      <td>1.18</td>\n",
       "      <td>2024-07-04 14:38:02.065000+00:00</td>\n",
       "    </tr>\n",
       "    <tr>\n",
       "      <th>5373</th>\n",
       "      <td>6.69E+23</td>\n",
       "      <td>237900</td>\n",
       "      <td>order_OUWRo8XdGI7eTi</td>\n",
       "      <td>captured</td>\n",
       "      <td>1.0</td>\n",
       "      <td>0.18</td>\n",
       "      <td>2024-07-04 10:29:11.491000+00:00</td>\n",
       "      <td>False</td>\n",
       "      <td>Razorpay</td>\n",
       "      <td>app</td>\n",
       "      <td>1.18</td>\n",
       "      <td>2024-07-04 15:59:11.491000+00:00</td>\n",
       "    </tr>\n",
       "    <tr>\n",
       "      <th>5397</th>\n",
       "      <td>6.69E+23</td>\n",
       "      <td>34654</td>\n",
       "      <td>order_OUYG6bMKBCoNkm</td>\n",
       "      <td>captured</td>\n",
       "      <td>1.0</td>\n",
       "      <td>0.18</td>\n",
       "      <td>2024-07-04 12:15:30.036000+00:00</td>\n",
       "      <td>False</td>\n",
       "      <td>Razorpay</td>\n",
       "      <td>ios</td>\n",
       "      <td>1.18</td>\n",
       "      <td>2024-07-04 17:45:30.036000+00:00</td>\n",
       "    </tr>\n",
       "    <tr>\n",
       "      <th>5578</th>\n",
       "      <td>6.69E+23</td>\n",
       "      <td>241260</td>\n",
       "      <td>order_OUqBypzaTzeO3X</td>\n",
       "      <td>captured</td>\n",
       "      <td>1.0</td>\n",
       "      <td>0.18</td>\n",
       "      <td>2024-07-05 05:48:04.785000+00:00</td>\n",
       "      <td>False</td>\n",
       "      <td>Razorpay</td>\n",
       "      <td>app</td>\n",
       "      <td>1.18</td>\n",
       "      <td>2024-07-05 11:18:04.785000+00:00</td>\n",
       "    </tr>\n",
       "  </tbody>\n",
       "</table>\n",
       "</div>"
      ],
      "text/plain": [
       "            id     uid              order id    status  amount   gst  \\\n",
       "5357  6.69E+23   23848  order_OUV44w7SjSK3xL  captured     1.0  0.18   \n",
       "5373  6.69E+23  237900  order_OUWRo8XdGI7eTi  captured     1.0  0.18   \n",
       "5397  6.69E+23   34654  order_OUYG6bMKBCoNkm  captured     1.0  0.18   \n",
       "5578  6.69E+23  241260  order_OUqBypzaTzeO3X  captured     1.0  0.18   \n",
       "\n",
       "                             utc time gurujiuser   gateway mode  totalamount  \\\n",
       "5357 2024-07-04 09:08:02.065000+00:00      False  Razorpay  app         1.18   \n",
       "5373 2024-07-04 10:29:11.491000+00:00      False  Razorpay  app         1.18   \n",
       "5397 2024-07-04 12:15:30.036000+00:00      False  Razorpay  ios         1.18   \n",
       "5578 2024-07-05 05:48:04.785000+00:00      False  Razorpay  app         1.18   \n",
       "\n",
       "                              istdate  \n",
       "5357 2024-07-04 14:38:02.065000+00:00  \n",
       "5373 2024-07-04 15:59:11.491000+00:00  \n",
       "5397 2024-07-04 17:45:30.036000+00:00  \n",
       "5578 2024-07-05 11:18:04.785000+00:00  "
      ]
     },
     "execution_count": 44,
     "metadata": {},
     "output_type": "execute_result"
    }
   ],
   "source": [
    "# want to see whether the _id in df and df1 is same\n",
    "df[df[\"id\"].isin(df1[\"_id\"])]"
   ]
  },
  {
   "cell_type": "code",
   "execution_count": 45,
   "metadata": {},
   "outputs": [
    {
     "data": {
      "text/plain": [
       "Index(['wallet', 'isInternational', 'consultationCount', 'website',\n",
       "       'totalRecharge', 'chatConsultationCount', 'totalRechargeAmount',\n",
       "       'createdAt', '_id', 'uid', 'role', 'gurujiUser', 'ISTDate'],\n",
       "      dtype='object')"
      ]
     },
     "execution_count": 45,
     "metadata": {},
     "output_type": "execute_result"
    }
   ],
   "source": [
    "df1.columns"
   ]
  },
  {
   "cell_type": "code",
   "execution_count": 46,
   "metadata": {},
   "outputs": [
    {
     "data": {
      "text/html": [
       "<div>\n",
       "<style scoped>\n",
       "    .dataframe tbody tr th:only-of-type {\n",
       "        vertical-align: middle;\n",
       "    }\n",
       "\n",
       "    .dataframe tbody tr th {\n",
       "        vertical-align: top;\n",
       "    }\n",
       "\n",
       "    .dataframe thead th {\n",
       "        text-align: right;\n",
       "    }\n",
       "</style>\n",
       "<table border=\"1\" class=\"dataframe\">\n",
       "  <thead>\n",
       "    <tr style=\"text-align: right;\">\n",
       "      <th></th>\n",
       "      <th>wallet</th>\n",
       "      <th>isInternational</th>\n",
       "      <th>consultationCount</th>\n",
       "      <th>website</th>\n",
       "      <th>totalRecharge</th>\n",
       "      <th>chatConsultationCount</th>\n",
       "      <th>totalRechargeAmount</th>\n",
       "      <th>createdAt</th>\n",
       "      <th>_id</th>\n",
       "      <th>uid</th>\n",
       "      <th>role</th>\n",
       "      <th>gurujiUser</th>\n",
       "      <th>ISTDate</th>\n",
       "    </tr>\n",
       "  </thead>\n",
       "  <tbody>\n",
       "    <tr>\n",
       "      <th>36468</th>\n",
       "      <td>0.0</td>\n",
       "      <td>False</td>\n",
       "      <td>0</td>\n",
       "      <td>[\"app\"]</td>\n",
       "      <td>0</td>\n",
       "      <td>1</td>\n",
       "      <td>0.00</td>\n",
       "      <td>2024-07-05T05:24:41.789Z</td>\n",
       "      <td>6.69E+23</td>\n",
       "      <td>241244.0</td>\n",
       "      <td>user</td>\n",
       "      <td>False</td>\n",
       "      <td>2024-07-05T10:54:41.789Z</td>\n",
       "    </tr>\n",
       "    <tr>\n",
       "      <th>37155</th>\n",
       "      <td>25.0</td>\n",
       "      <td>False</td>\n",
       "      <td>0</td>\n",
       "      <td>[\"app\"]</td>\n",
       "      <td>1</td>\n",
       "      <td>1</td>\n",
       "      <td>1.18</td>\n",
       "      <td>2024-07-04T11:27:03.752Z</td>\n",
       "      <td>6.69E+23</td>\n",
       "      <td>240557.0</td>\n",
       "      <td>user</td>\n",
       "      <td>False</td>\n",
       "      <td>2024-07-04T16:57:03.752Z</td>\n",
       "    </tr>\n",
       "    <tr>\n",
       "      <th>37249</th>\n",
       "      <td>0.0</td>\n",
       "      <td>False</td>\n",
       "      <td>0</td>\n",
       "      <td>[\"app\"]</td>\n",
       "      <td>0</td>\n",
       "      <td>0</td>\n",
       "      <td>0.00</td>\n",
       "      <td>2024-07-04T10:14:47.236Z</td>\n",
       "      <td>6.69E+23</td>\n",
       "      <td>240463.0</td>\n",
       "      <td>user</td>\n",
       "      <td>False</td>\n",
       "      <td>2024-07-04T15:44:47.236Z</td>\n",
       "    </tr>\n",
       "    <tr>\n",
       "      <th>37355</th>\n",
       "      <td>0.0</td>\n",
       "      <td>False</td>\n",
       "      <td>0</td>\n",
       "      <td>[\"app\"]</td>\n",
       "      <td>0</td>\n",
       "      <td>0</td>\n",
       "      <td>0.00</td>\n",
       "      <td>2024-07-04T09:12:07.261Z</td>\n",
       "      <td>6.69E+23</td>\n",
       "      <td>240357.0</td>\n",
       "      <td>user</td>\n",
       "      <td>False</td>\n",
       "      <td>2024-07-04T14:42:07.261Z</td>\n",
       "    </tr>\n",
       "    <tr>\n",
       "      <th>37359</th>\n",
       "      <td>0.0</td>\n",
       "      <td>False</td>\n",
       "      <td>0</td>\n",
       "      <td>[\"app\"]</td>\n",
       "      <td>0</td>\n",
       "      <td>1</td>\n",
       "      <td>0.00</td>\n",
       "      <td>2024-07-04T09:07:21.191Z</td>\n",
       "      <td>6.69E+23</td>\n",
       "      <td>240353.0</td>\n",
       "      <td>user</td>\n",
       "      <td>False</td>\n",
       "      <td>2024-07-04T14:37:21.191Z</td>\n",
       "    </tr>\n",
       "    <tr>\n",
       "      <th>37369</th>\n",
       "      <td>0.0</td>\n",
       "      <td>False</td>\n",
       "      <td>0</td>\n",
       "      <td>[\"ios\"]</td>\n",
       "      <td>0</td>\n",
       "      <td>1</td>\n",
       "      <td>0.00</td>\n",
       "      <td>2024-07-04T08:59:50.752Z</td>\n",
       "      <td>6.69E+23</td>\n",
       "      <td>240343.0</td>\n",
       "      <td>user</td>\n",
       "      <td>False</td>\n",
       "      <td>2024-07-04T14:29:50.752Z</td>\n",
       "    </tr>\n",
       "  </tbody>\n",
       "</table>\n",
       "</div>"
      ],
      "text/plain": [
       "       wallet isInternational  consultationCount  website  totalRecharge  \\\n",
       "36468     0.0           False                  0  [\"app\"]              0   \n",
       "37155    25.0           False                  0  [\"app\"]              1   \n",
       "37249     0.0           False                  0  [\"app\"]              0   \n",
       "37355     0.0           False                  0  [\"app\"]              0   \n",
       "37359     0.0           False                  0  [\"app\"]              0   \n",
       "37369     0.0           False                  0  [\"ios\"]              0   \n",
       "\n",
       "       chatConsultationCount  totalRechargeAmount                 createdAt  \\\n",
       "36468                      1                 0.00  2024-07-05T05:24:41.789Z   \n",
       "37155                      1                 1.18  2024-07-04T11:27:03.752Z   \n",
       "37249                      0                 0.00  2024-07-04T10:14:47.236Z   \n",
       "37355                      0                 0.00  2024-07-04T09:12:07.261Z   \n",
       "37359                      1                 0.00  2024-07-04T09:07:21.191Z   \n",
       "37369                      1                 0.00  2024-07-04T08:59:50.752Z   \n",
       "\n",
       "            _id       uid  role gurujiUser                   ISTDate  \n",
       "36468  6.69E+23  241244.0  user      False  2024-07-05T10:54:41.789Z  \n",
       "37155  6.69E+23  240557.0  user      False  2024-07-04T16:57:03.752Z  \n",
       "37249  6.69E+23  240463.0  user      False  2024-07-04T15:44:47.236Z  \n",
       "37355  6.69E+23  240357.0  user      False  2024-07-04T14:42:07.261Z  \n",
       "37359  6.69E+23  240353.0  user      False  2024-07-04T14:37:21.191Z  \n",
       "37369  6.69E+23  240343.0  user      False  2024-07-04T14:29:50.752Z  "
      ]
     },
     "execution_count": 46,
     "metadata": {},
     "output_type": "execute_result"
    }
   ],
   "source": [
    "# check if _id in df1 is same as id in df\n",
    "df1[df1[\"_id\"].isin(df[\"id\"])]\n"
   ]
  },
  {
   "cell_type": "markdown",
   "metadata": {},
   "source": [
    ">#### <font color=\"yellow\"> Observation : We could observe that only few users present in \"userdata for assignment\" are present in \"recharges for assignment\" data \n",
    "\n",
    "So it's not a good idea to merge these two datasets and the features in both these datasets convey different information"
   ]
  },
  {
   "cell_type": "code",
   "execution_count": 47,
   "metadata": {},
   "outputs": [
    {
     "name": "stdout",
     "output_type": "stream",
     "text": [
      "<class 'pandas.core.frame.DataFrame'>\n",
      "RangeIndex: 83256 entries, 0 to 83255\n",
      "Data columns (total 13 columns):\n",
      " #   Column                 Non-Null Count  Dtype  \n",
      "---  ------                 --------------  -----  \n",
      " 0   wallet                 83256 non-null  float64\n",
      " 1   isInternational        83254 non-null  object \n",
      " 2   consultationCount      83256 non-null  int64  \n",
      " 3   website                83256 non-null  object \n",
      " 4   totalRecharge          83256 non-null  int64  \n",
      " 5   chatConsultationCount  83256 non-null  int64  \n",
      " 6   totalRechargeAmount    83256 non-null  float64\n",
      " 7   createdAt              83256 non-null  object \n",
      " 8   _id                    83256 non-null  object \n",
      " 9   uid                    83255 non-null  float64\n",
      " 10  role                   83255 non-null  object \n",
      " 11  gurujiUser             83255 non-null  object \n",
      " 12  ISTDate                83256 non-null  object \n",
      "dtypes: float64(3), int64(3), object(7)\n",
      "memory usage: 8.3+ MB\n"
     ]
    }
   ],
   "source": [
    "df1.info()"
   ]
  },
  {
   "cell_type": "code",
   "execution_count": 48,
   "metadata": {},
   "outputs": [],
   "source": [
    "# createdAt and ISTDate datetime conversion\n",
    "df1[\"createdAt\"] = pd.to_datetime(df1[\"createdAt\"])\n",
    "df1[\"ISTDate\"] = pd.to_datetime(df1[\"ISTDate\"])\n",
    "\n"
   ]
  },
  {
   "cell_type": "code",
   "execution_count": 49,
   "metadata": {},
   "outputs": [
    {
     "data": {
      "text/plain": [
       "wallet                   0.000000\n",
       "isInternational          0.000024\n",
       "consultationCount        0.000000\n",
       "website                  0.000000\n",
       "totalRecharge            0.000000\n",
       "chatConsultationCount    0.000000\n",
       "totalRechargeAmount      0.000000\n",
       "createdAt                0.000000\n",
       "_id                      0.000000\n",
       "uid                      0.000012\n",
       "role                     0.000012\n",
       "gurujiUser               0.000012\n",
       "ISTDate                  0.000000\n",
       "dtype: float64"
      ]
     },
     "execution_count": 49,
     "metadata": {},
     "output_type": "execute_result"
    }
   ],
   "source": [
    "# Percentage of null values in each column\n",
    "df1.isnull().mean()"
   ]
  },
  {
   "cell_type": "markdown",
   "metadata": {},
   "source": [
    "> As we can see that just one or two rows are missing in user data for assignment , lets drop them"
   ]
  },
  {
   "cell_type": "code",
   "execution_count": 50,
   "metadata": {},
   "outputs": [],
   "source": [
    "# drop na \n",
    "df1.dropna(inplace=True)"
   ]
  },
  {
   "cell_type": "code",
   "execution_count": 51,
   "metadata": {},
   "outputs": [
    {
     "data": {
      "text/plain": [
       "0"
      ]
     },
     "execution_count": 51,
     "metadata": {},
     "output_type": "execute_result"
    }
   ],
   "source": [
    "# duplicates\n",
    "df1.duplicated().sum()  # No duplicates either"
   ]
  },
  {
   "cell_type": "code",
   "execution_count": 52,
   "metadata": {},
   "outputs": [
    {
     "data": {
      "text/html": [
       "<div>\n",
       "<style scoped>\n",
       "    .dataframe tbody tr th:only-of-type {\n",
       "        vertical-align: middle;\n",
       "    }\n",
       "\n",
       "    .dataframe tbody tr th {\n",
       "        vertical-align: top;\n",
       "    }\n",
       "\n",
       "    .dataframe thead th {\n",
       "        text-align: right;\n",
       "    }\n",
       "</style>\n",
       "<table border=\"1\" class=\"dataframe\">\n",
       "  <thead>\n",
       "    <tr style=\"text-align: right;\">\n",
       "      <th></th>\n",
       "      <th>wallet</th>\n",
       "      <th>consultationCount</th>\n",
       "      <th>totalRecharge</th>\n",
       "      <th>chatConsultationCount</th>\n",
       "      <th>totalRechargeAmount</th>\n",
       "      <th>uid</th>\n",
       "    </tr>\n",
       "  </thead>\n",
       "  <tbody>\n",
       "    <tr>\n",
       "      <th>count</th>\n",
       "      <td>83253.000000</td>\n",
       "      <td>83253.000000</td>\n",
       "      <td>83253.000000</td>\n",
       "      <td>83253.000000</td>\n",
       "      <td>83253.000000</td>\n",
       "      <td>83253.000000</td>\n",
       "    </tr>\n",
       "    <tr>\n",
       "      <th>mean</th>\n",
       "      <td>2.153966</td>\n",
       "      <td>0.167153</td>\n",
       "      <td>0.117173</td>\n",
       "      <td>0.674510</td>\n",
       "      <td>23.641095</td>\n",
       "      <td>236065.031062</td>\n",
       "    </tr>\n",
       "    <tr>\n",
       "      <th>std</th>\n",
       "      <td>51.681043</td>\n",
       "      <td>3.149264</td>\n",
       "      <td>2.822339</td>\n",
       "      <td>1.375051</td>\n",
       "      <td>1184.276838</td>\n",
       "      <td>24094.292266</td>\n",
       "    </tr>\n",
       "    <tr>\n",
       "      <th>min</th>\n",
       "      <td>0.000000</td>\n",
       "      <td>0.000000</td>\n",
       "      <td>0.000000</td>\n",
       "      <td>0.000000</td>\n",
       "      <td>0.000000</td>\n",
       "      <td>17.000000</td>\n",
       "    </tr>\n",
       "    <tr>\n",
       "      <th>25%</th>\n",
       "      <td>0.000000</td>\n",
       "      <td>0.000000</td>\n",
       "      <td>0.000000</td>\n",
       "      <td>0.000000</td>\n",
       "      <td>0.000000</td>\n",
       "      <td>215211.000000</td>\n",
       "    </tr>\n",
       "    <tr>\n",
       "      <th>50%</th>\n",
       "      <td>0.000000</td>\n",
       "      <td>0.000000</td>\n",
       "      <td>0.000000</td>\n",
       "      <td>1.000000</td>\n",
       "      <td>0.000000</td>\n",
       "      <td>236076.000000</td>\n",
       "    </tr>\n",
       "    <tr>\n",
       "      <th>75%</th>\n",
       "      <td>0.000000</td>\n",
       "      <td>0.000000</td>\n",
       "      <td>0.000000</td>\n",
       "      <td>1.000000</td>\n",
       "      <td>0.000000</td>\n",
       "      <td>256910.000000</td>\n",
       "    </tr>\n",
       "    <tr>\n",
       "      <th>max</th>\n",
       "      <td>10000.000000</td>\n",
       "      <td>538.000000</td>\n",
       "      <td>463.000000</td>\n",
       "      <td>298.000000</td>\n",
       "      <td>193124.000000</td>\n",
       "      <td>277766.000000</td>\n",
       "    </tr>\n",
       "  </tbody>\n",
       "</table>\n",
       "</div>"
      ],
      "text/plain": [
       "             wallet  consultationCount  totalRecharge  chatConsultationCount  \\\n",
       "count  83253.000000       83253.000000   83253.000000           83253.000000   \n",
       "mean       2.153966           0.167153       0.117173               0.674510   \n",
       "std       51.681043           3.149264       2.822339               1.375051   \n",
       "min        0.000000           0.000000       0.000000               0.000000   \n",
       "25%        0.000000           0.000000       0.000000               0.000000   \n",
       "50%        0.000000           0.000000       0.000000               1.000000   \n",
       "75%        0.000000           0.000000       0.000000               1.000000   \n",
       "max    10000.000000         538.000000     463.000000             298.000000   \n",
       "\n",
       "       totalRechargeAmount            uid  \n",
       "count         83253.000000   83253.000000  \n",
       "mean             23.641095  236065.031062  \n",
       "std            1184.276838   24094.292266  \n",
       "min               0.000000      17.000000  \n",
       "25%               0.000000  215211.000000  \n",
       "50%               0.000000  236076.000000  \n",
       "75%               0.000000  256910.000000  \n",
       "max          193124.000000  277766.000000  "
      ]
     },
     "execution_count": 52,
     "metadata": {},
     "output_type": "execute_result"
    }
   ],
   "source": [
    "df1.describe()"
   ]
  },
  {
   "cell_type": "code",
   "execution_count": 53,
   "metadata": {},
   "outputs": [
    {
     "data": {
      "text/html": [
       "<div>\n",
       "<style scoped>\n",
       "    .dataframe tbody tr th:only-of-type {\n",
       "        vertical-align: middle;\n",
       "    }\n",
       "\n",
       "    .dataframe tbody tr th {\n",
       "        vertical-align: top;\n",
       "    }\n",
       "\n",
       "    .dataframe thead th {\n",
       "        text-align: right;\n",
       "    }\n",
       "</style>\n",
       "<table border=\"1\" class=\"dataframe\">\n",
       "  <thead>\n",
       "    <tr style=\"text-align: right;\">\n",
       "      <th></th>\n",
       "      <th>wallet</th>\n",
       "      <th>totalRecharge</th>\n",
       "      <th>totalRechargeAmount</th>\n",
       "    </tr>\n",
       "  </thead>\n",
       "  <tbody>\n",
       "    <tr>\n",
       "      <th>sum</th>\n",
       "      <td>179324.115784</td>\n",
       "      <td>9755.000000</td>\n",
       "      <td>1.968192e+06</td>\n",
       "    </tr>\n",
       "    <tr>\n",
       "      <th>count</th>\n",
       "      <td>83253.000000</td>\n",
       "      <td>83253.000000</td>\n",
       "      <td>8.325300e+04</td>\n",
       "    </tr>\n",
       "    <tr>\n",
       "      <th>mean</th>\n",
       "      <td>2.153966</td>\n",
       "      <td>0.117173</td>\n",
       "      <td>2.364110e+01</td>\n",
       "    </tr>\n",
       "    <tr>\n",
       "      <th>median</th>\n",
       "      <td>0.000000</td>\n",
       "      <td>0.000000</td>\n",
       "      <td>0.000000e+00</td>\n",
       "    </tr>\n",
       "    <tr>\n",
       "      <th>min</th>\n",
       "      <td>0.000000</td>\n",
       "      <td>0.000000</td>\n",
       "      <td>0.000000e+00</td>\n",
       "    </tr>\n",
       "    <tr>\n",
       "      <th>max</th>\n",
       "      <td>10000.000000</td>\n",
       "      <td>463.000000</td>\n",
       "      <td>1.931240e+05</td>\n",
       "    </tr>\n",
       "  </tbody>\n",
       "</table>\n",
       "</div>"
      ],
      "text/plain": [
       "               wallet  totalRecharge  totalRechargeAmount\n",
       "sum     179324.115784    9755.000000         1.968192e+06\n",
       "count    83253.000000   83253.000000         8.325300e+04\n",
       "mean         2.153966       0.117173         2.364110e+01\n",
       "median       0.000000       0.000000         0.000000e+00\n",
       "min          0.000000       0.000000         0.000000e+00\n",
       "max      10000.000000     463.000000         1.931240e+05"
      ]
     },
     "execution_count": 53,
     "metadata": {},
     "output_type": "execute_result"
    }
   ],
   "source": [
    "# sum \n",
    "df1[[\"wallet\", \"totalRecharge\", \"totalRechargeAmount\"]].agg([\"sum\", \"count\", \"mean\",\"median\" ,\"min\", \"max\"])"
   ]
  },
  {
   "cell_type": "markdown",
   "metadata": {},
   "source": [
    "> #### <font color=\"yellow\"> Uni-variate & Bi-variate analysis :"
   ]
  },
  {
   "cell_type": "code",
   "execution_count": 54,
   "metadata": {},
   "outputs": [
    {
     "data": {
      "text/plain": [
       "['isInternational', 'website', '_id', 'role', 'gurujiUser']"
      ]
     },
     "execution_count": 54,
     "metadata": {},
     "output_type": "execute_result"
    }
   ],
   "source": [
    "# cat columns\n",
    "cat_cols = [col for col in df1.columns if df1[col].dtypes == \"object\"]\n",
    "cat_cols"
   ]
  },
  {
   "cell_type": "code",
   "execution_count": 55,
   "metadata": {},
   "outputs": [
    {
     "name": "stdout",
     "output_type": "stream",
     "text": [
      "False    83215\n",
      "True        38\n",
      "Name: isInternational, dtype: int64\n",
      "[\"app\"]          77899\n",
      "[\"ios\"]           2332\n",
      "[\"iOS\"]           2139\n",
      "[\"gurucool\"]       880\n",
      "[\"dashboard\"]        3\n",
      "Name: website, dtype: int64\n",
      "user         83243\n",
      "operation       10\n",
      "Name: role, dtype: int64\n",
      "False    79960\n",
      "True      3293\n",
      "Name: gurujiUser, dtype: int64\n"
     ]
    }
   ],
   "source": [
    "for col in ['isInternational', 'website', 'role', 'gurujiUser']:\n",
    "    print(df1[col].value_counts(dropna=False))"
   ]
  },
  {
   "cell_type": "code",
   "execution_count": 56,
   "metadata": {},
   "outputs": [
    {
     "data": {
      "image/png": "[encoded data removed]",
      "text/plain": [
       "<Figure size 1100x700 with 4 Axes>"
      ]
     },
     "metadata": {},
     "output_type": "display_data"
    }
   ],
   "source": [
    "# draw bar plots for ['isInternational', 'website', 'role', 'gurujiUser'] under subplot\n",
    "fig, ax = plt.subplots(2,2, figsize=(11,7))\n",
    "sns.countplot(x=\"isInternational\", data=df1, ax=ax[0,0])\n",
    "sns.countplot(x=\"website\", data=df1, ax=ax[0,1])\n",
    "sns.countplot(x=\"role\", data=df1, ax=ax[1,0])\n",
    "sns.countplot(x=\"gurujiUser\", data=df1, ax=ax[1,1])\n",
    "plt.show()"
   ]
  },
  {
   "cell_type": "markdown",
   "metadata": {},
   "source": [
    ">#### <font color=\"yellow\"> Observation :\n",
    "\n",
    "<font color=\"yellow\">  Most of the users are from India and are not international users \n",
    "\n",
    "uses Andriod app for interacting with the platform and more than 95 percent in userdata for assignment are new  users\n",
    "\n"
   ]
  },
  {
   "cell_type": "code",
   "execution_count": 57,
   "metadata": {},
   "outputs": [
    {
     "data": {
      "text/html": [
       "<div>\n",
       "<style scoped>\n",
       "    .dataframe tbody tr th:only-of-type {\n",
       "        vertical-align: middle;\n",
       "    }\n",
       "\n",
       "    .dataframe tbody tr th {\n",
       "        vertical-align: top;\n",
       "    }\n",
       "\n",
       "    .dataframe thead tr th {\n",
       "        text-align: left;\n",
       "    }\n",
       "\n",
       "    .dataframe thead tr:last-of-type th {\n",
       "        text-align: right;\n",
       "    }\n",
       "</style>\n",
       "<table border=\"1\" class=\"dataframe\">\n",
       "  <thead>\n",
       "    <tr>\n",
       "      <th></th>\n",
       "      <th colspan=\"6\" halign=\"left\">wallet</th>\n",
       "      <th colspan=\"6\" halign=\"left\">totalRecharge</th>\n",
       "      <th colspan=\"6\" halign=\"left\">totalRechargeAmount</th>\n",
       "    </tr>\n",
       "    <tr>\n",
       "      <th></th>\n",
       "      <th>sum</th>\n",
       "      <th>count</th>\n",
       "      <th>mean</th>\n",
       "      <th>median</th>\n",
       "      <th>min</th>\n",
       "      <th>max</th>\n",
       "      <th>sum</th>\n",
       "      <th>count</th>\n",
       "      <th>mean</th>\n",
       "      <th>median</th>\n",
       "      <th>min</th>\n",
       "      <th>max</th>\n",
       "      <th>sum</th>\n",
       "      <th>count</th>\n",
       "      <th>mean</th>\n",
       "      <th>median</th>\n",
       "      <th>min</th>\n",
       "      <th>max</th>\n",
       "    </tr>\n",
       "    <tr>\n",
       "      <th>gurujiUser</th>\n",
       "      <th></th>\n",
       "      <th></th>\n",
       "      <th></th>\n",
       "      <th></th>\n",
       "      <th></th>\n",
       "      <th></th>\n",
       "      <th></th>\n",
       "      <th></th>\n",
       "      <th></th>\n",
       "      <th></th>\n",
       "      <th></th>\n",
       "      <th></th>\n",
       "      <th></th>\n",
       "      <th></th>\n",
       "      <th></th>\n",
       "      <th></th>\n",
       "      <th></th>\n",
       "      <th></th>\n",
       "    </tr>\n",
       "  </thead>\n",
       "  <tbody>\n",
       "    <tr>\n",
       "      <th>False</th>\n",
       "      <td>165679.238550</td>\n",
       "      <td>79960</td>\n",
       "      <td>2.072026</td>\n",
       "      <td>0.0</td>\n",
       "      <td>0.0</td>\n",
       "      <td>10000.0000</td>\n",
       "      <td>9059</td>\n",
       "      <td>79960</td>\n",
       "      <td>0.113294</td>\n",
       "      <td>0.0</td>\n",
       "      <td>0</td>\n",
       "      <td>463</td>\n",
       "      <td>1729162.56</td>\n",
       "      <td>79960</td>\n",
       "      <td>21.625345</td>\n",
       "      <td>0.0</td>\n",
       "      <td>0.0</td>\n",
       "      <td>154734.0</td>\n",
       "    </tr>\n",
       "    <tr>\n",
       "      <th>True</th>\n",
       "      <td>13644.877233</td>\n",
       "      <td>3293</td>\n",
       "      <td>4.143601</td>\n",
       "      <td>0.0</td>\n",
       "      <td>0.0</td>\n",
       "      <td>5618.8815</td>\n",
       "      <td>696</td>\n",
       "      <td>3293</td>\n",
       "      <td>0.211357</td>\n",
       "      <td>0.0</td>\n",
       "      <td>0</td>\n",
       "      <td>405</td>\n",
       "      <td>239029.54</td>\n",
       "      <td>3293</td>\n",
       "      <td>72.587167</td>\n",
       "      <td>0.0</td>\n",
       "      <td>0.0</td>\n",
       "      <td>193124.0</td>\n",
       "    </tr>\n",
       "  </tbody>\n",
       "</table>\n",
       "</div>"
      ],
      "text/plain": [
       "                   wallet                                           \\\n",
       "                      sum  count      mean median  min         max   \n",
       "gurujiUser                                                           \n",
       "False       165679.238550  79960  2.072026    0.0  0.0  10000.0000   \n",
       "True         13644.877233   3293  4.143601    0.0  0.0   5618.8815   \n",
       "\n",
       "           totalRecharge                                  totalRechargeAmount  \\\n",
       "                     sum  count      mean median min  max                 sum   \n",
       "gurujiUser                                                                      \n",
       "False               9059  79960  0.113294    0.0   0  463          1729162.56   \n",
       "True                 696   3293  0.211357    0.0   0  405           239029.54   \n",
       "\n",
       "                                                    \n",
       "            count       mean median  min       max  \n",
       "gurujiUser                                          \n",
       "False       79960  21.625345    0.0  0.0  154734.0  \n",
       "True         3293  72.587167    0.0  0.0  193124.0  "
      ]
     },
     "execution_count": 57,
     "metadata": {},
     "output_type": "execute_result"
    }
   ],
   "source": [
    "df1.groupby(\"gurujiUser\")[[\"wallet\", \"totalRecharge\", \"totalRechargeAmount\"]].agg([\"sum\", \"count\", \"mean\",\"median\" ,\"min\", \"max\"])"
   ]
  },
  {
   "cell_type": "code",
   "execution_count": 58,
   "metadata": {},
   "outputs": [
    {
     "data": {
      "text/html": [
       "<div>\n",
       "<style scoped>\n",
       "    .dataframe tbody tr th:only-of-type {\n",
       "        vertical-align: middle;\n",
       "    }\n",
       "\n",
       "    .dataframe tbody tr th {\n",
       "        vertical-align: top;\n",
       "    }\n",
       "\n",
       "    .dataframe thead tr th {\n",
       "        text-align: left;\n",
       "    }\n",
       "\n",
       "    .dataframe thead tr:last-of-type th {\n",
       "        text-align: right;\n",
       "    }\n",
       "</style>\n",
       "<table border=\"1\" class=\"dataframe\">\n",
       "  <thead>\n",
       "    <tr>\n",
       "      <th></th>\n",
       "      <th colspan=\"6\" halign=\"left\">wallet</th>\n",
       "      <th colspan=\"6\" halign=\"left\">totalRecharge</th>\n",
       "      <th colspan=\"6\" halign=\"left\">totalRechargeAmount</th>\n",
       "    </tr>\n",
       "    <tr>\n",
       "      <th></th>\n",
       "      <th>sum</th>\n",
       "      <th>count</th>\n",
       "      <th>mean</th>\n",
       "      <th>median</th>\n",
       "      <th>min</th>\n",
       "      <th>max</th>\n",
       "      <th>sum</th>\n",
       "      <th>count</th>\n",
       "      <th>mean</th>\n",
       "      <th>median</th>\n",
       "      <th>min</th>\n",
       "      <th>max</th>\n",
       "      <th>sum</th>\n",
       "      <th>count</th>\n",
       "      <th>mean</th>\n",
       "      <th>median</th>\n",
       "      <th>min</th>\n",
       "      <th>max</th>\n",
       "    </tr>\n",
       "    <tr>\n",
       "      <th>website</th>\n",
       "      <th></th>\n",
       "      <th></th>\n",
       "      <th></th>\n",
       "      <th></th>\n",
       "      <th></th>\n",
       "      <th></th>\n",
       "      <th></th>\n",
       "      <th></th>\n",
       "      <th></th>\n",
       "      <th></th>\n",
       "      <th></th>\n",
       "      <th></th>\n",
       "      <th></th>\n",
       "      <th></th>\n",
       "      <th></th>\n",
       "      <th></th>\n",
       "      <th></th>\n",
       "      <th></th>\n",
       "    </tr>\n",
       "  </thead>\n",
       "  <tbody>\n",
       "    <tr>\n",
       "      <th>[\"app\"]</th>\n",
       "      <td>144898.984600</td>\n",
       "      <td>77899</td>\n",
       "      <td>1.860088</td>\n",
       "      <td>0.0</td>\n",
       "      <td>0.0</td>\n",
       "      <td>10000.000000</td>\n",
       "      <td>8456</td>\n",
       "      <td>77899</td>\n",
       "      <td>0.108551</td>\n",
       "      <td>0.0</td>\n",
       "      <td>0</td>\n",
       "      <td>463</td>\n",
       "      <td>1650063.28</td>\n",
       "      <td>77899</td>\n",
       "      <td>21.182086</td>\n",
       "      <td>0.0</td>\n",
       "      <td>0.0</td>\n",
       "      <td>193124.00</td>\n",
       "    </tr>\n",
       "    <tr>\n",
       "      <th>[\"dashboard\"]</th>\n",
       "      <td>1276.859617</td>\n",
       "      <td>3</td>\n",
       "      <td>425.619872</td>\n",
       "      <td>0.0</td>\n",
       "      <td>0.0</td>\n",
       "      <td>1276.859617</td>\n",
       "      <td>3</td>\n",
       "      <td>3</td>\n",
       "      <td>1.000000</td>\n",
       "      <td>0.0</td>\n",
       "      <td>0</td>\n",
       "      <td>3</td>\n",
       "      <td>1240.18</td>\n",
       "      <td>3</td>\n",
       "      <td>413.393333</td>\n",
       "      <td>0.0</td>\n",
       "      <td>0.0</td>\n",
       "      <td>1240.18</td>\n",
       "    </tr>\n",
       "    <tr>\n",
       "      <th>[\"gurucool\"]</th>\n",
       "      <td>9029.526383</td>\n",
       "      <td>880</td>\n",
       "      <td>10.260825</td>\n",
       "      <td>0.0</td>\n",
       "      <td>0.0</td>\n",
       "      <td>1709.700000</td>\n",
       "      <td>325</td>\n",
       "      <td>880</td>\n",
       "      <td>0.369318</td>\n",
       "      <td>0.0</td>\n",
       "      <td>0</td>\n",
       "      <td>172</td>\n",
       "      <td>174000.06</td>\n",
       "      <td>880</td>\n",
       "      <td>197.727341</td>\n",
       "      <td>0.0</td>\n",
       "      <td>0.0</td>\n",
       "      <td>141867.00</td>\n",
       "    </tr>\n",
       "    <tr>\n",
       "      <th>[\"iOS\"]</th>\n",
       "      <td>15742.857067</td>\n",
       "      <td>2139</td>\n",
       "      <td>7.359914</td>\n",
       "      <td>0.0</td>\n",
       "      <td>0.0</td>\n",
       "      <td>6000.000000</td>\n",
       "      <td>483</td>\n",
       "      <td>2139</td>\n",
       "      <td>0.225806</td>\n",
       "      <td>0.0</td>\n",
       "      <td>0</td>\n",
       "      <td>62</td>\n",
       "      <td>56754.00</td>\n",
       "      <td>2139</td>\n",
       "      <td>26.532959</td>\n",
       "      <td>0.0</td>\n",
       "      <td>0.0</td>\n",
       "      <td>12045.00</td>\n",
       "    </tr>\n",
       "    <tr>\n",
       "      <th>[\"ios\"]</th>\n",
       "      <td>8375.888117</td>\n",
       "      <td>2332</td>\n",
       "      <td>3.591719</td>\n",
       "      <td>0.0</td>\n",
       "      <td>0.0</td>\n",
       "      <td>1579.750000</td>\n",
       "      <td>488</td>\n",
       "      <td>2332</td>\n",
       "      <td>0.209262</td>\n",
       "      <td>0.0</td>\n",
       "      <td>0</td>\n",
       "      <td>49</td>\n",
       "      <td>86134.58</td>\n",
       "      <td>2332</td>\n",
       "      <td>36.935926</td>\n",
       "      <td>0.0</td>\n",
       "      <td>0.0</td>\n",
       "      <td>10964.00</td>\n",
       "    </tr>\n",
       "  </tbody>\n",
       "</table>\n",
       "</div>"
      ],
      "text/plain": [
       "                      wallet                                               \\\n",
       "                         sum  count        mean median  min           max   \n",
       "website                                                                     \n",
       "[\"app\"]        144898.984600  77899    1.860088    0.0  0.0  10000.000000   \n",
       "[\"dashboard\"]    1276.859617      3  425.619872    0.0  0.0   1276.859617   \n",
       "[\"gurucool\"]     9029.526383    880   10.260825    0.0  0.0   1709.700000   \n",
       "[\"iOS\"]         15742.857067   2139    7.359914    0.0  0.0   6000.000000   \n",
       "[\"ios\"]          8375.888117   2332    3.591719    0.0  0.0   1579.750000   \n",
       "\n",
       "              totalRecharge                                   \\\n",
       "                        sum  count      mean median min  max   \n",
       "website                                                        \n",
       "[\"app\"]                8456  77899  0.108551    0.0   0  463   \n",
       "[\"dashboard\"]             3      3  1.000000    0.0   0    3   \n",
       "[\"gurucool\"]            325    880  0.369318    0.0   0  172   \n",
       "[\"iOS\"]                 483   2139  0.225806    0.0   0   62   \n",
       "[\"ios\"]                 488   2332  0.209262    0.0   0   49   \n",
       "\n",
       "              totalRechargeAmount                                            \n",
       "                              sum  count        mean median  min        max  \n",
       "website                                                                      \n",
       "[\"app\"]                1650063.28  77899   21.182086    0.0  0.0  193124.00  \n",
       "[\"dashboard\"]             1240.18      3  413.393333    0.0  0.0    1240.18  \n",
       "[\"gurucool\"]            174000.06    880  197.727341    0.0  0.0  141867.00  \n",
       "[\"iOS\"]                  56754.00   2139   26.532959    0.0  0.0   12045.00  \n",
       "[\"ios\"]                  86134.58   2332   36.935926    0.0  0.0   10964.00  "
      ]
     },
     "execution_count": 58,
     "metadata": {},
     "output_type": "execute_result"
    }
   ],
   "source": [
    "df1.groupby(\"website\")[[\"wallet\", \"totalRecharge\", \"totalRechargeAmount\"]].agg([\"sum\", \"count\", \"mean\",\"median\" ,\"min\", \"max\"])"
   ]
  },
  {
   "cell_type": "code",
   "execution_count": 59,
   "metadata": {},
   "outputs": [
    {
     "data": {
      "text/plain": [
       "<AxesSubplot: xlabel='website'>"
      ]
     },
     "execution_count": 59,
     "metadata": {},
     "output_type": "execute_result"
    },
    {
     "data": {
      "image/png": "[encoded data removed]",
      "text/plain": [
       "<Figure size 640x480 with 1 Axes>"
      ]
     },
     "metadata": {},
     "output_type": "display_data"
    }
   ],
   "source": [
    "df1.groupby(\"website\")[[\"wallet\", \"totalRecharge\", \"totalRechargeAmount\"]].agg([\"sum\"]).plot(kind=\"bar\")"
   ]
  },
  {
   "cell_type": "markdown",
   "metadata": {},
   "source": [
    ">Since this dataset contains most of the new users who use android app we can expect that the total amount contributed by these users is greater than rest"
   ]
  },
  {
   "cell_type": "code",
   "execution_count": 60,
   "metadata": {},
   "outputs": [
    {
     "data": {
      "text/plain": [
       "Index(['id', 'uid', 'order id', 'status', 'amount', 'gst', 'utc time',\n",
       "       'gurujiuser', 'gateway', 'mode', 'totalamount', 'istdate'],\n",
       "      dtype='object')"
      ]
     },
     "execution_count": 60,
     "metadata": {},
     "output_type": "execute_result"
    }
   ],
   "source": [
    "df.columns"
   ]
  },
  {
   "cell_type": "code",
   "execution_count": 61,
   "metadata": {},
   "outputs": [
    {
     "data": {
      "text/plain": [
       "Index(['wallet', 'isInternational', 'consultationCount', 'website',\n",
       "       'totalRecharge', 'chatConsultationCount', 'totalRechargeAmount',\n",
       "       'createdAt', '_id', 'uid', 'role', 'gurujiUser', 'ISTDate'],\n",
       "      dtype='object')"
      ]
     },
     "execution_count": 61,
     "metadata": {},
     "output_type": "execute_result"
    }
   ],
   "source": [
    "df1.columns"
   ]
  },
  {
   "cell_type": "markdown",
   "metadata": {},
   "source": [
    "## <font color=\"yellow\"> Cohort analysis :"
   ]
  },
  {
   "cell_type": "code",
   "execution_count": 62,
   "metadata": {},
   "outputs": [
    {
     "name": "stderr",
     "output_type": "stream",
     "text": [
      "C:\\Users\\mahik\\AppData\\Local\\Temp\\ipykernel_10584\\3244004837.py:2: UserWarning: Converting to PeriodArray/Index representation will drop timezone information.\n",
      "  df['transaction_date'] = pd.to_datetime(df['istdate']).dt.to_period('M')\n"
     ]
    }
   ],
   "source": [
    "# 1. First, let's create a cohort based on the first transaction date for each user\n",
    "df['transaction_date'] = pd.to_datetime(df['istdate']).dt.to_period('M')\n",
    "cohort = df.groupby('uid')['transaction_date'].min().reset_index()\n",
    "cohort.columns = ['uid', 'cohort_date']\n"
   ]
  },
  {
   "cell_type": "code",
   "execution_count": 63,
   "metadata": {},
   "outputs": [
    {
     "data": {
      "text/html": [
       "<div>\n",
       "<style scoped>\n",
       "    .dataframe tbody tr th:only-of-type {\n",
       "        vertical-align: middle;\n",
       "    }\n",
       "\n",
       "    .dataframe tbody tr th {\n",
       "        vertical-align: top;\n",
       "    }\n",
       "\n",
       "    .dataframe thead th {\n",
       "        text-align: right;\n",
       "    }\n",
       "</style>\n",
       "<table border=\"1\" class=\"dataframe\">\n",
       "  <thead>\n",
       "    <tr style=\"text-align: right;\">\n",
       "      <th></th>\n",
       "      <th>uid</th>\n",
       "      <th>cohort_date</th>\n",
       "    </tr>\n",
       "  </thead>\n",
       "  <tbody>\n",
       "    <tr>\n",
       "      <th>0</th>\n",
       "      <td>19</td>\n",
       "      <td>2024-07</td>\n",
       "    </tr>\n",
       "    <tr>\n",
       "      <th>1</th>\n",
       "      <td>162</td>\n",
       "      <td>2024-06</td>\n",
       "    </tr>\n",
       "    <tr>\n",
       "      <th>2</th>\n",
       "      <td>437</td>\n",
       "      <td>2024-06</td>\n",
       "    </tr>\n",
       "    <tr>\n",
       "      <th>3</th>\n",
       "      <td>463</td>\n",
       "      <td>2024-07</td>\n",
       "    </tr>\n",
       "    <tr>\n",
       "      <th>4</th>\n",
       "      <td>466</td>\n",
       "      <td>2024-06</td>\n",
       "    </tr>\n",
       "  </tbody>\n",
       "</table>\n",
       "</div>"
      ],
      "text/plain": [
       "   uid cohort_date\n",
       "0   19     2024-07\n",
       "1  162     2024-06\n",
       "2  437     2024-06\n",
       "3  463     2024-07\n",
       "4  466     2024-06"
      ]
     },
     "execution_count": 63,
     "metadata": {},
     "output_type": "execute_result"
    }
   ],
   "source": [
    "cohort.head()"
   ]
  },
  {
   "cell_type": "markdown",
   "metadata": {},
   "source": [
    "> <font color=\"yellow\"> Observation : Transaction date tells us the month of the transaction and cohort date tells us the month of the first transaction for each user based on uid"
   ]
  },
  {
   "cell_type": "code",
   "execution_count": 64,
   "metadata": {},
   "outputs": [],
   "source": [
    "\n",
    "# Merge cohort dates back to the main dataframe\n",
    "df = df.merge(cohort, on='uid', how='left')\n",
    "\n",
    "#  Calculate the number of periods between transaction_date and cohort_date\n",
    "\n",
    "# The subtraction of two Period objects returns a Period offset\n",
    "# .n extracts the number of periods (months in this case) from this offset\n",
    "df['cohort_index'] = (df['transaction_date'] - df['cohort_date']).apply(lambda x: x.n)\n",
    "\n"
   ]
  },
  {
   "cell_type": "code",
   "execution_count": 67,
   "metadata": {},
   "outputs": [
    {
     "data": {
      "text/html": [
       "<div>\n",
       "<style scoped>\n",
       "    .dataframe tbody tr th:only-of-type {\n",
       "        vertical-align: middle;\n",
       "    }\n",
       "\n",
       "    .dataframe tbody tr th {\n",
       "        vertical-align: top;\n",
       "    }\n",
       "\n",
       "    .dataframe thead th {\n",
       "        text-align: right;\n",
       "    }\n",
       "</style>\n",
       "<table border=\"1\" class=\"dataframe\">\n",
       "  <thead>\n",
       "    <tr style=\"text-align: right;\">\n",
       "      <th></th>\n",
       "      <th>id</th>\n",
       "      <th>uid</th>\n",
       "      <th>order id</th>\n",
       "      <th>status</th>\n",
       "      <th>amount</th>\n",
       "      <th>gst</th>\n",
       "      <th>utc time</th>\n",
       "      <th>gurujiuser</th>\n",
       "      <th>gateway</th>\n",
       "      <th>mode</th>\n",
       "      <th>totalamount</th>\n",
       "      <th>istdate</th>\n",
       "      <th>transaction_date</th>\n",
       "      <th>cohort_date</th>\n",
       "      <th>cohort_index</th>\n",
       "    </tr>\n",
       "  </thead>\n",
       "  <tbody>\n",
       "    <tr>\n",
       "      <th>0</th>\n",
       "      <td>665a173b9efc2e9fa90ab8c3</td>\n",
       "      <td>209937</td>\n",
       "      <td>order_OHCTwUL5S4z9kY</td>\n",
       "      <td>captured</td>\n",
       "      <td>100.0</td>\n",
       "      <td>18.0</td>\n",
       "      <td>2024-05-31 18:30:19.083000+00:00</td>\n",
       "      <td>False</td>\n",
       "      <td>Razorpay</td>\n",
       "      <td>app</td>\n",
       "      <td>118.0</td>\n",
       "      <td>2024-06-01 00:00:19.083000+00:00</td>\n",
       "      <td>2024-06</td>\n",
       "      <td>2024-06</td>\n",
       "      <td>0</td>\n",
       "    </tr>\n",
       "    <tr>\n",
       "      <th>1</th>\n",
       "      <td>665a179c9efc2e9fa90af52a</td>\n",
       "      <td>119321</td>\n",
       "      <td>order_OHCVex44YhZDba</td>\n",
       "      <td>captured</td>\n",
       "      <td>100.0</td>\n",
       "      <td>18.0</td>\n",
       "      <td>2024-05-31 18:31:56.624000+00:00</td>\n",
       "      <td>True</td>\n",
       "      <td>Razorpay</td>\n",
       "      <td>ios</td>\n",
       "      <td>118.0</td>\n",
       "      <td>2024-06-01 00:01:56.624000+00:00</td>\n",
       "      <td>2024-06</td>\n",
       "      <td>2024-06</td>\n",
       "      <td>0</td>\n",
       "    </tr>\n",
       "    <tr>\n",
       "      <th>2</th>\n",
       "      <td>665a18099efc2e9fa90b46b6</td>\n",
       "      <td>119321</td>\n",
       "      <td>order_OHCXZM6fCvpYVu</td>\n",
       "      <td>captured</td>\n",
       "      <td>920.0</td>\n",
       "      <td>144.0</td>\n",
       "      <td>2024-05-31 18:33:45.091000+00:00</td>\n",
       "      <td>True</td>\n",
       "      <td>Razorpay</td>\n",
       "      <td>ios</td>\n",
       "      <td>1064.0</td>\n",
       "      <td>2024-06-01 00:03:45.091000+00:00</td>\n",
       "      <td>2024-06</td>\n",
       "      <td>2024-06</td>\n",
       "      <td>0</td>\n",
       "    </tr>\n",
       "    <tr>\n",
       "      <th>3</th>\n",
       "      <td>665a1a1d9efc2e9fa90cd84c</td>\n",
       "      <td>212656</td>\n",
       "      <td>order_OHCgwQVPGVdZfj</td>\n",
       "      <td>captured</td>\n",
       "      <td>200.0</td>\n",
       "      <td>36.0</td>\n",
       "      <td>2024-05-31 18:42:37.431000+00:00</td>\n",
       "      <td>False</td>\n",
       "      <td>Razorpay</td>\n",
       "      <td>app</td>\n",
       "      <td>236.0</td>\n",
       "      <td>2024-06-01 00:12:37.431000+00:00</td>\n",
       "      <td>2024-06</td>\n",
       "      <td>2024-06</td>\n",
       "      <td>0</td>\n",
       "    </tr>\n",
       "    <tr>\n",
       "      <th>4</th>\n",
       "      <td>665a1c599efc2e9fa90e4592</td>\n",
       "      <td>209937</td>\n",
       "      <td>order_OHCr0nTyLd2re5</td>\n",
       "      <td>captured</td>\n",
       "      <td>100.0</td>\n",
       "      <td>18.0</td>\n",
       "      <td>2024-05-31 18:52:09.436000+00:00</td>\n",
       "      <td>False</td>\n",
       "      <td>Razorpay</td>\n",
       "      <td>app</td>\n",
       "      <td>118.0</td>\n",
       "      <td>2024-06-01 00:22:09.436000+00:00</td>\n",
       "      <td>2024-06</td>\n",
       "      <td>2024-06</td>\n",
       "      <td>0</td>\n",
       "    </tr>\n",
       "  </tbody>\n",
       "</table>\n",
       "</div>"
      ],
      "text/plain": [
       "                         id     uid              order id    status  amount  \\\n",
       "0  665a173b9efc2e9fa90ab8c3  209937  order_OHCTwUL5S4z9kY  captured   100.0   \n",
       "1  665a179c9efc2e9fa90af52a  119321  order_OHCVex44YhZDba  captured   100.0   \n",
       "2  665a18099efc2e9fa90b46b6  119321  order_OHCXZM6fCvpYVu  captured   920.0   \n",
       "3  665a1a1d9efc2e9fa90cd84c  212656  order_OHCgwQVPGVdZfj  captured   200.0   \n",
       "4  665a1c599efc2e9fa90e4592  209937  order_OHCr0nTyLd2re5  captured   100.0   \n",
       "\n",
       "     gst                         utc time gurujiuser   gateway mode  \\\n",
       "0   18.0 2024-05-31 18:30:19.083000+00:00      False  Razorpay  app   \n",
       "1   18.0 2024-05-31 18:31:56.624000+00:00       True  Razorpay  ios   \n",
       "2  144.0 2024-05-31 18:33:45.091000+00:00       True  Razorpay  ios   \n",
       "3   36.0 2024-05-31 18:42:37.431000+00:00      False  Razorpay  app   \n",
       "4   18.0 2024-05-31 18:52:09.436000+00:00      False  Razorpay  app   \n",
       "\n",
       "   totalamount                          istdate transaction_date cohort_date  \\\n",
       "0        118.0 2024-06-01 00:00:19.083000+00:00          2024-06     2024-06   \n",
       "1        118.0 2024-06-01 00:01:56.624000+00:00          2024-06     2024-06   \n",
       "2       1064.0 2024-06-01 00:03:45.091000+00:00          2024-06     2024-06   \n",
       "3        236.0 2024-06-01 00:12:37.431000+00:00          2024-06     2024-06   \n",
       "4        118.0 2024-06-01 00:22:09.436000+00:00          2024-06     2024-06   \n",
       "\n",
       "   cohort_index  \n",
       "0             0  \n",
       "1             0  \n",
       "2             0  \n",
       "3             0  \n",
       "4             0  "
      ]
     },
     "execution_count": 67,
     "metadata": {},
     "output_type": "execute_result"
    }
   ],
   "source": [
    "df.head()"
   ]
  },
  {
   "cell_type": "code",
   "execution_count": 68,
   "metadata": {},
   "outputs": [
    {
     "name": "stdout",
     "output_type": "stream",
     "text": [
      "2024-06-01 00:00:19.083000+00:00 2024-08-10 23:59:22.393000+00:00\n"
     ]
    }
   ],
   "source": [
    "# min and max istdate \n",
    "print(df[\"istdate\"].min(), df[\"istdate\"].max())"
   ]
  },
  {
   "cell_type": "code",
   "execution_count": 66,
   "metadata": {},
   "outputs": [
    {
     "data": {
      "text/plain": [
       "0    8959\n",
       "1    3532\n",
       "2    1024\n",
       "Name: cohort_index, dtype: int64"
      ]
     },
     "execution_count": 66,
     "metadata": {},
     "output_type": "execute_result"
    }
   ],
   "source": [
    "df[\"cohort_index\"].value_counts()"
   ]
  },
  {
   "cell_type": "markdown",
   "metadata": {},
   "source": [
    "This creates groups like:\n",
    "\n",
    "(Jan 2023, 0) = Users who joined in Jan 2023, their first month\n",
    "\n",
    "(Jan 2023, 1) = Users who joined in Jan 2023, their second month\n",
    "\n",
    "(Feb 2023, 0) = Users who joined in Feb 2023, their first month etc."
   ]
  },
  {
   "cell_type": "code",
   "execution_count": 69,
   "metadata": {},
   "outputs": [],
   "source": [
    "# Create the cohort table for user retention\n",
    "\n",
    "cohort_data = df.groupby(['cohort_date', 'cohort_index'])['uid'].nunique().reset_index()\n",
    "\n",
    "cohort_table = cohort_data.pivot(index='cohort_date', columns='cohort_index', values='uid')"
   ]
  },
  {
   "cell_type": "code",
   "execution_count": 77,
   "metadata": {},
   "outputs": [
    {
     "data": {
      "text/html": [
       "<div>\n",
       "<style scoped>\n",
       "    .dataframe tbody tr th:only-of-type {\n",
       "        vertical-align: middle;\n",
       "    }\n",
       "\n",
       "    .dataframe tbody tr th {\n",
       "        vertical-align: top;\n",
       "    }\n",
       "\n",
       "    .dataframe thead th {\n",
       "        text-align: right;\n",
       "    }\n",
       "</style>\n",
       "<table border=\"1\" class=\"dataframe\">\n",
       "  <thead>\n",
       "    <tr style=\"text-align: right;\">\n",
       "      <th></th>\n",
       "      <th>cohort_date</th>\n",
       "      <th>cohort_index</th>\n",
       "      <th>uid</th>\n",
       "    </tr>\n",
       "  </thead>\n",
       "  <tbody>\n",
       "    <tr>\n",
       "      <th>0</th>\n",
       "      <td>2024-06</td>\n",
       "      <td>0</td>\n",
       "      <td>1132</td>\n",
       "    </tr>\n",
       "    <tr>\n",
       "      <th>1</th>\n",
       "      <td>2024-06</td>\n",
       "      <td>1</td>\n",
       "      <td>344</td>\n",
       "    </tr>\n",
       "    <tr>\n",
       "      <th>2</th>\n",
       "      <td>2024-06</td>\n",
       "      <td>2</td>\n",
       "      <td>198</td>\n",
       "    </tr>\n",
       "    <tr>\n",
       "      <th>3</th>\n",
       "      <td>2024-07</td>\n",
       "      <td>0</td>\n",
       "      <td>2852</td>\n",
       "    </tr>\n",
       "    <tr>\n",
       "      <th>4</th>\n",
       "      <td>2024-07</td>\n",
       "      <td>1</td>\n",
       "      <td>98</td>\n",
       "    </tr>\n",
       "    <tr>\n",
       "      <th>5</th>\n",
       "      <td>2024-08</td>\n",
       "      <td>0</td>\n",
       "      <td>525</td>\n",
       "    </tr>\n",
       "  </tbody>\n",
       "</table>\n",
       "</div>"
      ],
      "text/plain": [
       "  cohort_date  cohort_index   uid\n",
       "0     2024-06             0  1132\n",
       "1     2024-06             1   344\n",
       "2     2024-06             2   198\n",
       "3     2024-07             0  2852\n",
       "4     2024-07             1    98\n",
       "5     2024-08             0   525"
      ]
     },
     "execution_count": 77,
     "metadata": {},
     "output_type": "execute_result"
    }
   ],
   "source": [
    "cohort_data"
   ]
  },
  {
   "cell_type": "markdown",
   "metadata": {},
   "source": [
    "> <font color=\"yellow\"> The pivot is beneficial because:\n",
    "\n",
    "Each row represents one cohort (users who started in the same month)\n",
    "Each column represents months since first transaction (cohort_index)\n",
    "Values show how many users were active in each period\n",
    "\n",
    "Makes it easier to:\n",
    "\n",
    "Read retention rates across time\n",
    "\n",
    "Compare different cohorts side by side\n"
   ]
  },
  {
   "cell_type": "code",
   "execution_count": 76,
   "metadata": {},
   "outputs": [
    {
     "data": {
      "text/html": [
       "<div>\n",
       "<style scoped>\n",
       "    .dataframe tbody tr th:only-of-type {\n",
       "        vertical-align: middle;\n",
       "    }\n",
       "\n",
       "    .dataframe tbody tr th {\n",
       "        vertical-align: top;\n",
       "    }\n",
       "\n",
       "    .dataframe thead th {\n",
       "        text-align: right;\n",
       "    }\n",
       "</style>\n",
       "<table border=\"1\" class=\"dataframe\">\n",
       "  <thead>\n",
       "    <tr style=\"text-align: right;\">\n",
       "      <th>cohort_index</th>\n",
       "      <th>0</th>\n",
       "      <th>1</th>\n",
       "      <th>2</th>\n",
       "    </tr>\n",
       "    <tr>\n",
       "      <th>cohort_date</th>\n",
       "      <th></th>\n",
       "      <th></th>\n",
       "      <th></th>\n",
       "    </tr>\n",
       "  </thead>\n",
       "  <tbody>\n",
       "    <tr>\n",
       "      <th>2024-06</th>\n",
       "      <td>1132.0</td>\n",
       "      <td>344.0</td>\n",
       "      <td>198.0</td>\n",
       "    </tr>\n",
       "    <tr>\n",
       "      <th>2024-07</th>\n",
       "      <td>2852.0</td>\n",
       "      <td>98.0</td>\n",
       "      <td>NaN</td>\n",
       "    </tr>\n",
       "    <tr>\n",
       "      <th>2024-08</th>\n",
       "      <td>525.0</td>\n",
       "      <td>NaN</td>\n",
       "      <td>NaN</td>\n",
       "    </tr>\n",
       "  </tbody>\n",
       "</table>\n",
       "</div>"
      ],
      "text/plain": [
       "cohort_index       0      1      2\n",
       "cohort_date                       \n",
       "2024-06       1132.0  344.0  198.0\n",
       "2024-07       2852.0   98.0    NaN\n",
       "2024-08        525.0    NaN    NaN"
      ]
     },
     "execution_count": 76,
     "metadata": {},
     "output_type": "execute_result"
    }
   ],
   "source": [
    "cohort_table"
   ]
  },
  {
   "cell_type": "code",
   "execution_count": 78,
   "metadata": {},
   "outputs": [
    {
     "data": {
      "text/plain": [
       "cohort_date\n",
       "2024-06    1132.0\n",
       "2024-07    2852.0\n",
       "2024-08     525.0\n",
       "Freq: M, Name: 0, dtype: float64"
      ]
     },
     "execution_count": 78,
     "metadata": {},
     "output_type": "execute_result"
    }
   ],
   "source": [
    "cohort_table[0]"
   ]
  },
  {
   "cell_type": "code",
   "execution_count": 72,
   "metadata": {},
   "outputs": [],
   "source": [
    "# Calculate retention rates\n",
    "\n",
    "cohort_sizes = cohort_table[0]\n",
    "\n",
    "retention_table = cohort_table.divide(cohort_sizes, axis=0) * 100"
   ]
  },
  {
   "cell_type": "markdown",
   "metadata": {},
   "source": [
    "> <font color=\"yellow\"> Observation :\n",
    "\n",
    "We need to calculate how much the cohort has grown each month, that's why we took the intial cohort size for the first month as base , from there we can calculate the retention rate"
   ]
  },
  {
   "cell_type": "markdown",
   "metadata": {},
   "source": [
    ">#### <font color=\"yellow\"> Retention table for each cohort : "
   ]
  },
  {
   "cell_type": "code",
   "execution_count": 79,
   "metadata": {},
   "outputs": [
    {
     "data": {
      "text/html": [
       "<div>\n",
       "<style scoped>\n",
       "    .dataframe tbody tr th:only-of-type {\n",
       "        vertical-align: middle;\n",
       "    }\n",
       "\n",
       "    .dataframe tbody tr th {\n",
       "        vertical-align: top;\n",
       "    }\n",
       "\n",
       "    .dataframe thead th {\n",
       "        text-align: right;\n",
       "    }\n",
       "</style>\n",
       "<table border=\"1\" class=\"dataframe\">\n",
       "  <thead>\n",
       "    <tr style=\"text-align: right;\">\n",
       "      <th>cohort_index</th>\n",
       "      <th>0</th>\n",
       "      <th>1</th>\n",
       "      <th>2</th>\n",
       "    </tr>\n",
       "    <tr>\n",
       "      <th>cohort_date</th>\n",
       "      <th></th>\n",
       "      <th></th>\n",
       "      <th></th>\n",
       "    </tr>\n",
       "  </thead>\n",
       "  <tbody>\n",
       "    <tr>\n",
       "      <th>2024-06</th>\n",
       "      <td>100.0</td>\n",
       "      <td>30.388693</td>\n",
       "      <td>17.491166</td>\n",
       "    </tr>\n",
       "    <tr>\n",
       "      <th>2024-07</th>\n",
       "      <td>100.0</td>\n",
       "      <td>3.436185</td>\n",
       "      <td>NaN</td>\n",
       "    </tr>\n",
       "    <tr>\n",
       "      <th>2024-08</th>\n",
       "      <td>100.0</td>\n",
       "      <td>NaN</td>\n",
       "      <td>NaN</td>\n",
       "    </tr>\n",
       "  </tbody>\n",
       "</table>\n",
       "</div>"
      ],
      "text/plain": [
       "cohort_index      0          1          2\n",
       "cohort_date                              \n",
       "2024-06       100.0  30.388693  17.491166\n",
       "2024-07       100.0   3.436185        NaN\n",
       "2024-08       100.0        NaN        NaN"
      ]
     },
     "execution_count": 79,
     "metadata": {},
     "output_type": "execute_result"
    }
   ],
   "source": [
    "retention_table"
   ]
  },
  {
   "cell_type": "markdown",
   "metadata": {},
   "source": [
    "> <font color=\"yellow\"> Observation :\n",
    "\n",
    "NaN in the retention table represents :\n",
    "\n",
    "Future Months:\n",
    "\n",
    "For recent cohorts, NaN appears in future months because that data doesn't exist yet\n",
    "\n",
    "Example: For a cohort that started in June 2023, you can't have data for their behavior 6 months later if it's only July 2023"
   ]
  },
  {
   "cell_type": "code",
   "execution_count": 80,
   "metadata": {},
   "outputs": [
    {
     "data": {
      "image/png": "[encoded data removed]",
      "text/plain": [
       "<Figure size 1500x800 with 2 Axes>"
      ]
     },
     "metadata": {},
     "output_type": "display_data"
    }
   ],
   "source": [
    "# Visualize the retention rates using a heatmap\n",
    "plt.figure(figsize=(15, 8))\n",
    "sns.heatmap(retention_table, annot=True, fmt='.1f', cmap='YlOrRd')\n",
    "plt.title('User Retention by Cohort (%)')\n",
    "plt.xlabel('Months Since First Transaction')\n",
    "plt.ylabel('Cohort Month')\n",
    "plt.show()\n"
   ]
  },
  {
   "cell_type": "markdown",
   "metadata": {},
   "source": [
    "> ##### <font color=\"yellow\"> Calculate average transaction amount by cohort : \n"
   ]
  },
  {
   "cell_type": "code",
   "execution_count": 81,
   "metadata": {},
   "outputs": [
    {
     "data": {
      "image/png": "[encoded data removed]",
      "text/plain": [
       "<Figure size 1500x800 with 2 Axes>"
      ]
     },
     "metadata": {},
     "output_type": "display_data"
    }
   ],
   "source": [
    "\n",
    "amount_cohort = df.groupby(['cohort_date', 'cohort_index'])['amount'].mean().reset_index()\n",
    "amount_cohort_table = amount_cohort.pivot(index='cohort_date', columns='cohort_index', values='amount')\n",
    "\n",
    "plt.figure(figsize=(15, 8))\n",
    "sns.heatmap(amount_cohort_table, annot=True, fmt='.0f', cmap='YlOrRd')\n",
    "plt.title('Average Transaction Amount by Cohort')\n",
    "plt.xlabel('Months Since First Transaction')\n",
    "plt.ylabel('Cohort Month')\n",
    "plt.show()"
   ]
  },
  {
   "cell_type": "markdown",
   "metadata": {},
   "source": [
    "> <font color=\"yellow\"> Observation :\n",
    "\n",
    "This analysis helps understand:\n",
    "\n",
    "Initial spending patterns of new users \n",
    "\n",
    "How spending behavior changes over time\n",
    "\n",
    "Which cohorts have higher/lower average transaction values"
   ]
  },
  {
   "cell_type": "markdown",
   "metadata": {},
   "source": [
    "> <font color=\"yellow\"> After spending some time i.e after a month we could see that the average transaction amount is higher for the first month of the cohort , however the retention rate is lower"
   ]
  },
  {
   "cell_type": "code",
   "execution_count": 82,
   "metadata": {},
   "outputs": [
    {
     "data": {
      "text/html": [
       "<div>\n",
       "<style scoped>\n",
       "    .dataframe tbody tr th:only-of-type {\n",
       "        vertical-align: middle;\n",
       "    }\n",
       "\n",
       "    .dataframe tbody tr th {\n",
       "        vertical-align: top;\n",
       "    }\n",
       "\n",
       "    .dataframe thead th {\n",
       "        text-align: right;\n",
       "    }\n",
       "</style>\n",
       "<table border=\"1\" class=\"dataframe\">\n",
       "  <thead>\n",
       "    <tr style=\"text-align: right;\">\n",
       "      <th>cohort_index</th>\n",
       "      <th>0</th>\n",
       "      <th>1</th>\n",
       "      <th>2</th>\n",
       "    </tr>\n",
       "    <tr>\n",
       "      <th>cohort_date</th>\n",
       "      <th></th>\n",
       "      <th></th>\n",
       "      <th></th>\n",
       "    </tr>\n",
       "  </thead>\n",
       "  <tbody>\n",
       "    <tr>\n",
       "      <th>2024-06</th>\n",
       "      <td>346.882558</td>\n",
       "      <td>423.739552</td>\n",
       "      <td>463.530273</td>\n",
       "    </tr>\n",
       "    <tr>\n",
       "      <th>2024-07</th>\n",
       "      <td>100.382281</td>\n",
       "      <td>393.608696</td>\n",
       "      <td>NaN</td>\n",
       "    </tr>\n",
       "    <tr>\n",
       "      <th>2024-08</th>\n",
       "      <td>114.264910</td>\n",
       "      <td>NaN</td>\n",
       "      <td>NaN</td>\n",
       "    </tr>\n",
       "  </tbody>\n",
       "</table>\n",
       "</div>"
      ],
      "text/plain": [
       "cohort_index           0           1           2\n",
       "cohort_date                                     \n",
       "2024-06       346.882558  423.739552  463.530273\n",
       "2024-07       100.382281  393.608696         NaN\n",
       "2024-08       114.264910         NaN         NaN"
      ]
     },
     "execution_count": 82,
     "metadata": {},
     "output_type": "execute_result"
    }
   ],
   "source": [
    "amount_cohort_table"
   ]
  },
  {
   "cell_type": "markdown",
   "metadata": {},
   "source": [
    "> <font color=\"yellow\">  Additional analysis - Total transaction value by cohort : \n"
   ]
  },
  {
   "cell_type": "code",
   "execution_count": 83,
   "metadata": {},
   "outputs": [
    {
     "data": {
      "image/png": "[encoded data removed]",
      "text/plain": [
       "<Figure size 1500x800 with 2 Axes>"
      ]
     },
     "metadata": {},
     "output_type": "display_data"
    }
   ],
   "source": [
    "# Additional analysis - Total transaction value by cohort\n",
    "\n",
    "total_amount_cohort = df.groupby(['cohort_date', 'cohort_index'])['totalamount'].sum().reset_index()\n",
    "total_amount_table = total_amount_cohort.pivot(index='cohort_date', columns='cohort_index', values='totalamount')\n",
    "\n",
    "plt.figure(figsize=(15, 8))\n",
    "sns.heatmap(total_amount_table, annot=True, fmt='.0f', cmap='YlOrRd')\n",
    "plt.title('Total Transaction Value by Cohort')\n",
    "plt.xlabel('Months Since First Transaction')\n",
    "plt.ylabel('Cohort Month')\n",
    "plt.show()\n",
    "\n"
   ]
  },
  {
   "cell_type": "code",
   "execution_count": 84,
   "metadata": {},
   "outputs": [
    {
     "name": "stdout",
     "output_type": "stream",
     "text": [
      "\n",
      "Cohort Summary Statistics:\n",
      "--------------------------------------------------\n",
      "                uid  amount            totalamount\n",
      "            nunique    mean        sum         sum\n",
      "cohort_date                                       \n",
      "2024-06        1132  388.79  3462912.0  4032381.42\n",
      "2024-07        2852  117.73   457628.0   532232.24\n",
      "2024-08         525  114.26    82385.0    95192.18\n"
     ]
    }
   ],
   "source": [
    "#  Print summary statistics for each cohort\n",
    "print(\"Cohort Summary Statistics:\")\n",
    "print(\"-\" * 50)\n",
    "cohort_summary = df.groupby('cohort_date').agg({\n",
    "    'uid': 'nunique',\n",
    "    'amount': ['mean', 'sum'],\n",
    "    'totalamount': 'sum'\n",
    "}).round(2)\n",
    "\n",
    "print(cohort_summary)"
   ]
  },
  {
   "cell_type": "markdown",
   "metadata": {},
   "source": [
    ">### <font color=\"yellow\"> Revenue Growth Analysis : "
   ]
  },
  {
   "cell_type": "code",
   "execution_count": null,
   "metadata": {},
   "outputs": [],
   "source": [
    "#  First, let's create time-based revenue analysis\n",
    "df['month_year'] = pd.to_datetime(df['istdate']).dt.to_period('M')\n",
    "\n",
    "# Monthly revenue trends\n",
    "monthly_revenue = df.groupby('month_year').agg({\n",
    "    'amount': 'sum',\n",
    "    'uid': 'nunique',\n",
    "    'order id': 'count'\n",
    "}).reset_index()\n"
   ]
  },
  {
   "cell_type": "code",
   "execution_count": 86,
   "metadata": {},
   "outputs": [
    {
     "data": {
      "text/html": [
       "<div>\n",
       "<style scoped>\n",
       "    .dataframe tbody tr th:only-of-type {\n",
       "        vertical-align: middle;\n",
       "    }\n",
       "\n",
       "    .dataframe tbody tr th {\n",
       "        vertical-align: top;\n",
       "    }\n",
       "\n",
       "    .dataframe thead th {\n",
       "        text-align: right;\n",
       "    }\n",
       "</style>\n",
       "<table border=\"1\" class=\"dataframe\">\n",
       "  <thead>\n",
       "    <tr style=\"text-align: right;\">\n",
       "      <th></th>\n",
       "      <th>month_year</th>\n",
       "      <th>amount</th>\n",
       "      <th>uid</th>\n",
       "      <th>order id</th>\n",
       "    </tr>\n",
       "  </thead>\n",
       "  <tbody>\n",
       "    <tr>\n",
       "      <th>0</th>\n",
       "      <td>2024-06</td>\n",
       "      <td>1589069.0</td>\n",
       "      <td>1132</td>\n",
       "      <td>4581</td>\n",
       "    </tr>\n",
       "    <tr>\n",
       "      <th>1</th>\n",
       "      <td>2024-07</td>\n",
       "      <td>1766286.0</td>\n",
       "      <td>3196</td>\n",
       "      <td>6959</td>\n",
       "    </tr>\n",
       "    <tr>\n",
       "      <th>2</th>\n",
       "      <td>2024-08</td>\n",
       "      <td>647570.0</td>\n",
       "      <td>821</td>\n",
       "      <td>1975</td>\n",
       "    </tr>\n",
       "  </tbody>\n",
       "</table>\n",
       "</div>"
      ],
      "text/plain": [
       "  month_year     amount   uid  order id\n",
       "0    2024-06  1589069.0  1132      4581\n",
       "1    2024-07  1766286.0  3196      6959\n",
       "2    2024-08   647570.0   821      1975"
      ]
     },
     "execution_count": 86,
     "metadata": {},
     "output_type": "execute_result"
    }
   ],
   "source": [
    "monthly_revenue"
   ]
  },
  {
   "cell_type": "code",
   "execution_count": 87,
   "metadata": {},
   "outputs": [],
   "source": [
    "# Calculate month-over-month growth\n",
    "monthly_revenue['revenue_growth'] = monthly_revenue['amount'].pct_change() * 100\n",
    "monthly_revenue['user_growth'] = monthly_revenue['uid'].pct_change() * 100"
   ]
  },
  {
   "cell_type": "code",
   "execution_count": 88,
   "metadata": {},
   "outputs": [
    {
     "data": {
      "text/html": [
       "<div>\n",
       "<style scoped>\n",
       "    .dataframe tbody tr th:only-of-type {\n",
       "        vertical-align: middle;\n",
       "    }\n",
       "\n",
       "    .dataframe tbody tr th {\n",
       "        vertical-align: top;\n",
       "    }\n",
       "\n",
       "    .dataframe thead th {\n",
       "        text-align: right;\n",
       "    }\n",
       "</style>\n",
       "<table border=\"1\" class=\"dataframe\">\n",
       "  <thead>\n",
       "    <tr style=\"text-align: right;\">\n",
       "      <th></th>\n",
       "      <th>month_year</th>\n",
       "      <th>amount</th>\n",
       "      <th>uid</th>\n",
       "      <th>order id</th>\n",
       "      <th>revenue_growth</th>\n",
       "      <th>user_growth</th>\n",
       "    </tr>\n",
       "  </thead>\n",
       "  <tbody>\n",
       "    <tr>\n",
       "      <th>0</th>\n",
       "      <td>2024-06</td>\n",
       "      <td>1589069.0</td>\n",
       "      <td>1132</td>\n",
       "      <td>4581</td>\n",
       "      <td>NaN</td>\n",
       "      <td>NaN</td>\n",
       "    </tr>\n",
       "    <tr>\n",
       "      <th>1</th>\n",
       "      <td>2024-07</td>\n",
       "      <td>1766286.0</td>\n",
       "      <td>3196</td>\n",
       "      <td>6959</td>\n",
       "      <td>11.152253</td>\n",
       "      <td>182.332155</td>\n",
       "    </tr>\n",
       "    <tr>\n",
       "      <th>2</th>\n",
       "      <td>2024-08</td>\n",
       "      <td>647570.0</td>\n",
       "      <td>821</td>\n",
       "      <td>1975</td>\n",
       "      <td>-63.337195</td>\n",
       "      <td>-74.311640</td>\n",
       "    </tr>\n",
       "  </tbody>\n",
       "</table>\n",
       "</div>"
      ],
      "text/plain": [
       "  month_year     amount   uid  order id  revenue_growth  user_growth\n",
       "0    2024-06  1589069.0  1132      4581             NaN          NaN\n",
       "1    2024-07  1766286.0  3196      6959       11.152253   182.332155\n",
       "2    2024-08   647570.0   821      1975      -63.337195   -74.311640"
      ]
     },
     "execution_count": 88,
     "metadata": {},
     "output_type": "execute_result"
    }
   ],
   "source": [
    "monthly_revenue"
   ]
  },
  {
   "cell_type": "markdown",
   "metadata": {},
   "source": [
    "> We could observe that the there is decline in revenue and user growth over time"
   ]
  },
  {
   "cell_type": "code",
   "execution_count": 89,
   "metadata": {},
   "outputs": [],
   "source": [
    "#  Customer Segmentation based on total spend\n",
    "user_spending = df.groupby('uid')['amount'].agg(['sum', 'count']).reset_index()\n",
    "user_spending['avg_transaction'] = user_spending['sum'] / user_spending['count']\n"
   ]
  },
  {
   "cell_type": "code",
   "execution_count": 90,
   "metadata": {},
   "outputs": [
    {
     "data": {
      "text/html": [
       "<div>\n",
       "<style scoped>\n",
       "    .dataframe tbody tr th:only-of-type {\n",
       "        vertical-align: middle;\n",
       "    }\n",
       "\n",
       "    .dataframe tbody tr th {\n",
       "        vertical-align: top;\n",
       "    }\n",
       "\n",
       "    .dataframe thead th {\n",
       "        text-align: right;\n",
       "    }\n",
       "</style>\n",
       "<table border=\"1\" class=\"dataframe\">\n",
       "  <thead>\n",
       "    <tr style=\"text-align: right;\">\n",
       "      <th></th>\n",
       "      <th>uid</th>\n",
       "      <th>sum</th>\n",
       "      <th>count</th>\n",
       "      <th>avg_transaction</th>\n",
       "    </tr>\n",
       "  </thead>\n",
       "  <tbody>\n",
       "    <tr>\n",
       "      <th>0</th>\n",
       "      <td>19</td>\n",
       "      <td>1.0</td>\n",
       "      <td>1</td>\n",
       "      <td>1.000000</td>\n",
       "    </tr>\n",
       "    <tr>\n",
       "      <th>1</th>\n",
       "      <td>162</td>\n",
       "      <td>1500.0</td>\n",
       "      <td>3</td>\n",
       "      <td>500.000000</td>\n",
       "    </tr>\n",
       "    <tr>\n",
       "      <th>2</th>\n",
       "      <td>437</td>\n",
       "      <td>96615.0</td>\n",
       "      <td>158</td>\n",
       "      <td>611.487342</td>\n",
       "    </tr>\n",
       "    <tr>\n",
       "      <th>3</th>\n",
       "      <td>463</td>\n",
       "      <td>16815.0</td>\n",
       "      <td>14</td>\n",
       "      <td>1201.071429</td>\n",
       "    </tr>\n",
       "    <tr>\n",
       "      <th>4</th>\n",
       "      <td>466</td>\n",
       "      <td>56675.0</td>\n",
       "      <td>38</td>\n",
       "      <td>1491.447368</td>\n",
       "    </tr>\n",
       "    <tr>\n",
       "      <th>...</th>\n",
       "      <td>...</td>\n",
       "      <td>...</td>\n",
       "      <td>...</td>\n",
       "      <td>...</td>\n",
       "    </tr>\n",
       "    <tr>\n",
       "      <th>4504</th>\n",
       "      <td>273086</td>\n",
       "      <td>1.0</td>\n",
       "      <td>1</td>\n",
       "      <td>1.000000</td>\n",
       "    </tr>\n",
       "    <tr>\n",
       "      <th>4505</th>\n",
       "      <td>273098</td>\n",
       "      <td>31.0</td>\n",
       "      <td>2</td>\n",
       "      <td>15.500000</td>\n",
       "    </tr>\n",
       "    <tr>\n",
       "      <th>4506</th>\n",
       "      <td>273102</td>\n",
       "      <td>1.0</td>\n",
       "      <td>1</td>\n",
       "      <td>1.000000</td>\n",
       "    </tr>\n",
       "    <tr>\n",
       "      <th>4507</th>\n",
       "      <td>316468</td>\n",
       "      <td>900.0</td>\n",
       "      <td>3</td>\n",
       "      <td>300.000000</td>\n",
       "    </tr>\n",
       "    <tr>\n",
       "      <th>4508</th>\n",
       "      <td>210352222</td>\n",
       "      <td>31.0</td>\n",
       "      <td>2</td>\n",
       "      <td>15.500000</td>\n",
       "    </tr>\n",
       "  </tbody>\n",
       "</table>\n",
       "<p>4509 rows × 4 columns</p>\n",
       "</div>"
      ],
      "text/plain": [
       "            uid      sum  count  avg_transaction\n",
       "0            19      1.0      1         1.000000\n",
       "1           162   1500.0      3       500.000000\n",
       "2           437  96615.0    158       611.487342\n",
       "3           463  16815.0     14      1201.071429\n",
       "4           466  56675.0     38      1491.447368\n",
       "...         ...      ...    ...              ...\n",
       "4504     273086      1.0      1         1.000000\n",
       "4505     273098     31.0      2        15.500000\n",
       "4506     273102      1.0      1         1.000000\n",
       "4507     316468    900.0      3       300.000000\n",
       "4508  210352222     31.0      2        15.500000\n",
       "\n",
       "[4509 rows x 4 columns]"
      ]
     },
     "execution_count": 90,
     "metadata": {},
     "output_type": "execute_result"
    }
   ],
   "source": [
    "user_spending"
   ]
  },
  {
   "cell_type": "markdown",
   "metadata": {},
   "source": [
    ">#### <font color=\"yellow\"> Segementing users based on their spending habits:"
   ]
  },
  {
   "cell_type": "code",
   "execution_count": 92,
   "metadata": {},
   "outputs": [],
   "source": [
    "# Define customer segments using custom logic instead of qcut\n",
    "def get_segment(amount):\n",
    "    if amount <= 500:\n",
    "        return 'Bronze'\n",
    "    elif amount <= 1000:\n",
    "        return 'Silver'\n",
    "    elif amount <= 2000:\n",
    "        return 'Gold'\n",
    "    else:\n",
    "        return 'Platinum'\n",
    "\n",
    "user_spending['segment'] = user_spending['sum'].apply(get_segment)\n",
    "\n",
    "#  Merge with user data (df1) for deeper analysis\n",
    "user_analysis = user_spending.merge(df1, on='uid', how='left')"
   ]
  },
  {
   "cell_type": "markdown",
   "metadata": {},
   "source": [
    "> <font color=\"yellow\"> Customer Segment Distribution :"
   ]
  },
  {
   "cell_type": "code",
   "execution_count": 94,
   "metadata": {},
   "outputs": [
    {
     "data": {
      "text/plain": [
       "Bronze      3880\n",
       "Platinum     327\n",
       "Silver       161\n",
       "Gold         141\n",
       "Name: segment, dtype: int64"
      ]
     },
     "execution_count": 94,
     "metadata": {},
     "output_type": "execute_result"
    }
   ],
   "source": [
    "user_spending[\"segment\"].value_counts()"
   ]
  },
  {
   "cell_type": "markdown",
   "metadata": {},
   "source": [
    "> <font color=\"yellow\"> Observation :  Monthly Revenue Trend"
   ]
  },
  {
   "cell_type": "code",
   "execution_count": 97,
   "metadata": {},
   "outputs": [
    {
     "data": {
      "image/png": "[encoded data removed]",
      "text/plain": [
       "<Figure size 1100x500 with 1 Axes>"
      ]
     },
     "metadata": {},
     "output_type": "display_data"
    }
   ],
   "source": [
    "# Plot 1: Monthly Revenue Trend\n",
    "plt.figure(figsize=(11, 5))\n",
    "plt.plot(range(len(monthly_revenue)), monthly_revenue['amount'], marker='o')\n",
    "plt.title('Monthly Revenue Trend')\n",
    "plt.xticks(range(len(monthly_revenue)), monthly_revenue['month_year'], rotation=45)\n",
    "plt.grid(True)\n",
    "plt.show()\n",
    "\n"
   ]
  },
  {
   "cell_type": "code",
   "execution_count": 100,
   "metadata": {},
   "outputs": [
    {
     "data": {
      "image/png": "[encoded data removed]",
      "text/plain": [
       "<Figure size 640x480 with 1 Axes>"
      ]
     },
     "metadata": {},
     "output_type": "display_data"
    }
   ],
   "source": [
    "user_spending[\"segment\"].value_counts().plot(kind='bar')\n",
    "plt.show()"
   ]
  },
  {
   "cell_type": "markdown",
   "metadata": {},
   "source": [
    "> <font color=\"yellow\"> Observation : We could observe that most of the users are in Bronze segment i.e they spend less than 500 \n",
    "\n",
    "However we need to check whether the revenue generated by these users is greater than other segments or not : "
   ]
  },
  {
   "cell_type": "code",
   "execution_count": 103,
   "metadata": {},
   "outputs": [
    {
     "data": {
      "text/plain": [
       "segment\n",
       "Bronze       202871.0\n",
       "Gold         200588.0\n",
       "Platinum    3477213.0\n",
       "Silver       122253.0\n",
       "Name: sum, dtype: float64"
      ]
     },
     "execution_count": 103,
     "metadata": {},
     "output_type": "execute_result"
    }
   ],
   "source": [
    "user_spending.groupby('segment')['sum'].sum()"
   ]
  },
  {
   "cell_type": "code",
   "execution_count": 98,
   "metadata": {},
   "outputs": [
    {
     "data": {
      "image/png": "[encoded data removed]",
      "text/plain": [
       "<Figure size 1200x600 with 1 Axes>"
      ]
     },
     "metadata": {},
     "output_type": "display_data"
    }
   ],
   "source": [
    "#  Revenue by Customer Segment\n",
    "plt.figure(figsize=(12, 6))\n",
    "segment_revenue = user_spending.groupby('segment')['sum'].sum()\n",
    "plt.bar(segment_revenue.index, segment_revenue.values)\n",
    "plt.title('Revenue by Customer Segment')\n",
    "plt.ylabel('Total Revenue')\n",
    "plt.show()"
   ]
  },
  {
   "cell_type": "markdown",
   "metadata": {},
   "source": [
    "> <font color=\"yellow\"> Observation : If we sum up the total revenue generated by all the users in each segment , we could observe that the total revenue generated by platinum segment is the highest per user (uid)"
   ]
  },
  {
   "cell_type": "code",
   "execution_count": 106,
   "metadata": {},
   "outputs": [
    {
     "data": {
      "text/plain": [
       "segment\n",
       "Bronze       39.363466\n",
       "Gold        434.316264\n",
       "Platinum    627.678556\n",
       "Silver      370.877226\n",
       "Name: avg_transaction, dtype: float64"
      ]
     },
     "execution_count": 106,
     "metadata": {},
     "output_type": "execute_result"
    }
   ],
   "source": [
    "user_spending.groupby('segment')['avg_transaction'].mean()"
   ]
  },
  {
   "cell_type": "code",
   "execution_count": 104,
   "metadata": {},
   "outputs": [
    {
     "data": {
      "image/png": "[encoded data removed]",
      "text/plain": [
       "<Figure size 1200x600 with 1 Axes>"
      ]
     },
     "metadata": {},
     "output_type": "display_data"
    }
   ],
   "source": [
    "#  Average Transaction Value by Segment\n",
    "plt.figure(figsize=(12, 6))\n",
    "avg_transaction = user_spending.groupby('segment')['avg_transaction'].mean()\n",
    "plt.bar(avg_transaction.index, avg_transaction.values)\n",
    "plt.title('Average Transaction Value by Segment')\n",
    "plt.ylabel('Average Transaction Amount')\n",
    "plt.show()\n"
   ]
  },
  {
   "cell_type": "markdown",
   "metadata": {},
   "source": [
    "> <font color=\"yellow\"> Observation : Average ticket size  (Average transaction value) for platinum segment is high , followed by gold segment per user basis"
   ]
  },
  {
   "cell_type": "code",
   "execution_count": 107,
   "metadata": {},
   "outputs": [
    {
     "name": "stdout",
     "output_type": "stream",
     "text": [
      "\n",
      "Key Growth Metrics:\n",
      "--------------------------------------------------\n",
      "Total Revenue: ₹4,002,925.00\n",
      "Total Unique Customers: 4,509\n",
      "Average Transaction Value: ₹296.18\n",
      "\n",
      "Segment Analysis:\n",
      "--------------------------------------------------\n",
      "           uid        sum            count\n",
      "         count        sum      mean   mean\n",
      "segment                                   \n",
      "Bronze    3880   202871.0     52.29   1.16\n",
      "Gold       141   200588.0   1422.61   4.59\n",
      "Platinum   327  3477213.0  10633.68  24.16\n",
      "Silver     161   122253.0    759.34   2.83\n"
     ]
    }
   ],
   "source": [
    "# Print Key Metrics\n",
    "print(\"\\nKey Growth Metrics:\")\n",
    "print(\"-\" * 50)\n",
    "print(f\"Total Revenue: ₹{df['amount'].sum():,.2f}\")\n",
    "print(f\"Total Unique Customers: {df['uid'].nunique():,}\")\n",
    "print(f\"Average Transaction Value: ₹{df['amount'].mean():,.2f}\")\n",
    "\n",
    "print(\"\\nSegment Analysis:\")\n",
    "print(\"-\" * 50)\n",
    "segment_analysis = user_spending.groupby('segment').agg({\n",
    "    'uid': 'count',\n",
    "    'sum': ['sum', 'mean'],\n",
    "    'count': 'mean'\n",
    "}).round(2)\n",
    "print(segment_analysis)"
   ]
  },
  {
   "cell_type": "markdown",
   "metadata": {},
   "source": [
    ">#### <font color=\"yellow\">  User Type Analysis : \n",
    " "
   ]
  },
  {
   "cell_type": "code",
   "execution_count": 108,
   "metadata": {},
   "outputs": [
    {
     "name": "stdout",
     "output_type": "stream",
     "text": [
      "\n",
      "User Engagement Analysis:\n",
      "--------------------------------------------------\n",
      "          consultationCount      totalRechargeAmount           \n",
      "                       mean  max                mean        sum\n",
      "role                                                           \n",
      "operation              1.00    5               53.69      536.9\n",
      "user                   0.17  538               23.64  1967655.2\n"
     ]
    }
   ],
   "source": [
    "#  User Engagement Analysis\n",
    "if 'consultationCount' in df1.columns:\n",
    "    print(\"\\nUser Engagement Analysis:\")\n",
    "    print(\"-\" * 50)\n",
    "    engagement_metrics = df1.groupby('role').agg({\n",
    "        'consultationCount': ['mean', 'max'],\n",
    "        'totalRechargeAmount': ['mean', 'sum']\n",
    "    }).round(2)\n",
    "    print(engagement_metrics)\n",
    "\n"
   ]
  },
  {
   "cell_type": "code",
   "execution_count": 110,
   "metadata": {},
   "outputs": [
    {
     "name": "stdout",
     "output_type": "stream",
     "text": [
      "\n",
      "Quarterly Growth Analysis:\n",
      "--------------------------------------------------\n",
      "  quarter     amount   uid  order id  revenue_growth\n",
      "0  2024Q2  1589069.0  1132      4581             NaN\n",
      "1  2024Q3  2413856.0  3744      8934       51.903788\n"
     ]
    },
    {
     "name": "stderr",
     "output_type": "stream",
     "text": [
      "C:\\Users\\mahik\\AppData\\Local\\Temp\\ipykernel_10584\\771303525.py:2: UserWarning: Converting to PeriodArray/Index representation will drop timezone information.\n",
      "  df['quarter'] = pd.to_datetime(df['istdate']).dt.to_period('Q')\n"
     ]
    }
   ],
   "source": [
    "#  Quarter-over-Quarter Analysis\n",
    "df['quarter'] = pd.to_datetime(df['istdate']).dt.to_period('Q')\n",
    "quarterly_revenue = df.groupby('quarter').agg({\n",
    "    'amount': 'sum',\n",
    "    'uid': 'nunique',\n",
    "    'order id': 'count'\n",
    "}).reset_index()\n",
    "\n",
    "quarterly_revenue['revenue_growth'] = quarterly_revenue['amount'].pct_change() * 100\n",
    "print(\"\\nQuarterly Growth Analysis:\")\n",
    "print(\"-\" * 50)\n",
    "print(quarterly_revenue)"
   ]
  },
  {
   "cell_type": "markdown",
   "metadata": {},
   "source": [
    ">### <font color=\"yellow\"> Customer segmentation Analysis : \n",
    "\n"
   ]
  },
  {
   "cell_type": "markdown",
   "metadata": {},
   "source": [
    "Performing Analysis based on uid feature :"
   ]
  },
  {
   "cell_type": "code",
   "execution_count": 111,
   "metadata": {},
   "outputs": [],
   "source": [
    "#  user-level transaction metrics\n",
    "user_transactions = df.groupby('uid').agg({\n",
    "    'amount': ['sum', 'mean', 'count'],\n",
    "    'order id': 'count',\n",
    "    'istdate': ['min', 'max']\n",
    "}).reset_index()\n",
    "\n",
    "# Flatten column names\n",
    "user_transactions.columns = ['uid', 'total_spend', 'avg_spend', 'transaction_count', \n",
    "                           'order_count', 'first_purchase', 'last_purchase']\n",
    "\n",
    "# Calculate recency and frequency metrics\n",
    "user_transactions['first_purchase'] = pd.to_datetime(user_transactions['first_purchase'])\n",
    "user_transactions['last_purchase'] = pd.to_datetime(user_transactions['last_purchase'])\n",
    "latest_date = user_transactions['last_purchase'].max()\n",
    "user_transactions['recency_days'] = (latest_date - user_transactions['last_purchase']).dt.days\n",
    "user_transactions['customer_lifetime_days'] = (user_transactions['last_purchase'] - user_transactions['first_purchase']).dt.days\n",
    "\n",
    "\n"
   ]
  },
  {
   "cell_type": "code",
   "execution_count": 115,
   "metadata": {},
   "outputs": [
    {
     "data": {
      "text/html": [
       "<div>\n",
       "<style scoped>\n",
       "    .dataframe tbody tr th:only-of-type {\n",
       "        vertical-align: middle;\n",
       "    }\n",
       "\n",
       "    .dataframe tbody tr th {\n",
       "        vertical-align: top;\n",
       "    }\n",
       "\n",
       "    .dataframe thead th {\n",
       "        text-align: right;\n",
       "    }\n",
       "</style>\n",
       "<table border=\"1\" class=\"dataframe\">\n",
       "  <thead>\n",
       "    <tr style=\"text-align: right;\">\n",
       "      <th></th>\n",
       "      <th>uid</th>\n",
       "      <th>total_spend</th>\n",
       "      <th>avg_spend</th>\n",
       "      <th>transaction_count</th>\n",
       "      <th>order_count</th>\n",
       "      <th>first_purchase</th>\n",
       "      <th>last_purchase</th>\n",
       "      <th>recency_days</th>\n",
       "      <th>customer_lifetime_days</th>\n",
       "    </tr>\n",
       "  </thead>\n",
       "  <tbody>\n",
       "    <tr>\n",
       "      <th>0</th>\n",
       "      <td>19</td>\n",
       "      <td>1.0</td>\n",
       "      <td>1.000000</td>\n",
       "      <td>1</td>\n",
       "      <td>1</td>\n",
       "      <td>2024-07-22 12:24:45.323000+00:00</td>\n",
       "      <td>2024-07-22 12:24:45.323000+00:00</td>\n",
       "      <td>19</td>\n",
       "      <td>0</td>\n",
       "    </tr>\n",
       "    <tr>\n",
       "      <th>1</th>\n",
       "      <td>162</td>\n",
       "      <td>1500.0</td>\n",
       "      <td>500.000000</td>\n",
       "      <td>3</td>\n",
       "      <td>3</td>\n",
       "      <td>2024-06-01 20:11:18.417000+00:00</td>\n",
       "      <td>2024-06-01 22:58:14.063000+00:00</td>\n",
       "      <td>70</td>\n",
       "      <td>0</td>\n",
       "    </tr>\n",
       "    <tr>\n",
       "      <th>2</th>\n",
       "      <td>437</td>\n",
       "      <td>96615.0</td>\n",
       "      <td>611.487342</td>\n",
       "      <td>158</td>\n",
       "      <td>158</td>\n",
       "      <td>2024-06-01 16:55:52.970000+00:00</td>\n",
       "      <td>2024-08-10 21:40:21.232000+00:00</td>\n",
       "      <td>0</td>\n",
       "      <td>70</td>\n",
       "    </tr>\n",
       "    <tr>\n",
       "      <th>3</th>\n",
       "      <td>463</td>\n",
       "      <td>16815.0</td>\n",
       "      <td>1201.071429</td>\n",
       "      <td>14</td>\n",
       "      <td>14</td>\n",
       "      <td>2024-07-06 15:01:31.218000+00:00</td>\n",
       "      <td>2024-08-05 23:43:36.122000+00:00</td>\n",
       "      <td>5</td>\n",
       "      <td>30</td>\n",
       "    </tr>\n",
       "    <tr>\n",
       "      <th>4</th>\n",
       "      <td>466</td>\n",
       "      <td>56675.0</td>\n",
       "      <td>1491.447368</td>\n",
       "      <td>38</td>\n",
       "      <td>38</td>\n",
       "      <td>2024-06-04 20:07:56.370000+00:00</td>\n",
       "      <td>2024-08-09 22:44:09.434000+00:00</td>\n",
       "      <td>1</td>\n",
       "      <td>66</td>\n",
       "    </tr>\n",
       "    <tr>\n",
       "      <th>5</th>\n",
       "      <td>477</td>\n",
       "      <td>4500.0</td>\n",
       "      <td>2250.000000</td>\n",
       "      <td>2</td>\n",
       "      <td>2</td>\n",
       "      <td>2024-06-10 17:35:46.071000+00:00</td>\n",
       "      <td>2024-07-31 22:54:05.239000+00:00</td>\n",
       "      <td>10</td>\n",
       "      <td>51</td>\n",
       "    </tr>\n",
       "    <tr>\n",
       "      <th>6</th>\n",
       "      <td>496</td>\n",
       "      <td>1420.0</td>\n",
       "      <td>710.000000</td>\n",
       "      <td>2</td>\n",
       "      <td>2</td>\n",
       "      <td>2024-06-26 16:59:41.922000+00:00</td>\n",
       "      <td>2024-06-26 17:10:06.266000+00:00</td>\n",
       "      <td>45</td>\n",
       "      <td>0</td>\n",
       "    </tr>\n",
       "    <tr>\n",
       "      <th>7</th>\n",
       "      <td>499</td>\n",
       "      <td>200.0</td>\n",
       "      <td>200.000000</td>\n",
       "      <td>1</td>\n",
       "      <td>1</td>\n",
       "      <td>2024-06-15 20:08:32.154000+00:00</td>\n",
       "      <td>2024-06-15 20:08:32.154000+00:00</td>\n",
       "      <td>56</td>\n",
       "      <td>0</td>\n",
       "    </tr>\n",
       "    <tr>\n",
       "      <th>8</th>\n",
       "      <td>523</td>\n",
       "      <td>31.0</td>\n",
       "      <td>15.500000</td>\n",
       "      <td>2</td>\n",
       "      <td>2</td>\n",
       "      <td>2024-08-06 16:24:37.865000+00:00</td>\n",
       "      <td>2024-08-06 16:25:40.831000+00:00</td>\n",
       "      <td>4</td>\n",
       "      <td>0</td>\n",
       "    </tr>\n",
       "    <tr>\n",
       "      <th>9</th>\n",
       "      <td>543</td>\n",
       "      <td>11640.0</td>\n",
       "      <td>684.705882</td>\n",
       "      <td>17</td>\n",
       "      <td>17</td>\n",
       "      <td>2024-06-09 13:54:05.298000+00:00</td>\n",
       "      <td>2024-08-07 09:20:07.086000+00:00</td>\n",
       "      <td>3</td>\n",
       "      <td>58</td>\n",
       "    </tr>\n",
       "  </tbody>\n",
       "</table>\n",
       "</div>"
      ],
      "text/plain": [
       "   uid  total_spend    avg_spend  transaction_count  order_count  \\\n",
       "0   19          1.0     1.000000                  1            1   \n",
       "1  162       1500.0   500.000000                  3            3   \n",
       "2  437      96615.0   611.487342                158          158   \n",
       "3  463      16815.0  1201.071429                 14           14   \n",
       "4  466      56675.0  1491.447368                 38           38   \n",
       "5  477       4500.0  2250.000000                  2            2   \n",
       "6  496       1420.0   710.000000                  2            2   \n",
       "7  499        200.0   200.000000                  1            1   \n",
       "8  523         31.0    15.500000                  2            2   \n",
       "9  543      11640.0   684.705882                 17           17   \n",
       "\n",
       "                    first_purchase                    last_purchase  \\\n",
       "0 2024-07-22 12:24:45.323000+00:00 2024-07-22 12:24:45.323000+00:00   \n",
       "1 2024-06-01 20:11:18.417000+00:00 2024-06-01 22:58:14.063000+00:00   \n",
       "2 2024-06-01 16:55:52.970000+00:00 2024-08-10 21:40:21.232000+00:00   \n",
       "3 2024-07-06 15:01:31.218000+00:00 2024-08-05 23:43:36.122000+00:00   \n",
       "4 2024-06-04 20:07:56.370000+00:00 2024-08-09 22:44:09.434000+00:00   \n",
       "5 2024-06-10 17:35:46.071000+00:00 2024-07-31 22:54:05.239000+00:00   \n",
       "6 2024-06-26 16:59:41.922000+00:00 2024-06-26 17:10:06.266000+00:00   \n",
       "7 2024-06-15 20:08:32.154000+00:00 2024-06-15 20:08:32.154000+00:00   \n",
       "8 2024-08-06 16:24:37.865000+00:00 2024-08-06 16:25:40.831000+00:00   \n",
       "9 2024-06-09 13:54:05.298000+00:00 2024-08-07 09:20:07.086000+00:00   \n",
       "\n",
       "   recency_days  customer_lifetime_days  \n",
       "0            19                       0  \n",
       "1            70                       0  \n",
       "2             0                      70  \n",
       "3             5                      30  \n",
       "4             1                      66  \n",
       "5            10                      51  \n",
       "6            45                       0  \n",
       "7            56                       0  \n",
       "8             4                       0  \n",
       "9             3                      58  "
      ]
     },
     "execution_count": 115,
     "metadata": {},
     "output_type": "execute_result"
    }
   ],
   "source": [
    "user_transactions.head(10)"
   ]
  },
  {
   "cell_type": "code",
   "execution_count": 113,
   "metadata": {},
   "outputs": [],
   "source": [
    "# Merge with user data\n",
    "customer_data = user_transactions.merge(df1, on='uid', how='left')\n"
   ]
  },
  {
   "cell_type": "markdown",
   "metadata": {},
   "source": [
    ">#### <font color=\"yellow\"> Segmenting customers based on Value , frequency , recency , engagement : \n"
   ]
  },
  {
   "cell_type": "code",
   "execution_count": 116,
   "metadata": {},
   "outputs": [],
   "source": [
    "#   Different Segmentation :\n",
    "\n",
    "#  Value-Based Segmentation\n",
    "def value_segment(row):\n",
    "    if row['total_spend'] >= 5000:\n",
    "        return 'High Value'\n",
    "    elif row['total_spend'] >= 2000:\n",
    "        return 'Medium Value'\n",
    "    else:\n",
    "        return 'Low Value'\n",
    "\n",
    "customer_data['value_segment'] = customer_data.apply(value_segment, axis=1)\n",
    "\n",
    "\n",
    "\n",
    "#  Engagement-Based Segmentation \n",
    "if 'consultationCount' in customer_data.columns:\n",
    "    def engagement_segment(row):\n",
    "        if row['consultationCount'] >= 10:\n",
    "            return 'Highly Engaged'\n",
    "        elif row['consultationCount'] >= 5:\n",
    "            return 'Moderately Engaged'\n",
    "        else:\n",
    "            return 'Low Engagement'\n",
    "    \n",
    "    customer_data['engagement_segment'] = customer_data.apply(engagement_segment, axis=1)\n",
    "\n",
    "\n",
    "\n",
    "#  Frequency-Based Segmentation\n",
    "def frequency_segment(row):\n",
    "    if row['transaction_count'] >= 5:\n",
    "        return 'Frequent'\n",
    "    elif row['transaction_count'] >= 2:\n",
    "        return 'Regular'\n",
    "    else:\n",
    "        return 'One-time'\n",
    "\n",
    "customer_data['frequency_segment'] = customer_data.apply(frequency_segment, axis=1)\n",
    "\n",
    "\n",
    "\n",
    "#  Recency-Based Segmentation\n",
    "def recency_segment(row):\n",
    "    if row['recency_days'] <= 30:\n",
    "        return 'Active'\n",
    "    elif row['recency_days'] <= 90:\n",
    "        return 'Recent'\n",
    "    else:\n",
    "        return 'Inactive'\n",
    "\n",
    "customer_data['recency_segment'] = customer_data.apply(recency_segment, axis=1)"
   ]
  },
  {
   "cell_type": "code",
   "execution_count": 119,
   "metadata": {},
   "outputs": [
    {
     "data": {
      "text/html": [
       "<div>\n",
       "<style scoped>\n",
       "    .dataframe tbody tr th:only-of-type {\n",
       "        vertical-align: middle;\n",
       "    }\n",
       "\n",
       "    .dataframe tbody tr th {\n",
       "        vertical-align: top;\n",
       "    }\n",
       "\n",
       "    .dataframe thead th {\n",
       "        text-align: right;\n",
       "    }\n",
       "</style>\n",
       "<table border=\"1\" class=\"dataframe\">\n",
       "  <thead>\n",
       "    <tr style=\"text-align: right;\">\n",
       "      <th></th>\n",
       "      <th>uid</th>\n",
       "      <th>value_segment</th>\n",
       "      <th>engagement_segment</th>\n",
       "      <th>frequency_segment</th>\n",
       "      <th>recency_segment</th>\n",
       "    </tr>\n",
       "  </thead>\n",
       "  <tbody>\n",
       "    <tr>\n",
       "      <th>0</th>\n",
       "      <td>19</td>\n",
       "      <td>Low Value</td>\n",
       "      <td>Low Engagement</td>\n",
       "      <td>One-time</td>\n",
       "      <td>Active</td>\n",
       "    </tr>\n",
       "    <tr>\n",
       "      <th>1</th>\n",
       "      <td>162</td>\n",
       "      <td>Low Value</td>\n",
       "      <td>Low Engagement</td>\n",
       "      <td>Regular</td>\n",
       "      <td>Recent</td>\n",
       "    </tr>\n",
       "    <tr>\n",
       "      <th>2</th>\n",
       "      <td>437</td>\n",
       "      <td>High Value</td>\n",
       "      <td>Low Engagement</td>\n",
       "      <td>Frequent</td>\n",
       "      <td>Active</td>\n",
       "    </tr>\n",
       "    <tr>\n",
       "      <th>3</th>\n",
       "      <td>463</td>\n",
       "      <td>High Value</td>\n",
       "      <td>Low Engagement</td>\n",
       "      <td>Frequent</td>\n",
       "      <td>Active</td>\n",
       "    </tr>\n",
       "    <tr>\n",
       "      <th>4</th>\n",
       "      <td>466</td>\n",
       "      <td>High Value</td>\n",
       "      <td>Low Engagement</td>\n",
       "      <td>Frequent</td>\n",
       "      <td>Active</td>\n",
       "    </tr>\n",
       "    <tr>\n",
       "      <th>...</th>\n",
       "      <td>...</td>\n",
       "      <td>...</td>\n",
       "      <td>...</td>\n",
       "      <td>...</td>\n",
       "      <td>...</td>\n",
       "    </tr>\n",
       "    <tr>\n",
       "      <th>4504</th>\n",
       "      <td>273086</td>\n",
       "      <td>Low Value</td>\n",
       "      <td>Low Engagement</td>\n",
       "      <td>One-time</td>\n",
       "      <td>Active</td>\n",
       "    </tr>\n",
       "    <tr>\n",
       "      <th>4505</th>\n",
       "      <td>273098</td>\n",
       "      <td>Low Value</td>\n",
       "      <td>Low Engagement</td>\n",
       "      <td>Regular</td>\n",
       "      <td>Active</td>\n",
       "    </tr>\n",
       "    <tr>\n",
       "      <th>4506</th>\n",
       "      <td>273102</td>\n",
       "      <td>Low Value</td>\n",
       "      <td>Low Engagement</td>\n",
       "      <td>One-time</td>\n",
       "      <td>Active</td>\n",
       "    </tr>\n",
       "    <tr>\n",
       "      <th>4507</th>\n",
       "      <td>316468</td>\n",
       "      <td>Low Value</td>\n",
       "      <td>Low Engagement</td>\n",
       "      <td>Regular</td>\n",
       "      <td>Active</td>\n",
       "    </tr>\n",
       "    <tr>\n",
       "      <th>4508</th>\n",
       "      <td>210352222</td>\n",
       "      <td>Low Value</td>\n",
       "      <td>Low Engagement</td>\n",
       "      <td>Regular</td>\n",
       "      <td>Active</td>\n",
       "    </tr>\n",
       "  </tbody>\n",
       "</table>\n",
       "<p>4509 rows × 5 columns</p>\n",
       "</div>"
      ],
      "text/plain": [
       "            uid value_segment engagement_segment frequency_segment  \\\n",
       "0            19     Low Value     Low Engagement          One-time   \n",
       "1           162     Low Value     Low Engagement           Regular   \n",
       "2           437    High Value     Low Engagement          Frequent   \n",
       "3           463    High Value     Low Engagement          Frequent   \n",
       "4           466    High Value     Low Engagement          Frequent   \n",
       "...         ...           ...                ...               ...   \n",
       "4504     273086     Low Value     Low Engagement          One-time   \n",
       "4505     273098     Low Value     Low Engagement           Regular   \n",
       "4506     273102     Low Value     Low Engagement          One-time   \n",
       "4507     316468     Low Value     Low Engagement           Regular   \n",
       "4508  210352222     Low Value     Low Engagement           Regular   \n",
       "\n",
       "     recency_segment  \n",
       "0             Active  \n",
       "1             Recent  \n",
       "2             Active  \n",
       "3             Active  \n",
       "4             Active  \n",
       "...              ...  \n",
       "4504          Active  \n",
       "4505          Active  \n",
       "4506          Active  \n",
       "4507          Active  \n",
       "4508          Active  \n",
       "\n",
       "[4509 rows x 5 columns]"
      ]
     },
     "execution_count": 119,
     "metadata": {},
     "output_type": "execute_result"
    }
   ],
   "source": [
    "customer_data[[\"uid\", \"value_segment\",\"engagement_segment\",\"frequency_segment\",\"recency_segment\"]]"
   ]
  },
  {
   "cell_type": "markdown",
   "metadata": {},
   "source": [
    ">### <font color=\"yellow\"> Customer segmentation Analysis & Visulization :\n"
   ]
  },
  {
   "cell_type": "code",
   "execution_count": 121,
   "metadata": {},
   "outputs": [
    {
     "data": {
      "image/png": "[encoded data removed]",
      "text/plain": [
       "<Figure size 1500x500 with 3 Axes>"
      ]
     },
     "metadata": {},
     "output_type": "display_data"
    }
   ],
   "source": [
    "#  Value Segmentation Distribution\n",
    "plt.figure(figsize=(15, 5))\n",
    "plt.subplot(1, 3, 1)\n",
    "value_dist = customer_data['value_segment'].value_counts()\n",
    "plt.pie(value_dist, labels=value_dist.index, autopct='%1.1f%%')\n",
    "plt.title('Customer Value Distribution')\n",
    "\n",
    "#  Frequency Segmentation\n",
    "plt.subplot(1, 3, 2)\n",
    "freq_dist = customer_data['frequency_segment'].value_counts()\n",
    "plt.pie(freq_dist, labels=freq_dist.index, autopct='%1.1f%%')\n",
    "plt.title('Customer Frequency Distribution')\n",
    "\n",
    "#  Recency Segmentation\n",
    "plt.subplot(1, 3, 3)\n",
    "recency_dist = customer_data['recency_segment'].value_counts()\n",
    "plt.pie(recency_dist, labels=recency_dist.index, autopct='%1.1f%%')\n",
    "plt.title('Customer Recency Distribution')\n",
    "plt.tight_layout()\n",
    "plt.show()\n"
   ]
  },
  {
   "cell_type": "code",
   "execution_count": 122,
   "metadata": {},
   "outputs": [
    {
     "name": "stdout",
     "output_type": "stream",
     "text": [
      "\n",
      "Value Segment Analysis:\n",
      "--------------------------------------------------\n",
      "                uid total_spend            transaction_count\n",
      "              count        mean        sum              mean\n",
      "value_segment                                               \n",
      "High Value      162    18168.75  2943338.0             39.89\n",
      "Low Value      4179      124.36   519712.0              1.34\n",
      "Medium Value    168     3213.54   539875.0              8.60\n"
     ]
    }
   ],
   "source": [
    "# Segment Analysis\n",
    "print(\"Value Segment Analysis:\")\n",
    "print(\"-\" * 50)\n",
    "value_analysis = customer_data.groupby('value_segment').agg({\n",
    "    'uid': 'count',\n",
    "    'total_spend': ['mean', 'sum'],\n",
    "    'transaction_count': 'mean'\n",
    "}).round(2)\n",
    "print(value_analysis)"
   ]
  },
  {
   "cell_type": "code",
   "execution_count": 123,
   "metadata": {},
   "outputs": [
    {
     "name": "stdout",
     "output_type": "stream",
     "text": [
      "Frequency Segment Analysis:\n",
      "--------------------------------------------------\n",
      "                    uid total_spend            transaction_count\n",
      "                  count        mean        sum              mean\n",
      "frequency_segment                                               \n",
      "Frequent            364     9412.72  3426231.0             22.88\n",
      "One-time           3394       48.60   164963.0              1.00\n",
      "Regular             751      548.24   411731.0              2.39\n"
     ]
    }
   ],
   "source": [
    "print(\"Frequency Segment Analysis:\")\n",
    "print(\"-\" * 50)\n",
    "freq_analysis = customer_data.groupby('frequency_segment').agg({\n",
    "    'uid': 'count',\n",
    "    'total_spend': ['mean', 'sum'],\n",
    "    'transaction_count': 'mean'\n",
    "}).round(2)\n",
    "print(freq_analysis)"
   ]
  },
  {
   "cell_type": "code",
   "execution_count": 124,
   "metadata": {},
   "outputs": [
    {
     "name": "stdout",
     "output_type": "stream",
     "text": [
      "\n",
      "Cross-Segment Analysis (Value vs Frequency):\n",
      "--------------------------------------------------\n",
      "frequency_segment  Frequent  One-time  Regular\n",
      "value_segment                                 \n",
      "High Value              158         0        4\n",
      "Low Value                88      3389      702\n",
      "Medium Value            118         5       45\n"
     ]
    }
   ],
   "source": [
    "#  Cross-Segment Analysis\n",
    "print(\"Cross-Segment Analysis (Value vs Frequency):\")\n",
    "print(\"-\" * 50)\n",
    "cross_segment = pd.crosstab(customer_data['value_segment'], \n",
    "                           customer_data['frequency_segment'])\n",
    "print(cross_segment)"
   ]
  },
  {
   "cell_type": "code",
   "execution_count": 126,
   "metadata": {},
   "outputs": [
    {
     "name": "stdout",
     "output_type": "stream",
     "text": [
      "\n",
      "Engagement Analysis:\n",
      "--------------------------------------------------\n",
      "                     uid total_spend            consultationCount\n",
      "                   count        mean        sum              mean\n",
      "engagement_segment                                               \n",
      "Highly Engaged        64     5932.91   379706.0             55.56\n",
      "Low Engagement      4376      814.92  3566076.0              0.45\n",
      "Moderately Engaged    69      828.16    57143.0              6.25\n"
     ]
    }
   ],
   "source": [
    "\n",
    "# Engagement Analysis \n",
    "if 'engagement_segment' in customer_data.columns:\n",
    "    print(\"\\nEngagement Analysis:\")\n",
    "    print(\"-\" * 50)\n",
    "    engagement_analysis = customer_data.groupby('engagement_segment').agg({\n",
    "        'uid': 'count',\n",
    "        'total_spend': ['mean', 'sum'],\n",
    "        'consultationCount': 'mean'\n",
    "    }).round(2)\n",
    "    print(engagement_analysis)"
   ]
  },
  {
   "cell_type": "markdown",
   "metadata": {},
   "source": [
    ">### <font color=\"yellow\">  Recommendations :\n",
    "\n",
    "Based on the analysis, here are specific actionable recommendations:\n",
    "\n",
    "#### Customer Retention & Reactivation:\n",
    "\n",
    "No matter how good the product there will be users who want to leave the platform \n",
    "\n",
    "However if we focus on the existing users who spent more and who uses the platfore more we could have a better retention rate\n",
    "\n",
    "Create personalized win-back campaigns for inactive customers who previously spent over ₹2000\n",
    "\n",
    "Send special offers to customers who haven't transacted in the last 90 days\n",
    "\n",
    "Implement an early warning system to identify customers showing declining engagement patterns\n",
    "\n",
    "#### High-Value Customer Growth:\n",
    "\n",
    "Platinum segment is our MVP users who uses our product regualrly and these are our loyal customers \n",
    "\n",
    "However the percentage users of platinum segement is low compared to other \n",
    "\n",
    "We need to employ strategies that could conver the existing gold to platinum users by offering ,\n",
    "\n",
    "a free trail about what the platinum feels like and platinum users : \n",
    "\n",
    "Design a VIP program for customers in the 'Platinum' segment\n",
    "\n",
    "Offer priority consultation slots for customers with high transaction frequency\n",
    "\n",
    "Create exclusive service packages for customers with average transactions above ₹1000\n",
    "\n",
    "#### New Customer Acquisition Strategy:\n",
    "\n",
    "Focus marketing during months that showed highest new user acquisition\n",
    "\n",
    "Since the data is for only two months it would be hard to make a comment on peak business months\n",
    "\n",
    "Create starter packages priced around the average first-time purchase amount\n",
    "\n",
    "Implement referral rewards program targeting high-value customers -- Platinum & gold especially\n",
    "\n",
    "#### Service Enhancement:\n",
    "\n",
    "Optimize consultation availability during peak transaction hours\n",
    "\n",
    "Introduce tiered service levels based on customer segment analysis\n",
    "\n",
    "Develop new service packages based on common transaction amounts\n",
    "\n",
    "#### Pricing Optimization:\n",
    "\n",
    "> <font color=\"yellow\"> Total amount contributed by the users to the platform is 4002925.0 in june-july time frame\n",
    "\n",
    "\n",
    "> <font color=\"yellow\"> Average , median and Max amount contributed by the users to the platform :  296.183870\t ,   200.000000  &  5000.000000\t\n",
    "\n",
    "\n",
    "We could observe that even though count of exisitng , new users  is almost equal however the total amount ,\n",
    "\n",
    "mean of amount contributed by existing users is far greater than new users this could mean new users want to test out the platform and skeptical to spend more\n",
    "\n",
    "\n",
    "Introduce bundle pricing for frequently combined services\n",
    "\n",
    "Create subscription models for regular users\n",
    "\n",
    "Design special packages for first-time users based on successful conversion patterns\n",
    "\n",
    "#### Engagement Improvement:\n",
    "\n",
    "> <font color=\"yellow\"> After spending some time i.e after a month we could see that the average transaction amount is higher for the first month of the cohort , however the retention rate is lower\n",
    "\n",
    "> Regular users are low when compared to one time users , we need to focus on making our product as a part of their day to day life\n",
    "\n",
    "Send targeted reminders to customers based on their typical transaction frequency\n",
    "\n",
    "Create engagement-based rewards program\n",
    "\n",
    "Implement milestone-based recognition system\n",
    "\n",
    "#### Revenue Growth Initiatives:\n",
    "\n",
    "Focus promotional activities during historically high-revenue months\n",
    "\n",
    "Create upsell opportunities for customers showing increased engagement\n",
    "\n",
    "Design retention offers triggered by specific customer behaviors"
   ]
  }
 ],
 "metadata": {
  "kernelspec": {
   "display_name": "Python 3",
   "language": "python",
   "name": "python3"
  },
  "language_info": {
   "codemirror_mode": {
    "name": "ipython",
    "version": 3
   },
   "file_extension": ".py",
   "mimetype": "text/x-python",
   "name": "python",
   "nbconvert_exporter": "python",
   "pygments_lexer": "ipython3",
   "version": "3.10.7"
  }
 },
 "nbformat": 4,
 "nbformat_minor": 2
}
